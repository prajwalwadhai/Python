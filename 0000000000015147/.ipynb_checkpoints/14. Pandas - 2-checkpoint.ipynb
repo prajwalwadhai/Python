{
 "cells": [
  {
   "cell_type": "code",
   "execution_count": null,
   "id": "51e70b8e",
   "metadata": {},
   "outputs": [],
   "source": [
    "import pandas as pd\n",
    "sales = [3000, 4000, 5000, 7000, 10000]\n",
    "profits = [233, 788, 90, 855, 900]\n",
    "products = ['P1', 'P2', 'P3', 'P4', 'P5']"
   ]
  },
  {
   "cell_type": "code",
   "execution_count": null,
   "id": "34c91900",
   "metadata": {},
   "outputs": [],
   "source": [
    "sales_series = pd.Series(sales, index = products)\n",
    "profits_series = pd.Series(profits, index = products)\n"
   ]
  },
  {
   "cell_type": "code",
   "execution_count": null,
   "id": "76157f39",
   "metadata": {},
   "outputs": [],
   "source": [
    "sales_series"
   ]
  },
  {
   "cell_type": "code",
   "execution_count": null,
   "id": "ce1887c1",
   "metadata": {},
   "outputs": [],
   "source": [
    "profits_series"
   ]
  },
  {
   "cell_type": "code",
   "execution_count": null,
   "id": "5eed5ae2",
   "metadata": {},
   "outputs": [],
   "source": [
    "# TO combine two series, we have to give each series a name and glue them together , that's when it becomes data"
   ]
  },
  {
   "cell_type": "code",
   "execution_count": null,
   "id": "1618ec09",
   "metadata": {},
   "outputs": [],
   "source": [
    "# Dictionary is used a glue\n",
    "pd.DataFrame({'sales':sales_series, 'profits': profits_series })"
   ]
  },
  {
   "cell_type": "code",
   "execution_count": null,
   "id": "c47c3b9b",
   "metadata": {},
   "outputs": [],
   "source": [
    "qty_series = pd.Series([3,4,7,9,11], index = ['P1', 'P2', 'P3', 'P4', 'P5'])"
   ]
  },
  {
   "cell_type": "code",
   "execution_count": null,
   "id": "065a7e96",
   "metadata": {},
   "outputs": [],
   "source": [
    "pd.DataFrame({'sales':sales_series, 'profits': profits_series, 'quantity':qty_series})"
   ]
  },
  {
   "cell_type": "code",
   "execution_count": null,
   "id": "a3ede03f",
   "metadata": {},
   "outputs": [],
   "source": [
    "sales = [3000, 4000, 5000, 7000, 10000]\n",
    "profits = [233, 788, 90, 855, 900]\n",
    "products = ['P1', 'P2', 'P3', 'P4', 'P5']\n",
    "qty= [3,4,7,9,11]\n",
    "# I don't want to convert them into Series and then glue, can I do it directly?\n"
   ]
  },
  {
   "cell_type": "code",
   "execution_count": null,
   "id": "f193e418",
   "metadata": {},
   "outputs": [],
   "source": [
    "# Products is now coming as a Data Series\n",
    "pd.DataFrame({'sales': sales, 'profits': profits,  'quantity': qty, 'products': products})\n",
    "# Lists became data series which were stacked together"
   ]
  },
  {
   "cell_type": "code",
   "execution_count": null,
   "id": "8fab0408",
   "metadata": {},
   "outputs": [],
   "source": [
    "# What if you want products as indexes\n",
    "df = pd.DataFrame({'sales': sales, 'profits': profits,  'quantity': qty}, index = products)\n",
    "df"
   ]
  },
  {
   "cell_type": "code",
   "execution_count": null,
   "id": "98f17085",
   "metadata": {},
   "outputs": [],
   "source": [
    "# In this data frame - sales is what? - A data Series, profits - Data Series\n",
    "df.index"
   ]
  },
  {
   "cell_type": "code",
   "execution_count": null,
   "id": "95342a39",
   "metadata": {},
   "outputs": [],
   "source": [
    "# What if I take out a row horizontally - what is it?\n",
    "# A data Series\n",
    "# For vertical data series indexes are indexes\n",
    "# For horizontal data series - indexes are column names"
   ]
  },
  {
   "cell_type": "code",
   "execution_count": null,
   "id": "03de2254",
   "metadata": {},
   "outputs": [],
   "source": [
    "df"
   ]
  },
  {
   "cell_type": "code",
   "execution_count": null,
   "id": "cc662601",
   "metadata": {},
   "outputs": [],
   "source": [
    "# Now comes the question how do we take these data series out?\n",
    "df['sales']\n",
    "# How will you take out the horizontal data series\n",
    "# You have to tell him that I want a row data series(horizontal data series) and not a column data series(vertical)\n",
    "df.loc['P1']\n"
   ]
  },
  {
   "cell_type": "code",
   "execution_count": null,
   "id": "bc03c951",
   "metadata": {},
   "outputs": [],
   "source": [
    "df = pd.DataFrame({'Total Sale': [1000,2000,3000, 4000], 'Total Profit': [100,200,300, 400]}, index = ['Store 1', 'Store 2', 'Store 3', 'Store 4'])\n",
    "df"
   ]
  },
  {
   "cell_type": "code",
   "execution_count": 7,
   "id": "3b072d45",
   "metadata": {},
   "outputs": [
    {
     "data": {
      "text/html": [
       "<div>\n",
       "<style scoped>\n",
       "    .dataframe tbody tr th:only-of-type {\n",
       "        vertical-align: middle;\n",
       "    }\n",
       "\n",
       "    .dataframe tbody tr th {\n",
       "        vertical-align: top;\n",
       "    }\n",
       "\n",
       "    .dataframe thead th {\n",
       "        text-align: right;\n",
       "    }\n",
       "</style>\n",
       "<table border=\"1\" class=\"dataframe\">\n",
       "  <thead>\n",
       "    <tr style=\"text-align: right;\">\n",
       "      <th></th>\n",
       "      <th>ID</th>\n",
       "      <th>Name</th>\n",
       "      <th>Age</th>\n",
       "      <th>City</th>\n",
       "      <th>Score</th>\n",
       "    </tr>\n",
       "  </thead>\n",
       "  <tbody>\n",
       "    <tr>\n",
       "      <th>0</th>\n",
       "      <td>1</td>\n",
       "      <td>Person_1</td>\n",
       "      <td>56</td>\n",
       "      <td>New York</td>\n",
       "      <td>6.355835</td>\n",
       "    </tr>\n",
       "    <tr>\n",
       "      <th>1</th>\n",
       "      <td>2</td>\n",
       "      <td>Person_2</td>\n",
       "      <td>46</td>\n",
       "      <td>Houston</td>\n",
       "      <td>31.098232</td>\n",
       "    </tr>\n",
       "    <tr>\n",
       "      <th>2</th>\n",
       "      <td>3</td>\n",
       "      <td>Person_3</td>\n",
       "      <td>32</td>\n",
       "      <td>Los Angeles</td>\n",
       "      <td>32.518332</td>\n",
       "    </tr>\n",
       "    <tr>\n",
       "      <th>3</th>\n",
       "      <td>4</td>\n",
       "      <td>Person_4</td>\n",
       "      <td>25</td>\n",
       "      <td>Houston</td>\n",
       "      <td>72.960618</td>\n",
       "    </tr>\n",
       "    <tr>\n",
       "      <th>4</th>\n",
       "      <td>5</td>\n",
       "      <td>Person_5</td>\n",
       "      <td>38</td>\n",
       "      <td>Los Angeles</td>\n",
       "      <td>63.755747</td>\n",
       "    </tr>\n",
       "    <tr>\n",
       "      <th>5</th>\n",
       "      <td>6</td>\n",
       "      <td>Person_6</td>\n",
       "      <td>56</td>\n",
       "      <td>Los Angeles</td>\n",
       "      <td>88.721274</td>\n",
       "    </tr>\n",
       "    <tr>\n",
       "      <th>6</th>\n",
       "      <td>7</td>\n",
       "      <td>Person_7</td>\n",
       "      <td>36</td>\n",
       "      <td>Houston</td>\n",
       "      <td>47.221493</td>\n",
       "    </tr>\n",
       "    <tr>\n",
       "      <th>7</th>\n",
       "      <td>8</td>\n",
       "      <td>Person_8</td>\n",
       "      <td>40</td>\n",
       "      <td>Phoenix</td>\n",
       "      <td>11.959425</td>\n",
       "    </tr>\n",
       "    <tr>\n",
       "      <th>8</th>\n",
       "      <td>9</td>\n",
       "      <td>Person_9</td>\n",
       "      <td>28</td>\n",
       "      <td>Los Angeles</td>\n",
       "      <td>71.324479</td>\n",
       "    </tr>\n",
       "    <tr>\n",
       "      <th>9</th>\n",
       "      <td>10</td>\n",
       "      <td>Person_10</td>\n",
       "      <td>28</td>\n",
       "      <td>Los Angeles</td>\n",
       "      <td>76.078505</td>\n",
       "    </tr>\n",
       "    <tr>\n",
       "      <th>10</th>\n",
       "      <td>11</td>\n",
       "      <td>Person_11</td>\n",
       "      <td>41</td>\n",
       "      <td>Houston</td>\n",
       "      <td>56.127720</td>\n",
       "    </tr>\n",
       "    <tr>\n",
       "      <th>11</th>\n",
       "      <td>12</td>\n",
       "      <td>Person_12</td>\n",
       "      <td>53</td>\n",
       "      <td>Los Angeles</td>\n",
       "      <td>77.096718</td>\n",
       "    </tr>\n",
       "    <tr>\n",
       "      <th>12</th>\n",
       "      <td>13</td>\n",
       "      <td>Person_13</td>\n",
       "      <td>57</td>\n",
       "      <td>Los Angeles</td>\n",
       "      <td>49.379560</td>\n",
       "    </tr>\n",
       "    <tr>\n",
       "      <th>13</th>\n",
       "      <td>14</td>\n",
       "      <td>Person_14</td>\n",
       "      <td>41</td>\n",
       "      <td>Houston</td>\n",
       "      <td>52.273283</td>\n",
       "    </tr>\n",
       "    <tr>\n",
       "      <th>14</th>\n",
       "      <td>15</td>\n",
       "      <td>Person_15</td>\n",
       "      <td>20</td>\n",
       "      <td>Houston</td>\n",
       "      <td>42.754102</td>\n",
       "    </tr>\n",
       "    <tr>\n",
       "      <th>15</th>\n",
       "      <td>16</td>\n",
       "      <td>Person_16</td>\n",
       "      <td>39</td>\n",
       "      <td>New York</td>\n",
       "      <td>2.541913</td>\n",
       "    </tr>\n",
       "    <tr>\n",
       "      <th>16</th>\n",
       "      <td>17</td>\n",
       "      <td>Person_17</td>\n",
       "      <td>19</td>\n",
       "      <td>Phoenix</td>\n",
       "      <td>10.789143</td>\n",
       "    </tr>\n",
       "    <tr>\n",
       "      <th>17</th>\n",
       "      <td>18</td>\n",
       "      <td>Person_18</td>\n",
       "      <td>41</td>\n",
       "      <td>Phoenix</td>\n",
       "      <td>3.142919</td>\n",
       "    </tr>\n",
       "    <tr>\n",
       "      <th>18</th>\n",
       "      <td>19</td>\n",
       "      <td>Person_19</td>\n",
       "      <td>47</td>\n",
       "      <td>Los Angeles</td>\n",
       "      <td>63.641041</td>\n",
       "    </tr>\n",
       "    <tr>\n",
       "      <th>19</th>\n",
       "      <td>20</td>\n",
       "      <td>Person_20</td>\n",
       "      <td>55</td>\n",
       "      <td>Phoenix</td>\n",
       "      <td>31.435598</td>\n",
       "    </tr>\n",
       "  </tbody>\n",
       "</table>\n",
       "</div>"
      ],
      "text/plain": [
       "    ID       Name  Age         City      Score\n",
       "0    1   Person_1   56     New York   6.355835\n",
       "1    2   Person_2   46      Houston  31.098232\n",
       "2    3   Person_3   32  Los Angeles  32.518332\n",
       "3    4   Person_4   25      Houston  72.960618\n",
       "4    5   Person_5   38  Los Angeles  63.755747\n",
       "5    6   Person_6   56  Los Angeles  88.721274\n",
       "6    7   Person_7   36      Houston  47.221493\n",
       "7    8   Person_8   40      Phoenix  11.959425\n",
       "8    9   Person_9   28  Los Angeles  71.324479\n",
       "9   10  Person_10   28  Los Angeles  76.078505\n",
       "10  11  Person_11   41      Houston  56.127720\n",
       "11  12  Person_12   53  Los Angeles  77.096718\n",
       "12  13  Person_13   57  Los Angeles  49.379560\n",
       "13  14  Person_14   41      Houston  52.273283\n",
       "14  15  Person_15   20      Houston  42.754102\n",
       "15  16  Person_16   39     New York   2.541913\n",
       "16  17  Person_17   19      Phoenix  10.789143\n",
       "17  18  Person_18   41      Phoenix   3.142919\n",
       "18  19  Person_19   47  Los Angeles  63.641041\n",
       "19  20  Person_20   55      Phoenix  31.435598"
      ]
     },
     "execution_count": 7,
     "metadata": {},
     "output_type": "execute_result"
    }
   ],
   "source": [
    "import pandas as pd\n",
    "import numpy as np\n",
    "\n",
    "# Set seed for reproducibility\n",
    "np.random.seed(42)\n",
    "\n",
    "# Generate sample data\n",
    "data = {\n",
    "    'ID': range(1, 51),  # 50 unique IDs\n",
    "    'Name': ['Person_' + str(i) for i in range(1, 51)],  # Names from Person_1 to Person_50\n",
    "    'Age': np.random.randint(18, 60, size=50),  # Random ages between 18 and 60\n",
    "    'City': np.random.choice(['New York', 'Los Angeles', 'Chicago', 'Houston', 'Phoenix'], size=50),\n",
    "    'Score': np.random.uniform(0, 100, size=50)  # Random scores between 0 and 100\n",
    "}\n",
    "\n",
    "# Create the DataFrame\n",
    "df = pd.DataFrame(data).head(20)\n",
    "df"
   ]
  },
  {
   "cell_type": "code",
   "execution_count": null,
   "id": "e115cfa9",
   "metadata": {},
   "outputs": [],
   "source": [
    "# Find the data series for index - 14\n",
    "df.loc[14]"
   ]
  },
  {
   "cell_type": "code",
   "execution_count": null,
   "id": "8780b176",
   "metadata": {},
   "outputs": [],
   "source": [
    "# Find the data series for 'City'\n",
    "df['City']"
   ]
  },
  {
   "cell_type": "code",
   "execution_count": null,
   "id": "6b09f9c6",
   "metadata": {},
   "outputs": [],
   "source": [
    "# Give me City and Score together as Data Series\n",
    "# Two data Series together will give me Data Frame\n",
    "# DOn't do it\n",
    "# df['City', 'Score']\n",
    "df[['City', 'Score']]"
   ]
  },
  {
   "cell_type": "code",
   "execution_count": null,
   "id": "80b3671e",
   "metadata": {},
   "outputs": [],
   "source": [
    "df['City']\n"
   ]
  },
  {
   "cell_type": "code",
   "execution_count": null,
   "id": "4ff653df",
   "metadata": {},
   "outputs": [],
   "source": [
    "# Pull a single series but as a DataFRame\n",
    "df[['City']]"
   ]
  },
  {
   "cell_type": "code",
   "execution_count": null,
   "id": "47a2d9f7",
   "metadata": {},
   "outputs": [],
   "source": [
    "# Questions\n",
    "# 1. Give Name as a Data Series\n",
    "# 2. Give Name and City \n",
    "# 3. Give score as a DataFrame\n",
    "df['Name']\n",
    "df[['Name', 'City']]\n",
    "df[['Score']]"
   ]
  },
  {
   "cell_type": "code",
   "execution_count": null,
   "id": "9f16514e",
   "metadata": {},
   "outputs": [],
   "source": [
    "# Question\n",
    "# Give me row number 3,4 together\n",
    "# Give me row number 3 only as Data Series\n",
    "# GIve me row number 3 only as DataFRame\n",
    "df.loc[[3,4]]\n",
    "df.loc[3]\n",
    "df.loc[[3]]"
   ]
  },
  {
   "cell_type": "code",
   "execution_count": null,
   "id": "b6e8204e",
   "metadata": {},
   "outputs": [],
   "source": [
    "df['Score']"
   ]
  },
  {
   "cell_type": "code",
   "execution_count": null,
   "id": "f650af27",
   "metadata": {},
   "outputs": [],
   "source": [
    "df.loc[3]"
   ]
  },
  {
   "cell_type": "code",
   "execution_count": null,
   "id": "c581efcf",
   "metadata": {},
   "outputs": [],
   "source": [
    "df.loc[[3]]"
   ]
  },
  {
   "cell_type": "code",
   "execution_count": null,
   "id": "b60ae8f1",
   "metadata": {},
   "outputs": [],
   "source": [
    "# Data Series is neither horizontal nor vertical \n",
    "# So what is it?\n",
    "# It is like water, it will the shape of the vessel - if you put in a row, it becomes horizontal, if you put it in column - vertical"
   ]
  },
  {
   "cell_type": "code",
   "execution_count": null,
   "id": "bfb98a75",
   "metadata": {},
   "outputs": [],
   "source": [
    "df"
   ]
  },
  {
   "cell_type": "code",
   "execution_count": null,
   "id": "617480ef",
   "metadata": {},
   "outputs": [],
   "source": [
    "# Pull the row number 3 to 9\n",
    "# in Data Series - Last index - included\n",
    "# In lists it is not included\n",
    "# x:y -> acts like a list\n",
    "df.loc[3:9]"
   ]
  },
  {
   "cell_type": "code",
   "execution_count": null,
   "id": "51cd7cff",
   "metadata": {},
   "outputs": [],
   "source": [
    "lst = [1,2,3,4,5,5]\n",
    "# lst[0:4]"
   ]
  },
  {
   "cell_type": "code",
   "execution_count": null,
   "id": "4ec91334",
   "metadata": {},
   "outputs": [],
   "source": [
    "# find all the details of those people whose age is >50\n",
    "lolo = df['Age']>50\n",
    "df.loc[lolo]"
   ]
  },
  {
   "cell_type": "code",
   "execution_count": null,
   "id": "4e7dd3fa",
   "metadata": {},
   "outputs": [],
   "source": [
    "# Find all the details of people whose age >50 and are from Los Angeles\n",
    "lolo = (df['Age']>50) & (df['City'] == 'Los Angeles')\n",
    "df.loc[lolo]"
   ]
  },
  {
   "cell_type": "code",
   "execution_count": null,
   "id": "5a0a91d0",
   "metadata": {},
   "outputs": [],
   "source": [
    "# I want Name and Age of people from rows 5 and 6\n",
    "dff = df.loc[[5,6]]\n",
    "dff[['Name', 'Age']]\n",
    "df.loc[[5,6]][['Name', 'Age']]"
   ]
  },
  {
   "cell_type": "code",
   "execution_count": null,
   "id": "f08a284c",
   "metadata": {},
   "outputs": [],
   "source": [
    "# One more way- \n",
    "dff.loc[[5,6],['Name', 'Age']]"
   ]
  },
  {
   "cell_type": "code",
   "execution_count": null,
   "id": "f3333ee9",
   "metadata": {},
   "outputs": [],
   "source": [
    "df[['Name', 'Age']].loc[[5,6]]\n",
    "# dff.loc[[5,6]]"
   ]
  },
  {
   "cell_type": "code",
   "execution_count": null,
   "id": "8efdbf6e",
   "metadata": {},
   "outputs": [],
   "source": [
    "# Names of people from row number 5 to row number 11 as Data Series\n",
    "# Names of people from row number 5 to row number 11 as Data Frame"
   ]
  },
  {
   "cell_type": "code",
   "execution_count": null,
   "id": "3816ad63",
   "metadata": {},
   "outputs": [],
   "source": [
    "#Age and Score from row number 11 to row number 17 as Data Series\n",
    "# Age row number 12 to row number 16 as Data Frame as Data Series"
   ]
  },
  {
   "cell_type": "code",
   "execution_count": 2,
   "id": "5da42ee6",
   "metadata": {},
   "outputs": [
    {
     "data": {
      "text/html": [
       "<div>\n",
       "<style scoped>\n",
       "    .dataframe tbody tr th:only-of-type {\n",
       "        vertical-align: middle;\n",
       "    }\n",
       "\n",
       "    .dataframe tbody tr th {\n",
       "        vertical-align: top;\n",
       "    }\n",
       "\n",
       "    .dataframe thead th {\n",
       "        text-align: right;\n",
       "    }\n",
       "</style>\n",
       "<table border=\"1\" class=\"dataframe\">\n",
       "  <thead>\n",
       "    <tr style=\"text-align: right;\">\n",
       "      <th></th>\n",
       "      <th>ID</th>\n",
       "      <th>Name</th>\n",
       "      <th>Age</th>\n",
       "      <th>City</th>\n",
       "      <th>Score</th>\n",
       "    </tr>\n",
       "  </thead>\n",
       "  <tbody>\n",
       "    <tr>\n",
       "      <th>5</th>\n",
       "      <td>6</td>\n",
       "      <td>Person_6</td>\n",
       "      <td>56</td>\n",
       "      <td>Los Angeles</td>\n",
       "      <td>88.721274</td>\n",
       "    </tr>\n",
       "    <tr>\n",
       "      <th>11</th>\n",
       "      <td>12</td>\n",
       "      <td>Person_12</td>\n",
       "      <td>53</td>\n",
       "      <td>Los Angeles</td>\n",
       "      <td>77.096718</td>\n",
       "    </tr>\n",
       "    <tr>\n",
       "      <th>12</th>\n",
       "      <td>13</td>\n",
       "      <td>Person_13</td>\n",
       "      <td>57</td>\n",
       "      <td>Los Angeles</td>\n",
       "      <td>49.379560</td>\n",
       "    </tr>\n",
       "  </tbody>\n",
       "</table>\n",
       "</div>"
      ],
      "text/plain": [
       "    ID       Name  Age         City      Score\n",
       "5    6   Person_6   56  Los Angeles  88.721274\n",
       "11  12  Person_12   53  Los Angeles  77.096718\n",
       "12  13  Person_13   57  Los Angeles  49.379560"
      ]
     },
     "execution_count": 2,
     "metadata": {},
     "output_type": "execute_result"
    }
   ],
   "source": [
    "lolo = (df['Age']>50) & (df['City']=='Los Angeles')\n",
    "df.loc[lolo]"
   ]
  },
  {
   "cell_type": "code",
   "execution_count": null,
   "id": "22ef8e98",
   "metadata": {},
   "outputs": [],
   "source": [
    "df"
   ]
  },
  {
   "cell_type": "code",
   "execution_count": 6,
   "id": "4f29ba24",
   "metadata": {},
   "outputs": [
    {
     "data": {
      "text/html": [
       "<div>\n",
       "<style scoped>\n",
       "    .dataframe tbody tr th:only-of-type {\n",
       "        vertical-align: middle;\n",
       "    }\n",
       "\n",
       "    .dataframe tbody tr th {\n",
       "        vertical-align: top;\n",
       "    }\n",
       "\n",
       "    .dataframe thead th {\n",
       "        text-align: right;\n",
       "    }\n",
       "</style>\n",
       "<table border=\"1\" class=\"dataframe\">\n",
       "  <thead>\n",
       "    <tr style=\"text-align: right;\">\n",
       "      <th></th>\n",
       "      <th>0</th>\n",
       "    </tr>\n",
       "  </thead>\n",
       "  <tbody>\n",
       "    <tr>\n",
       "      <th>0</th>\n",
       "      <td>1</td>\n",
       "    </tr>\n",
       "    <tr>\n",
       "      <th>1</th>\n",
       "      <td>2</td>\n",
       "    </tr>\n",
       "    <tr>\n",
       "      <th>2</th>\n",
       "      <td>3</td>\n",
       "    </tr>\n",
       "    <tr>\n",
       "      <th>3</th>\n",
       "      <td>4</td>\n",
       "    </tr>\n",
       "  </tbody>\n",
       "</table>\n",
       "</div>"
      ],
      "text/plain": [
       "   0\n",
       "0  1\n",
       "1  2\n",
       "2  3\n",
       "3  4"
      ]
     },
     "execution_count": 6,
     "metadata": {},
     "output_type": "execute_result"
    }
   ],
   "source": [
    "df = pd.DataFrame([1,2,3,4,5])\n",
    "df[0:4]"
   ]
  },
  {
   "cell_type": "code",
   "execution_count": 9,
   "id": "c23ca7ff",
   "metadata": {},
   "outputs": [
    {
     "data": {
      "text/html": [
       "<div>\n",
       "<style scoped>\n",
       "    .dataframe tbody tr th:only-of-type {\n",
       "        vertical-align: middle;\n",
       "    }\n",
       "\n",
       "    .dataframe tbody tr th {\n",
       "        vertical-align: top;\n",
       "    }\n",
       "\n",
       "    .dataframe thead th {\n",
       "        text-align: right;\n",
       "    }\n",
       "</style>\n",
       "<table border=\"1\" class=\"dataframe\">\n",
       "  <thead>\n",
       "    <tr style=\"text-align: right;\">\n",
       "      <th></th>\n",
       "      <th>ID</th>\n",
       "      <th>Name</th>\n",
       "      <th>Age</th>\n",
       "      <th>City</th>\n",
       "      <th>Score</th>\n",
       "    </tr>\n",
       "  </thead>\n",
       "  <tbody>\n",
       "    <tr>\n",
       "      <th>0</th>\n",
       "      <td>1</td>\n",
       "      <td>Person_1</td>\n",
       "      <td>56</td>\n",
       "      <td>New York</td>\n",
       "      <td>6.355835</td>\n",
       "    </tr>\n",
       "    <tr>\n",
       "      <th>1</th>\n",
       "      <td>2</td>\n",
       "      <td>Person_2</td>\n",
       "      <td>46</td>\n",
       "      <td>Houston</td>\n",
       "      <td>31.098232</td>\n",
       "    </tr>\n",
       "    <tr>\n",
       "      <th>2</th>\n",
       "      <td>3</td>\n",
       "      <td>Person_3</td>\n",
       "      <td>32</td>\n",
       "      <td>Los Angeles</td>\n",
       "      <td>32.518332</td>\n",
       "    </tr>\n",
       "    <tr>\n",
       "      <th>3</th>\n",
       "      <td>4</td>\n",
       "      <td>Person_4</td>\n",
       "      <td>25</td>\n",
       "      <td>Houston</td>\n",
       "      <td>72.960618</td>\n",
       "    </tr>\n",
       "    <tr>\n",
       "      <th>4</th>\n",
       "      <td>5</td>\n",
       "      <td>Person_5</td>\n",
       "      <td>38</td>\n",
       "      <td>Los Angeles</td>\n",
       "      <td>63.755747</td>\n",
       "    </tr>\n",
       "  </tbody>\n",
       "</table>\n",
       "</div>"
      ],
      "text/plain": [
       "   ID      Name  Age         City      Score\n",
       "0   1  Person_1   56     New York   6.355835\n",
       "1   2  Person_2   46      Houston  31.098232\n",
       "2   3  Person_3   32  Los Angeles  32.518332\n",
       "3   4  Person_4   25      Houston  72.960618\n",
       "4   5  Person_5   38  Los Angeles  63.755747"
      ]
     },
     "execution_count": 9,
     "metadata": {},
     "output_type": "execute_result"
    }
   ],
   "source": [
    "df.loc[0:4]"
   ]
  },
  {
   "cell_type": "code",
   "execution_count": null,
   "id": "7b6f7541",
   "metadata": {},
   "outputs": [],
   "source": []
  }
 ],
 "metadata": {
  "kernelspec": {
   "display_name": "Python 3 (ipykernel)",
   "language": "python",
   "name": "python3"
  },
  "language_info": {
   "codemirror_mode": {
    "name": "ipython",
    "version": 3
   },
   "file_extension": ".py",
   "mimetype": "text/x-python",
   "name": "python",
   "nbconvert_exporter": "python",
   "pygments_lexer": "ipython3",
   "version": "3.9.7"
  }
 },
 "nbformat": 4,
 "nbformat_minor": 5
}
