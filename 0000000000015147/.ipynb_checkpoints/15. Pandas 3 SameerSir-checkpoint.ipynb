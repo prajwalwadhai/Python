{
 "cells": [
  {
   "cell_type": "code",
   "execution_count": 1,
   "id": "fe3c4406",
   "metadata": {},
   "outputs": [],
   "source": [
    "import pandas as pd\n",
    "import random\n",
    "import numpy as np\n",
    "from datetime import datetime, timedelta\n",
    "\n",
    "# Define possible values\n",
    "departments = ['HR', 'IT', 'Finance', 'Marketing', 'Sales', 'Operations', 'Admin']\n",
    "names = [\"Alice Johnson\", \"Bob Smith\", \"Charlie Davis\", \"David White\", \"Emma Wilson\",\n",
    "         \"Frank Harris\", \"Grace Lee\", \"Henry Walker\", \"Isabella Scott\", \"Jack Hall\",\n",
    "         \"Karen Allen\", \"Liam Wright\", \"Mia King\", \"Noah Baker\", \"Olivia Adams\",\n",
    "         \"Paul Nelson\", \"Quinn Carter\", \"Ryan Mitchell\", \"Sophia Perez\", \"Thomas Roberts\"]\n",
    "num_rows = 100\n",
    "\n",
    "np.random.seed(20)\n",
    "# Generate employee dataset\n",
    "data = {\n",
    "    'Employee_ID': [f'EMP{1000+i}' for i in range(num_rows)],\n",
    "    'Name': [random.choice(names) for _ in range(num_rows)],\n",
    "    'Age': [random.randint(22, 60) for _ in range(num_rows)],\n",
    "    'Department': [random.choice(departments) for _ in range(num_rows)],\n",
    "    'Joining_Date': [(datetime.today() - timedelta(days=random.randint(0, 3650))).date() for _ in range(num_rows)],\n",
    "    'Salary': [random.randint(30000, 150000) for _ in range(num_rows)],\n",
    "    'Experience': [random.randint(0, 40) for _ in range(num_rows)],  # Years of experience\n",
    "    'Performance_Score': [random.randint(1, 5) for _ in range(num_rows)],  # Rating from 1 to 5\n",
    "    'Remote_Work_Eligible': [random.choice([True, False]) for _ in range(num_rows)]\n",
    "}\n",
    "\n",
    "# Create DataFrame\n",
    "df = pd.DataFrame(data)\n"
   ]
  },
  {
   "cell_type": "code",
   "execution_count": 2,
   "id": "7b621e22",
   "metadata": {},
   "outputs": [],
   "source": [
    "# Functions of DataFrames\n",
    "# Str and Date in DataFrames\n",
    "# Apply functions with DataFrames - Small\n",
    "# Iterrows - Small\n",
    "# Groupby \n",
    "# Groupby with apply and transform\n",
    "# Pivot tables"
   ]
  },
  {
   "cell_type": "code",
   "execution_count": 4,
   "id": "8dd82e42",
   "metadata": {},
   "outputs": [
    {
     "data": {
      "text/html": [
       "<div>\n",
       "<style scoped>\n",
       "    .dataframe tbody tr th:only-of-type {\n",
       "        vertical-align: middle;\n",
       "    }\n",
       "\n",
       "    .dataframe tbody tr th {\n",
       "        vertical-align: top;\n",
       "    }\n",
       "\n",
       "    .dataframe thead th {\n",
       "        text-align: right;\n",
       "    }\n",
       "</style>\n",
       "<table border=\"1\" class=\"dataframe\">\n",
       "  <thead>\n",
       "    <tr style=\"text-align: right;\">\n",
       "      <th></th>\n",
       "      <th>Employee_ID</th>\n",
       "      <th>Name</th>\n",
       "      <th>Age</th>\n",
       "      <th>Department</th>\n",
       "      <th>Joining_Date</th>\n",
       "      <th>Salary</th>\n",
       "      <th>Experience</th>\n",
       "      <th>Performance_Score</th>\n",
       "      <th>Remote_Work_Eligible</th>\n",
       "    </tr>\n",
       "  </thead>\n",
       "  <tbody>\n",
       "    <tr>\n",
       "      <th>0</th>\n",
       "      <td>EMP1000</td>\n",
       "      <td>Thomas Roberts</td>\n",
       "      <td>53</td>\n",
       "      <td>HR</td>\n",
       "      <td>2018-12-14</td>\n",
       "      <td>54880</td>\n",
       "      <td>30</td>\n",
       "      <td>2</td>\n",
       "      <td>True</td>\n",
       "    </tr>\n",
       "    <tr>\n",
       "      <th>1</th>\n",
       "      <td>EMP1001</td>\n",
       "      <td>David White</td>\n",
       "      <td>42</td>\n",
       "      <td>HR</td>\n",
       "      <td>2022-12-03</td>\n",
       "      <td>90141</td>\n",
       "      <td>5</td>\n",
       "      <td>1</td>\n",
       "      <td>False</td>\n",
       "    </tr>\n",
       "    <tr>\n",
       "      <th>2</th>\n",
       "      <td>EMP1002</td>\n",
       "      <td>Liam Wright</td>\n",
       "      <td>53</td>\n",
       "      <td>HR</td>\n",
       "      <td>2015-04-02</td>\n",
       "      <td>141395</td>\n",
       "      <td>19</td>\n",
       "      <td>1</td>\n",
       "      <td>False</td>\n",
       "    </tr>\n",
       "    <tr>\n",
       "      <th>3</th>\n",
       "      <td>EMP1003</td>\n",
       "      <td>Jack Hall</td>\n",
       "      <td>33</td>\n",
       "      <td>Finance</td>\n",
       "      <td>2018-03-22</td>\n",
       "      <td>57498</td>\n",
       "      <td>0</td>\n",
       "      <td>5</td>\n",
       "      <td>True</td>\n",
       "    </tr>\n",
       "    <tr>\n",
       "      <th>4</th>\n",
       "      <td>EMP1004</td>\n",
       "      <td>Thomas Roberts</td>\n",
       "      <td>40</td>\n",
       "      <td>Admin</td>\n",
       "      <td>2018-09-28</td>\n",
       "      <td>57287</td>\n",
       "      <td>7</td>\n",
       "      <td>4</td>\n",
       "      <td>True</td>\n",
       "    </tr>\n",
       "    <tr>\n",
       "      <th>5</th>\n",
       "      <td>EMP1005</td>\n",
       "      <td>Alice Johnson</td>\n",
       "      <td>23</td>\n",
       "      <td>HR</td>\n",
       "      <td>2016-01-21</td>\n",
       "      <td>110064</td>\n",
       "      <td>37</td>\n",
       "      <td>5</td>\n",
       "      <td>True</td>\n",
       "    </tr>\n",
       "    <tr>\n",
       "      <th>6</th>\n",
       "      <td>EMP1006</td>\n",
       "      <td>Noah Baker</td>\n",
       "      <td>44</td>\n",
       "      <td>Admin</td>\n",
       "      <td>2024-02-23</td>\n",
       "      <td>82946</td>\n",
       "      <td>0</td>\n",
       "      <td>5</td>\n",
       "      <td>True</td>\n",
       "    </tr>\n",
       "    <tr>\n",
       "      <th>7</th>\n",
       "      <td>EMP1007</td>\n",
       "      <td>Bob Smith</td>\n",
       "      <td>56</td>\n",
       "      <td>HR</td>\n",
       "      <td>2021-03-14</td>\n",
       "      <td>86464</td>\n",
       "      <td>25</td>\n",
       "      <td>2</td>\n",
       "      <td>True</td>\n",
       "    </tr>\n",
       "    <tr>\n",
       "      <th>8</th>\n",
       "      <td>EMP1008</td>\n",
       "      <td>Emma Wilson</td>\n",
       "      <td>35</td>\n",
       "      <td>Admin</td>\n",
       "      <td>2022-08-28</td>\n",
       "      <td>52893</td>\n",
       "      <td>22</td>\n",
       "      <td>4</td>\n",
       "      <td>False</td>\n",
       "    </tr>\n",
       "    <tr>\n",
       "      <th>9</th>\n",
       "      <td>EMP1009</td>\n",
       "      <td>Grace Lee</td>\n",
       "      <td>52</td>\n",
       "      <td>Operations</td>\n",
       "      <td>2019-12-07</td>\n",
       "      <td>88626</td>\n",
       "      <td>24</td>\n",
       "      <td>3</td>\n",
       "      <td>False</td>\n",
       "    </tr>\n",
       "    <tr>\n",
       "      <th>10</th>\n",
       "      <td>EMP1010</td>\n",
       "      <td>Bob Smith</td>\n",
       "      <td>58</td>\n",
       "      <td>Marketing</td>\n",
       "      <td>2022-08-08</td>\n",
       "      <td>58956</td>\n",
       "      <td>4</td>\n",
       "      <td>3</td>\n",
       "      <td>True</td>\n",
       "    </tr>\n",
       "    <tr>\n",
       "      <th>11</th>\n",
       "      <td>EMP1011</td>\n",
       "      <td>Frank Harris</td>\n",
       "      <td>42</td>\n",
       "      <td>Finance</td>\n",
       "      <td>2022-06-28</td>\n",
       "      <td>147238</td>\n",
       "      <td>23</td>\n",
       "      <td>1</td>\n",
       "      <td>True</td>\n",
       "    </tr>\n",
       "    <tr>\n",
       "      <th>12</th>\n",
       "      <td>EMP1012</td>\n",
       "      <td>Quinn Carter</td>\n",
       "      <td>24</td>\n",
       "      <td>Finance</td>\n",
       "      <td>2020-09-09</td>\n",
       "      <td>47335</td>\n",
       "      <td>20</td>\n",
       "      <td>2</td>\n",
       "      <td>True</td>\n",
       "    </tr>\n",
       "    <tr>\n",
       "      <th>13</th>\n",
       "      <td>EMP1013</td>\n",
       "      <td>Ryan Mitchell</td>\n",
       "      <td>57</td>\n",
       "      <td>Marketing</td>\n",
       "      <td>2019-11-30</td>\n",
       "      <td>86025</td>\n",
       "      <td>33</td>\n",
       "      <td>1</td>\n",
       "      <td>True</td>\n",
       "    </tr>\n",
       "    <tr>\n",
       "      <th>14</th>\n",
       "      <td>EMP1014</td>\n",
       "      <td>Jack Hall</td>\n",
       "      <td>45</td>\n",
       "      <td>Sales</td>\n",
       "      <td>2022-04-10</td>\n",
       "      <td>54212</td>\n",
       "      <td>9</td>\n",
       "      <td>4</td>\n",
       "      <td>True</td>\n",
       "    </tr>\n",
       "    <tr>\n",
       "      <th>15</th>\n",
       "      <td>EMP1015</td>\n",
       "      <td>Isabella Scott</td>\n",
       "      <td>51</td>\n",
       "      <td>Admin</td>\n",
       "      <td>2019-07-31</td>\n",
       "      <td>52008</td>\n",
       "      <td>2</td>\n",
       "      <td>1</td>\n",
       "      <td>True</td>\n",
       "    </tr>\n",
       "    <tr>\n",
       "      <th>16</th>\n",
       "      <td>EMP1016</td>\n",
       "      <td>Paul Nelson</td>\n",
       "      <td>42</td>\n",
       "      <td>Sales</td>\n",
       "      <td>2015-07-07</td>\n",
       "      <td>87961</td>\n",
       "      <td>8</td>\n",
       "      <td>2</td>\n",
       "      <td>True</td>\n",
       "    </tr>\n",
       "    <tr>\n",
       "      <th>17</th>\n",
       "      <td>EMP1017</td>\n",
       "      <td>Olivia Adams</td>\n",
       "      <td>30</td>\n",
       "      <td>IT</td>\n",
       "      <td>2024-09-14</td>\n",
       "      <td>49309</td>\n",
       "      <td>23</td>\n",
       "      <td>1</td>\n",
       "      <td>False</td>\n",
       "    </tr>\n",
       "    <tr>\n",
       "      <th>18</th>\n",
       "      <td>EMP1018</td>\n",
       "      <td>Karen Allen</td>\n",
       "      <td>30</td>\n",
       "      <td>Operations</td>\n",
       "      <td>2023-02-15</td>\n",
       "      <td>91276</td>\n",
       "      <td>15</td>\n",
       "      <td>5</td>\n",
       "      <td>True</td>\n",
       "    </tr>\n",
       "    <tr>\n",
       "      <th>19</th>\n",
       "      <td>EMP1019</td>\n",
       "      <td>David White</td>\n",
       "      <td>57</td>\n",
       "      <td>Admin</td>\n",
       "      <td>2016-07-21</td>\n",
       "      <td>67526</td>\n",
       "      <td>36</td>\n",
       "      <td>4</td>\n",
       "      <td>True</td>\n",
       "    </tr>\n",
       "  </tbody>\n",
       "</table>\n",
       "</div>"
      ],
      "text/plain": [
       "   Employee_ID            Name  Age  Department Joining_Date  Salary  \\\n",
       "0      EMP1000  Thomas Roberts   53          HR   2018-12-14   54880   \n",
       "1      EMP1001     David White   42          HR   2022-12-03   90141   \n",
       "2      EMP1002     Liam Wright   53          HR   2015-04-02  141395   \n",
       "3      EMP1003       Jack Hall   33     Finance   2018-03-22   57498   \n",
       "4      EMP1004  Thomas Roberts   40       Admin   2018-09-28   57287   \n",
       "5      EMP1005   Alice Johnson   23          HR   2016-01-21  110064   \n",
       "6      EMP1006      Noah Baker   44       Admin   2024-02-23   82946   \n",
       "7      EMP1007       Bob Smith   56          HR   2021-03-14   86464   \n",
       "8      EMP1008     Emma Wilson   35       Admin   2022-08-28   52893   \n",
       "9      EMP1009       Grace Lee   52  Operations   2019-12-07   88626   \n",
       "10     EMP1010       Bob Smith   58   Marketing   2022-08-08   58956   \n",
       "11     EMP1011    Frank Harris   42     Finance   2022-06-28  147238   \n",
       "12     EMP1012    Quinn Carter   24     Finance   2020-09-09   47335   \n",
       "13     EMP1013   Ryan Mitchell   57   Marketing   2019-11-30   86025   \n",
       "14     EMP1014       Jack Hall   45       Sales   2022-04-10   54212   \n",
       "15     EMP1015  Isabella Scott   51       Admin   2019-07-31   52008   \n",
       "16     EMP1016     Paul Nelson   42       Sales   2015-07-07   87961   \n",
       "17     EMP1017    Olivia Adams   30          IT   2024-09-14   49309   \n",
       "18     EMP1018     Karen Allen   30  Operations   2023-02-15   91276   \n",
       "19     EMP1019     David White   57       Admin   2016-07-21   67526   \n",
       "\n",
       "    Experience  Performance_Score  Remote_Work_Eligible  \n",
       "0           30                  2                  True  \n",
       "1            5                  1                 False  \n",
       "2           19                  1                 False  \n",
       "3            0                  5                  True  \n",
       "4            7                  4                  True  \n",
       "5           37                  5                  True  \n",
       "6            0                  5                  True  \n",
       "7           25                  2                  True  \n",
       "8           22                  4                 False  \n",
       "9           24                  3                 False  \n",
       "10           4                  3                  True  \n",
       "11          23                  1                  True  \n",
       "12          20                  2                  True  \n",
       "13          33                  1                  True  \n",
       "14           9                  4                  True  \n",
       "15           2                  1                  True  \n",
       "16           8                  2                  True  \n",
       "17          23                  1                 False  \n",
       "18          15                  5                  True  \n",
       "19          36                  4                  True  "
      ]
     },
     "execution_count": 4,
     "metadata": {},
     "output_type": "execute_result"
    }
   ],
   "source": [
    "df.head(20)"
   ]
  },
  {
   "cell_type": "code",
   "execution_count": 5,
   "id": "eaf42745",
   "metadata": {},
   "outputs": [],
   "source": [
    "# Use apply function on Salary and classify the salary as high medium and low\n",
    "# if <50K - Low, if <80 - Medium else High\n",
    "def func(x):\n",
    "    if(x<50000):\n",
    "        return 'Low'\n",
    "    elif(x<80000):\n",
    "        return 'Medium'\n",
    "    else:\n",
    "        return 'High'"
   ]
  },
  {
   "cell_type": "code",
   "execution_count": 9,
   "id": "76b75650",
   "metadata": {},
   "outputs": [],
   "source": [
    "df['salary_classification'] = df['Salary'].apply(func)"
   ]
  },
  {
   "cell_type": "code",
   "execution_count": 15,
   "id": "c15d2a82",
   "metadata": {},
   "outputs": [],
   "source": [
    "lst = df.loc[0].tolist()"
   ]
  },
  {
   "cell_type": "code",
   "execution_count": 16,
   "id": "1831ba6f",
   "metadata": {},
   "outputs": [],
   "source": [
    "# Use this list to reduce the salary by 10% if performance score <=2 -- it's okay to use index numbers, write a function\n",
    "# write a function that takes list and returns updated salary basis above condition\n",
    "def adjust_salary(lst):\n",
    "    if(lst[7]<=2):\n",
    "        return lst[5]*0.9\n",
    "    else:\n",
    "        return lst[5]"
   ]
  },
  {
   "cell_type": "code",
   "execution_count": 17,
   "id": "45ea2a7e",
   "metadata": {},
   "outputs": [
    {
     "data": {
      "text/plain": [
       "49392.0"
      ]
     },
     "execution_count": 17,
     "metadata": {},
     "output_type": "execute_result"
    }
   ],
   "source": [
    "adjust_salary(lst)"
   ]
  },
  {
   "cell_type": "code",
   "execution_count": 18,
   "id": "f44d1369",
   "metadata": {},
   "outputs": [
    {
     "data": {
      "text/plain": [
       "Employee_ID                     EMP1000\n",
       "Name                     Thomas Roberts\n",
       "Age                                  53\n",
       "Department                           HR\n",
       "Joining_Date                 2018-12-14\n",
       "Salary                            54880\n",
       "Experience                           30\n",
       "Performance_Score                     2\n",
       "Remote_Work_Eligible               True\n",
       "salary_classification            Medium\n",
       "Name: 0, dtype: object"
      ]
     },
     "execution_count": 18,
     "metadata": {},
     "output_type": "execute_result"
    }
   ],
   "source": [
    "ds = df.loc[0]\n",
    "ds"
   ]
  },
  {
   "cell_type": "code",
   "execution_count": 25,
   "id": "d4b3ff86",
   "metadata": {},
   "outputs": [],
   "source": [
    "# Write the same function for Data Series - THe function takes Data Series as input and returns salary corrected\n",
    "def adj_sal(S):\n",
    "    if(S['Performance_Score']<=2):\n",
    "        return S['Salary']*0.9\n",
    "    else:\n",
    "        return S['Salary']"
   ]
  },
  {
   "cell_type": "code",
   "execution_count": 26,
   "id": "c9aba6ed",
   "metadata": {},
   "outputs": [
    {
     "data": {
      "text/plain": [
       "49392.0"
      ]
     },
     "execution_count": 26,
     "metadata": {},
     "output_type": "execute_result"
    }
   ],
   "source": [
    "adj_sal(ds)"
   ]
  },
  {
   "cell_type": "code",
   "execution_count": 29,
   "id": "e04d5898",
   "metadata": {},
   "outputs": [
    {
     "data": {
      "text/html": [
       "<div>\n",
       "<style scoped>\n",
       "    .dataframe tbody tr th:only-of-type {\n",
       "        vertical-align: middle;\n",
       "    }\n",
       "\n",
       "    .dataframe tbody tr th {\n",
       "        vertical-align: top;\n",
       "    }\n",
       "\n",
       "    .dataframe thead th {\n",
       "        text-align: right;\n",
       "    }\n",
       "</style>\n",
       "<table border=\"1\" class=\"dataframe\">\n",
       "  <thead>\n",
       "    <tr style=\"text-align: right;\">\n",
       "      <th></th>\n",
       "      <th>Employee_ID</th>\n",
       "      <th>Name</th>\n",
       "      <th>Age</th>\n",
       "      <th>Department</th>\n",
       "      <th>Joining_Date</th>\n",
       "      <th>Salary</th>\n",
       "      <th>Experience</th>\n",
       "      <th>Performance_Score</th>\n",
       "      <th>Remote_Work_Eligible</th>\n",
       "      <th>salary_classification</th>\n",
       "    </tr>\n",
       "  </thead>\n",
       "  <tbody>\n",
       "    <tr>\n",
       "      <th>0</th>\n",
       "      <td>EMP1000</td>\n",
       "      <td>Thomas Roberts</td>\n",
       "      <td>53</td>\n",
       "      <td>HR</td>\n",
       "      <td>2018-12-14</td>\n",
       "      <td>54880</td>\n",
       "      <td>30</td>\n",
       "      <td>2</td>\n",
       "      <td>True</td>\n",
       "      <td>Medium</td>\n",
       "    </tr>\n",
       "    <tr>\n",
       "      <th>1</th>\n",
       "      <td>EMP1001</td>\n",
       "      <td>David White</td>\n",
       "      <td>42</td>\n",
       "      <td>HR</td>\n",
       "      <td>2022-12-03</td>\n",
       "      <td>90141</td>\n",
       "      <td>5</td>\n",
       "      <td>1</td>\n",
       "      <td>False</td>\n",
       "      <td>High</td>\n",
       "    </tr>\n",
       "    <tr>\n",
       "      <th>2</th>\n",
       "      <td>EMP1002</td>\n",
       "      <td>Liam Wright</td>\n",
       "      <td>53</td>\n",
       "      <td>HR</td>\n",
       "      <td>2015-04-02</td>\n",
       "      <td>141395</td>\n",
       "      <td>19</td>\n",
       "      <td>1</td>\n",
       "      <td>False</td>\n",
       "      <td>High</td>\n",
       "    </tr>\n",
       "    <tr>\n",
       "      <th>3</th>\n",
       "      <td>EMP1003</td>\n",
       "      <td>Jack Hall</td>\n",
       "      <td>33</td>\n",
       "      <td>Finance</td>\n",
       "      <td>2018-03-22</td>\n",
       "      <td>57498</td>\n",
       "      <td>0</td>\n",
       "      <td>5</td>\n",
       "      <td>True</td>\n",
       "      <td>Medium</td>\n",
       "    </tr>\n",
       "    <tr>\n",
       "      <th>4</th>\n",
       "      <td>EMP1004</td>\n",
       "      <td>Thomas Roberts</td>\n",
       "      <td>40</td>\n",
       "      <td>Admin</td>\n",
       "      <td>2018-09-28</td>\n",
       "      <td>57287</td>\n",
       "      <td>7</td>\n",
       "      <td>4</td>\n",
       "      <td>True</td>\n",
       "      <td>Medium</td>\n",
       "    </tr>\n",
       "    <tr>\n",
       "      <th>...</th>\n",
       "      <td>...</td>\n",
       "      <td>...</td>\n",
       "      <td>...</td>\n",
       "      <td>...</td>\n",
       "      <td>...</td>\n",
       "      <td>...</td>\n",
       "      <td>...</td>\n",
       "      <td>...</td>\n",
       "      <td>...</td>\n",
       "      <td>...</td>\n",
       "    </tr>\n",
       "    <tr>\n",
       "      <th>95</th>\n",
       "      <td>EMP1095</td>\n",
       "      <td>Charlie Davis</td>\n",
       "      <td>54</td>\n",
       "      <td>HR</td>\n",
       "      <td>2022-09-04</td>\n",
       "      <td>145789</td>\n",
       "      <td>3</td>\n",
       "      <td>4</td>\n",
       "      <td>False</td>\n",
       "      <td>High</td>\n",
       "    </tr>\n",
       "    <tr>\n",
       "      <th>96</th>\n",
       "      <td>EMP1096</td>\n",
       "      <td>Grace Lee</td>\n",
       "      <td>36</td>\n",
       "      <td>Marketing</td>\n",
       "      <td>2022-09-16</td>\n",
       "      <td>43754</td>\n",
       "      <td>10</td>\n",
       "      <td>5</td>\n",
       "      <td>False</td>\n",
       "      <td>Low</td>\n",
       "    </tr>\n",
       "    <tr>\n",
       "      <th>97</th>\n",
       "      <td>EMP1097</td>\n",
       "      <td>Noah Baker</td>\n",
       "      <td>58</td>\n",
       "      <td>Finance</td>\n",
       "      <td>2021-01-19</td>\n",
       "      <td>102547</td>\n",
       "      <td>34</td>\n",
       "      <td>1</td>\n",
       "      <td>True</td>\n",
       "      <td>High</td>\n",
       "    </tr>\n",
       "    <tr>\n",
       "      <th>98</th>\n",
       "      <td>EMP1098</td>\n",
       "      <td>Mia King</td>\n",
       "      <td>26</td>\n",
       "      <td>Marketing</td>\n",
       "      <td>2024-05-18</td>\n",
       "      <td>139971</td>\n",
       "      <td>26</td>\n",
       "      <td>2</td>\n",
       "      <td>False</td>\n",
       "      <td>High</td>\n",
       "    </tr>\n",
       "    <tr>\n",
       "      <th>99</th>\n",
       "      <td>EMP1099</td>\n",
       "      <td>Sophia Perez</td>\n",
       "      <td>35</td>\n",
       "      <td>Operations</td>\n",
       "      <td>2016-04-27</td>\n",
       "      <td>55574</td>\n",
       "      <td>37</td>\n",
       "      <td>5</td>\n",
       "      <td>False</td>\n",
       "      <td>Medium</td>\n",
       "    </tr>\n",
       "  </tbody>\n",
       "</table>\n",
       "<p>100 rows × 10 columns</p>\n",
       "</div>"
      ],
      "text/plain": [
       "   Employee_ID            Name  Age  Department Joining_Date  Salary  \\\n",
       "0      EMP1000  Thomas Roberts   53          HR   2018-12-14   54880   \n",
       "1      EMP1001     David White   42          HR   2022-12-03   90141   \n",
       "2      EMP1002     Liam Wright   53          HR   2015-04-02  141395   \n",
       "3      EMP1003       Jack Hall   33     Finance   2018-03-22   57498   \n",
       "4      EMP1004  Thomas Roberts   40       Admin   2018-09-28   57287   \n",
       "..         ...             ...  ...         ...          ...     ...   \n",
       "95     EMP1095   Charlie Davis   54          HR   2022-09-04  145789   \n",
       "96     EMP1096       Grace Lee   36   Marketing   2022-09-16   43754   \n",
       "97     EMP1097      Noah Baker   58     Finance   2021-01-19  102547   \n",
       "98     EMP1098        Mia King   26   Marketing   2024-05-18  139971   \n",
       "99     EMP1099    Sophia Perez   35  Operations   2016-04-27   55574   \n",
       "\n",
       "    Experience  Performance_Score  Remote_Work_Eligible salary_classification  \n",
       "0           30                  2                  True                Medium  \n",
       "1            5                  1                 False                  High  \n",
       "2           19                  1                 False                  High  \n",
       "3            0                  5                  True                Medium  \n",
       "4            7                  4                  True                Medium  \n",
       "..         ...                ...                   ...                   ...  \n",
       "95           3                  4                 False                  High  \n",
       "96          10                  5                 False                   Low  \n",
       "97          34                  1                  True                  High  \n",
       "98          26                  2                 False                  High  \n",
       "99          37                  5                 False                Medium  \n",
       "\n",
       "[100 rows x 10 columns]"
      ]
     },
     "execution_count": 29,
     "metadata": {},
     "output_type": "execute_result"
    }
   ],
   "source": [
    "df"
   ]
  },
  {
   "cell_type": "code",
   "execution_count": 28,
   "id": "f6eddbed",
   "metadata": {},
   "outputs": [
    {
     "data": {
      "text/plain": [
       "0      49392.0\n",
       "1      81126.9\n",
       "2     127255.5\n",
       "3      57498.0\n",
       "4      57287.0\n",
       "        ...   \n",
       "95    145789.0\n",
       "96     43754.0\n",
       "97     92292.3\n",
       "98    125973.9\n",
       "99     55574.0\n",
       "Length: 100, dtype: float64"
      ]
     },
     "execution_count": 28,
     "metadata": {},
     "output_type": "execute_result"
    }
   ],
   "source": [
    "df.apply(adj_sal, axis = 1)"
   ]
  },
  {
   "cell_type": "code",
   "execution_count": 39,
   "id": "630d4b7f",
   "metadata": {},
   "outputs": [
    {
     "data": {
      "text/plain": [
       "Employee_ID                  EMP1001\n",
       "Name                     David White\n",
       "Age                               42\n",
       "Department                        HR\n",
       "Joining_Date              2022-12-03\n",
       "Salary                         90141\n",
       "Experience                         5\n",
       "Performance_Score                  1\n",
       "Remote_Work_Eligible           False\n",
       "salary_classification           High\n",
       "Name: 1, dtype: object"
      ]
     },
     "execution_count": 39,
     "metadata": {},
     "output_type": "execute_result"
    }
   ],
   "source": [
    "# Retire by department - HR age >50 ->retire, Marketing age >40 -> retire, Department admin age>45 -> retire, don't return anything otherwise.\n",
    "ds = df.loc[1]\n",
    "ds"
   ]
  },
  {
   "cell_type": "code",
   "execution_count": 47,
   "id": "8c494049",
   "metadata": {},
   "outputs": [],
   "source": [
    "def decide_retirement(ds):\n",
    "    if((ds['Department'] == 'HR') & (ds['Age']>50)):\n",
    "        return 'retire'\n",
    "    elif((ds['Department'] == 'Marketing') & (ds['Age']>40)):\n",
    "        return 'retire'\n",
    "    elif((ds['Department'] == 'Admin') & (ds['Age']>45)):\n",
    "        return 'retire'\n",
    "    else:\n",
    "        return 'Do not retire'"
   ]
  },
  {
   "cell_type": "code",
   "execution_count": 48,
   "id": "32926eb3",
   "metadata": {},
   "outputs": [
    {
     "data": {
      "text/plain": [
       "0            retire\n",
       "1     Do not retire\n",
       "2            retire\n",
       "3     Do not retire\n",
       "4     Do not retire\n",
       "          ...      \n",
       "95           retire\n",
       "96    Do not retire\n",
       "97    Do not retire\n",
       "98    Do not retire\n",
       "99    Do not retire\n",
       "Length: 100, dtype: object"
      ]
     },
     "execution_count": 48,
     "metadata": {},
     "output_type": "execute_result"
    }
   ],
   "source": [
    "df.apply(decide_retirement, axis = 1)"
   ]
  },
  {
   "cell_type": "code",
   "execution_count": null,
   "id": "041a9fd4",
   "metadata": {},
   "outputs": [],
   "source": [
    "# Question is cap the values of salary between 60000 and 100000 but you can't use 60000 and 10000 as numbers inside the function\n",
    "#  use the bounds as variables"
   ]
  },
  {
   "cell_type": "code",
   "execution_count": 51,
   "id": "222d2484",
   "metadata": {},
   "outputs": [],
   "source": [
    "def func(x, lb, ub):\n",
    "    if(x<lb):\n",
    "        return lb\n",
    "    elif(x>ub):\n",
    "        return ub\n",
    "    else:\n",
    "        return x"
   ]
  },
  {
   "cell_type": "code",
   "execution_count": 59,
   "id": "c43111b3",
   "metadata": {},
   "outputs": [],
   "source": [
    "\n",
    "new_func = lambda x: func(x, 60000, 100000)"
   ]
  },
  {
   "cell_type": "code",
   "execution_count": 63,
   "id": "e600e37e",
   "metadata": {},
   "outputs": [
    {
     "ename": "NameError",
     "evalue": "name 'x' is not defined",
     "output_type": "error",
     "traceback": [
      "\u001b[1;31m---------------------------------------------------------------------------\u001b[0m",
      "\u001b[1;31mNameError\u001b[0m                                 Traceback (most recent call last)",
      "\u001b[1;32m~\\AppData\\Local\\Temp/ipykernel_24120/235099473.py\u001b[0m in \u001b[0;36m<module>\u001b[1;34m\u001b[0m\n\u001b[1;32m----> 1\u001b[1;33m \u001b[0mdf\u001b[0m\u001b[1;33m[\u001b[0m\u001b[1;34m'Salary'\u001b[0m\u001b[1;33m]\u001b[0m\u001b[1;33m.\u001b[0m\u001b[0mapply\u001b[0m\u001b[1;33m(\u001b[0m\u001b[0mfunc\u001b[0m\u001b[1;33m(\u001b[0m\u001b[0mx\u001b[0m\u001b[1;33m,\u001b[0m \u001b[1;36m50000\u001b[0m\u001b[1;33m,\u001b[0m \u001b[1;36m90000\u001b[0m\u001b[1;33m)\u001b[0m\u001b[1;33m)\u001b[0m\u001b[1;33m\u001b[0m\u001b[1;33m\u001b[0m\u001b[0m\n\u001b[0m\u001b[0;32m      2\u001b[0m \u001b[1;31m# df['Salary'].apply(lambda x: func(x, 50000, 90000))\u001b[0m\u001b[1;33m\u001b[0m\u001b[1;33m\u001b[0m\u001b[0m\n",
      "\u001b[1;31mNameError\u001b[0m: name 'x' is not defined"
     ]
    }
   ],
   "source": [
    "# df['Salary'].apply(func(x, 50000, 90000))\n",
    "lb = 50000\n",
    "ub = 90000\n",
    "df['Salary'].apply(lambda x: func(x, 50000, 90000))"
   ]
  },
  {
   "cell_type": "code",
   "execution_count": 65,
   "id": "68ea6622",
   "metadata": {},
   "outputs": [
    {
     "data": {
      "text/plain": [
       "0     54880\n",
       "1     90000\n",
       "2     90000\n",
       "3     57498\n",
       "4     57287\n",
       "      ...  \n",
       "95    90000\n",
       "96    50000\n",
       "97    90000\n",
       "98    90000\n",
       "99    55574\n",
       "Name: Salary, Length: 100, dtype: int64"
      ]
     },
     "execution_count": 65,
     "metadata": {},
     "output_type": "execute_result"
    }
   ],
   "source": [
    "lb = 50000\n",
    "ub = 90000\n",
    "df['Salary'].apply(func, lb = lb, ub = ub)"
   ]
  },
  {
   "cell_type": "code",
   "execution_count": 67,
   "id": "8a8c37e0",
   "metadata": {},
   "outputs": [],
   "source": [
    "import pandas as pd\n",
    "import numpy as np\n",
    "\n",
    "# Creating sample data\n",
    "data = {\n",
    "    \"Customer_ID\": np.random.randint(1001, 1050, 50),\n",
    "    \"City\": np.random.choice([\"New York\", \"Los Angeles\", \"Chicago\", \"Houston\", \"San Francisco\"], 50),\n",
    "    \"Product_Category\": np.random.choice([\"Electronics\", \"Clothing\", \"Furniture\", \"Beauty\", \"Groceries\"], 50),\n",
    "    \"Product\": np.random.choice([\"Laptop\", \"Shoes\", \"Table\", \"Face Cream\", \"Vegetables\", \"Headphones\", \"Sofa\", \"Jacket\", \"Smartphone\"], 50),\n",
    "    \"Revenue\": np.random.randint(50, 1000, 50),\n",
    "    \"Discount\": np.random.randint(5, 30, 50),\n",
    "    \"Customer_Rating\": np.round(np.random.uniform(1, 5, 50), 1),\n",
    "    \"Purchase_Date\": pd.date_range(start=\"2024-01-01\", periods=50, freq=\"D\"),\n",
    "}\n",
    "\n",
    "# Creating the DataFrame\n",
    "df = pd.DataFrame(data)\n",
    "\n"
   ]
  },
  {
   "cell_type": "code",
   "execution_count": 69,
   "id": "6c8de0f9",
   "metadata": {},
   "outputs": [],
   "source": [
    "df = df.head(10)"
   ]
  },
  {
   "cell_type": "code",
   "execution_count": 73,
   "id": "d3a2bb46",
   "metadata": {},
   "outputs": [],
   "source": [
    "df.to_clipboard()"
   ]
  },
  {
   "cell_type": "code",
   "execution_count": 74,
   "id": "b224b10d",
   "metadata": {},
   "outputs": [],
   "source": [
    "grouped = df.groupby('City')"
   ]
  },
  {
   "cell_type": "code",
   "execution_count": 76,
   "id": "8ee43d8f",
   "metadata": {},
   "outputs": [
    {
     "data": {
      "text/plain": [
       "{'Chicago': array([2, 3, 5, 9], dtype=int64),\n",
       " 'Houston': array([1], dtype=int64),\n",
       " 'Los Angeles': array([0, 7, 8], dtype=int64),\n",
       " 'New York': array([6], dtype=int64),\n",
       " 'San Francisco': array([4], dtype=int64)}"
      ]
     },
     "execution_count": 76,
     "metadata": {},
     "output_type": "execute_result"
    }
   ],
   "source": [
    "grouped.indices"
   ]
  },
  {
   "cell_type": "code",
   "execution_count": 77,
   "id": "af6cbf98",
   "metadata": {},
   "outputs": [
    {
     "data": {
      "text/plain": [
       "{'Chicago': [2, 3, 5, 9], 'Houston': [1], 'Los Angeles': [0, 7, 8], 'New York': [6], 'San Francisco': [4]}"
      ]
     },
     "execution_count": 77,
     "metadata": {},
     "output_type": "execute_result"
    }
   ],
   "source": [
    "grouped.groups"
   ]
  },
  {
   "cell_type": "code",
   "execution_count": 78,
   "id": "7bdd05c2",
   "metadata": {},
   "outputs": [
    {
     "data": {
      "text/plain": [
       "5"
      ]
     },
     "execution_count": 78,
     "metadata": {},
     "output_type": "execute_result"
    }
   ],
   "source": [
    "grouped.ngroups"
   ]
  },
  {
   "cell_type": "code",
   "execution_count": 80,
   "id": "f103a004",
   "metadata": {},
   "outputs": [],
   "source": [
    "lst = [1,2,3]"
   ]
  },
  {
   "cell_type": "code",
   "execution_count": 81,
   "id": "5778d399",
   "metadata": {},
   "outputs": [
    {
     "data": {
      "text/plain": [
       "['__add__',\n",
       " '__class__',\n",
       " '__class_getitem__',\n",
       " '__contains__',\n",
       " '__delattr__',\n",
       " '__delitem__',\n",
       " '__dir__',\n",
       " '__doc__',\n",
       " '__eq__',\n",
       " '__format__',\n",
       " '__ge__',\n",
       " '__getattribute__',\n",
       " '__getitem__',\n",
       " '__gt__',\n",
       " '__hash__',\n",
       " '__iadd__',\n",
       " '__imul__',\n",
       " '__init__',\n",
       " '__init_subclass__',\n",
       " '__iter__',\n",
       " '__le__',\n",
       " '__len__',\n",
       " '__lt__',\n",
       " '__mul__',\n",
       " '__ne__',\n",
       " '__new__',\n",
       " '__reduce__',\n",
       " '__reduce_ex__',\n",
       " '__repr__',\n",
       " '__reversed__',\n",
       " '__rmul__',\n",
       " '__setattr__',\n",
       " '__setitem__',\n",
       " '__sizeof__',\n",
       " '__str__',\n",
       " '__subclasshook__',\n",
       " 'append',\n",
       " 'clear',\n",
       " 'copy',\n",
       " 'count',\n",
       " 'extend',\n",
       " 'index',\n",
       " 'insert',\n",
       " 'pop',\n",
       " 'remove',\n",
       " 'reverse',\n",
       " 'sort']"
      ]
     },
     "execution_count": 81,
     "metadata": {},
     "output_type": "execute_result"
    }
   ],
   "source": [
    "dir(lst)"
   ]
  },
  {
   "cell_type": "code",
   "execution_count": 75,
   "id": "d3982c59",
   "metadata": {},
   "outputs": [
    {
     "data": {
      "text/plain": [
       "['City',\n",
       " 'Customer_ID',\n",
       " 'Customer_Rating',\n",
       " 'Discount',\n",
       " 'Product',\n",
       " 'Product_Category',\n",
       " 'Purchase_Date',\n",
       " 'Revenue',\n",
       " '__annotations__',\n",
       " '__class__',\n",
       " '__class_getitem__',\n",
       " '__delattr__',\n",
       " '__dict__',\n",
       " '__dir__',\n",
       " '__doc__',\n",
       " '__eq__',\n",
       " '__format__',\n",
       " '__ge__',\n",
       " '__getattr__',\n",
       " '__getattribute__',\n",
       " '__getitem__',\n",
       " '__gt__',\n",
       " '__hash__',\n",
       " '__init__',\n",
       " '__init_subclass__',\n",
       " '__iter__',\n",
       " '__le__',\n",
       " '__len__',\n",
       " '__lt__',\n",
       " '__module__',\n",
       " '__ne__',\n",
       " '__new__',\n",
       " '__orig_bases__',\n",
       " '__parameters__',\n",
       " '__reduce__',\n",
       " '__reduce_ex__',\n",
       " '__repr__',\n",
       " '__setattr__',\n",
       " '__sizeof__',\n",
       " '__slots__',\n",
       " '__str__',\n",
       " '__subclasshook__',\n",
       " '__weakref__',\n",
       " '_accessors',\n",
       " '_agg_examples_doc',\n",
       " '_agg_general',\n",
       " '_agg_py_fallback',\n",
       " '_aggregate_frame',\n",
       " '_aggregate_item_by_item',\n",
       " '_aggregate_with_numba',\n",
       " '_apply_allowlist',\n",
       " '_apply_filter',\n",
       " '_apply_to_column_groupbys',\n",
       " '_bool_agg',\n",
       " '_can_use_transform_fast',\n",
       " '_choose_path',\n",
       " '_concat_objects',\n",
       " '_constructor',\n",
       " '_cumcount_array',\n",
       " '_cython_agg_general',\n",
       " '_cython_transform',\n",
       " '_define_paths',\n",
       " '_dir_additions',\n",
       " '_dir_deletions',\n",
       " '_fill',\n",
       " '_get_cythonized_result',\n",
       " '_get_data_to_aggregate',\n",
       " '_get_index',\n",
       " '_get_indices',\n",
       " '_gotitem',\n",
       " '_group_selection',\n",
       " '_hidden_attrs',\n",
       " '_insert_inaxis_grouper_inplace',\n",
       " '_internal_names',\n",
       " '_internal_names_set',\n",
       " '_is_protocol',\n",
       " '_iterate_column_groupbys',\n",
       " '_iterate_slices',\n",
       " '_make_wrapper',\n",
       " '_numba_prep',\n",
       " '_obj_1d_constructor',\n",
       " '_obj_with_exclusions',\n",
       " '_python_agg_general',\n",
       " '_python_apply_general',\n",
       " '_reindex_output',\n",
       " '_reset_cache',\n",
       " '_reset_group_selection',\n",
       " '_resolve_numeric_only',\n",
       " '_selected_obj',\n",
       " '_selection',\n",
       " '_selection_list',\n",
       " '_set_group_selection',\n",
       " '_set_result_index_ordered',\n",
       " '_transform',\n",
       " '_transform_general',\n",
       " '_transform_item_by_item',\n",
       " '_transform_with_numba',\n",
       " '_wrap_agged_manager',\n",
       " '_wrap_aggregated_output',\n",
       " '_wrap_applied_output',\n",
       " '_wrap_applied_output_series',\n",
       " '_wrap_transform_fast_result',\n",
       " '_wrap_transformed_output',\n",
       " 'agg',\n",
       " 'aggregate',\n",
       " 'all',\n",
       " 'any',\n",
       " 'apply',\n",
       " 'backfill',\n",
       " 'bfill',\n",
       " 'boxplot',\n",
       " 'corr',\n",
       " 'corrwith',\n",
       " 'count',\n",
       " 'cov',\n",
       " 'cumcount',\n",
       " 'cummax',\n",
       " 'cummin',\n",
       " 'cumprod',\n",
       " 'cumsum',\n",
       " 'describe',\n",
       " 'diff',\n",
       " 'dtypes',\n",
       " 'ewm',\n",
       " 'expanding',\n",
       " 'ffill',\n",
       " 'fillna',\n",
       " 'filter',\n",
       " 'first',\n",
       " 'get_group',\n",
       " 'groups',\n",
       " 'head',\n",
       " 'hist',\n",
       " 'idxmax',\n",
       " 'idxmin',\n",
       " 'indices',\n",
       " 'last',\n",
       " 'mad',\n",
       " 'max',\n",
       " 'mean',\n",
       " 'median',\n",
       " 'min',\n",
       " 'ndim',\n",
       " 'ngroup',\n",
       " 'ngroups',\n",
       " 'nth',\n",
       " 'nunique',\n",
       " 'ohlc',\n",
       " 'pad',\n",
       " 'pct_change',\n",
       " 'pipe',\n",
       " 'plot',\n",
       " 'prod',\n",
       " 'quantile',\n",
       " 'rank',\n",
       " 'resample',\n",
       " 'rolling',\n",
       " 'sample',\n",
       " 'sem',\n",
       " 'shift',\n",
       " 'size',\n",
       " 'skew',\n",
       " 'std',\n",
       " 'sum',\n",
       " 'tail',\n",
       " 'take',\n",
       " 'transform',\n",
       " 'tshift',\n",
       " 'var']"
      ]
     },
     "execution_count": 75,
     "metadata": {},
     "output_type": "execute_result"
    }
   ],
   "source": [
    "dir(grouped)"
   ]
  },
  {
   "cell_type": "code",
   "execution_count": 92,
   "id": "22ee49a6",
   "metadata": {},
   "outputs": [
    {
     "data": {
      "text/html": [
       "<div>\n",
       "<style scoped>\n",
       "    .dataframe tbody tr th:only-of-type {\n",
       "        vertical-align: middle;\n",
       "    }\n",
       "\n",
       "    .dataframe tbody tr th {\n",
       "        vertical-align: top;\n",
       "    }\n",
       "\n",
       "    .dataframe thead th {\n",
       "        text-align: right;\n",
       "    }\n",
       "</style>\n",
       "<table border=\"1\" class=\"dataframe\">\n",
       "  <thead>\n",
       "    <tr style=\"text-align: right;\">\n",
       "      <th></th>\n",
       "      <th>City</th>\n",
       "      <th>Discount</th>\n",
       "    </tr>\n",
       "  </thead>\n",
       "  <tbody>\n",
       "    <tr>\n",
       "      <th>0</th>\n",
       "      <td>Chicago</td>\n",
       "      <td>27</td>\n",
       "    </tr>\n",
       "    <tr>\n",
       "      <th>1</th>\n",
       "      <td>Houston</td>\n",
       "      <td>16</td>\n",
       "    </tr>\n",
       "    <tr>\n",
       "      <th>2</th>\n",
       "      <td>Los Angeles</td>\n",
       "      <td>20</td>\n",
       "    </tr>\n",
       "    <tr>\n",
       "      <th>3</th>\n",
       "      <td>New York</td>\n",
       "      <td>28</td>\n",
       "    </tr>\n",
       "    <tr>\n",
       "      <th>4</th>\n",
       "      <td>San Francisco</td>\n",
       "      <td>22</td>\n",
       "    </tr>\n",
       "  </tbody>\n",
       "</table>\n",
       "</div>"
      ],
      "text/plain": [
       "            City  Discount\n",
       "0        Chicago        27\n",
       "1        Houston        16\n",
       "2    Los Angeles        20\n",
       "3       New York        28\n",
       "4  San Francisco        22"
      ]
     },
     "execution_count": 92,
     "metadata": {},
     "output_type": "execute_result"
    }
   ],
   "source": [
    "df.groupby('City')['Discount'].max()\n",
    "df.groupby('City')[['Discount']].max().reset_index()\n",
    "df.groupby('City')[['Discount']].max().reset_index(drop = True)\n",
    "\n",
    "df.groupby('City')['Discount'].max().reset_index()"
   ]
  },
  {
   "cell_type": "code",
   "execution_count": 94,
   "id": "5363c05d",
   "metadata": {},
   "outputs": [
    {
     "data": {
      "text/html": [
       "<div>\n",
       "<style scoped>\n",
       "    .dataframe tbody tr th:only-of-type {\n",
       "        vertical-align: middle;\n",
       "    }\n",
       "\n",
       "    .dataframe tbody tr th {\n",
       "        vertical-align: top;\n",
       "    }\n",
       "\n",
       "    .dataframe thead th {\n",
       "        text-align: right;\n",
       "    }\n",
       "</style>\n",
       "<table border=\"1\" class=\"dataframe\">\n",
       "  <thead>\n",
       "    <tr style=\"text-align: right;\">\n",
       "      <th></th>\n",
       "      <th>Product_Category</th>\n",
       "      <th>Customer_Rating</th>\n",
       "      <th>Revenue</th>\n",
       "    </tr>\n",
       "  </thead>\n",
       "  <tbody>\n",
       "    <tr>\n",
       "      <th>0</th>\n",
       "      <td>Beauty</td>\n",
       "      <td>2.1</td>\n",
       "      <td>353</td>\n",
       "    </tr>\n",
       "    <tr>\n",
       "      <th>1</th>\n",
       "      <td>Clothing</td>\n",
       "      <td>1.1</td>\n",
       "      <td>397</td>\n",
       "    </tr>\n",
       "    <tr>\n",
       "      <th>2</th>\n",
       "      <td>Electronics</td>\n",
       "      <td>1.0</td>\n",
       "      <td>179</td>\n",
       "    </tr>\n",
       "    <tr>\n",
       "      <th>3</th>\n",
       "      <td>Furniture</td>\n",
       "      <td>1.1</td>\n",
       "      <td>132</td>\n",
       "    </tr>\n",
       "    <tr>\n",
       "      <th>4</th>\n",
       "      <td>Groceries</td>\n",
       "      <td>3.5</td>\n",
       "      <td>310</td>\n",
       "    </tr>\n",
       "  </tbody>\n",
       "</table>\n",
       "</div>"
      ],
      "text/plain": [
       "  Product_Category  Customer_Rating  Revenue\n",
       "0           Beauty              2.1      353\n",
       "1         Clothing              1.1      397\n",
       "2      Electronics              1.0      179\n",
       "3        Furniture              1.1      132\n",
       "4        Groceries              3.5      310"
      ]
     },
     "execution_count": 94,
     "metadata": {},
     "output_type": "execute_result"
    }
   ],
   "source": [
    "# For every product find min customer rating and min revenue\n",
    "df.groupby('Product_Category')[['Customer_Rating', 'Revenue']].min()\n",
    "# I don't want index - \n",
    "df.groupby('Product_Category')[['Customer_Rating', 'Revenue']].min().reset_index()\n"
   ]
  },
  {
   "cell_type": "code",
   "execution_count": 95,
   "id": "180d26bf",
   "metadata": {},
   "outputs": [
    {
     "data": {
      "text/html": [
       "<div>\n",
       "<style scoped>\n",
       "    .dataframe tbody tr th:only-of-type {\n",
       "        vertical-align: middle;\n",
       "    }\n",
       "\n",
       "    .dataframe tbody tr th {\n",
       "        vertical-align: top;\n",
       "    }\n",
       "\n",
       "    .dataframe thead th {\n",
       "        text-align: right;\n",
       "    }\n",
       "</style>\n",
       "<table border=\"1\" class=\"dataframe\">\n",
       "  <thead>\n",
       "    <tr style=\"text-align: right;\">\n",
       "      <th></th>\n",
       "      <th>customer_rating_min</th>\n",
       "      <th>revenue_min</th>\n",
       "    </tr>\n",
       "    <tr>\n",
       "      <th>Product_Category</th>\n",
       "      <th></th>\n",
       "      <th></th>\n",
       "    </tr>\n",
       "  </thead>\n",
       "  <tbody>\n",
       "    <tr>\n",
       "      <th>Beauty</th>\n",
       "      <td>2.1</td>\n",
       "      <td>353</td>\n",
       "    </tr>\n",
       "    <tr>\n",
       "      <th>Clothing</th>\n",
       "      <td>1.1</td>\n",
       "      <td>397</td>\n",
       "    </tr>\n",
       "    <tr>\n",
       "      <th>Electronics</th>\n",
       "      <td>1.0</td>\n",
       "      <td>179</td>\n",
       "    </tr>\n",
       "    <tr>\n",
       "      <th>Furniture</th>\n",
       "      <td>1.1</td>\n",
       "      <td>132</td>\n",
       "    </tr>\n",
       "    <tr>\n",
       "      <th>Groceries</th>\n",
       "      <td>3.5</td>\n",
       "      <td>310</td>\n",
       "    </tr>\n",
       "  </tbody>\n",
       "</table>\n",
       "</div>"
      ],
      "text/plain": [
       "                  customer_rating_min  revenue_min\n",
       "Product_Category                                  \n",
       "Beauty                            2.1          353\n",
       "Clothing                          1.1          397\n",
       "Electronics                       1.0          179\n",
       "Furniture                         1.1          132\n",
       "Groceries                         3.5          310"
      ]
     },
     "execution_count": 95,
     "metadata": {},
     "output_type": "execute_result"
    }
   ],
   "source": [
    "# Slight problem - I'm getting the aggregated value column name same as actual column name\n",
    "# What if I want a custom name like customer_rating_min\n",
    "df.groupby('Product_Category').agg(customer_rating_min = ('Customer_Rating', 'min'), revenue_min = ('Revenue', 'min'))"
   ]
  },
  {
   "cell_type": "code",
   "execution_count": 96,
   "id": "00bbfaa4",
   "metadata": {},
   "outputs": [
    {
     "data": {
      "text/html": [
       "<div>\n",
       "<style scoped>\n",
       "    .dataframe tbody tr th:only-of-type {\n",
       "        vertical-align: middle;\n",
       "    }\n",
       "\n",
       "    .dataframe tbody tr th {\n",
       "        vertical-align: top;\n",
       "    }\n",
       "\n",
       "    .dataframe thead th {\n",
       "        text-align: right;\n",
       "    }\n",
       "</style>\n",
       "<table border=\"1\" class=\"dataframe\">\n",
       "  <thead>\n",
       "    <tr style=\"text-align: right;\">\n",
       "      <th></th>\n",
       "      <th>customer_rating_min</th>\n",
       "      <th>max_revenue</th>\n",
       "    </tr>\n",
       "    <tr>\n",
       "      <th>Product_Category</th>\n",
       "      <th></th>\n",
       "      <th></th>\n",
       "    </tr>\n",
       "  </thead>\n",
       "  <tbody>\n",
       "    <tr>\n",
       "      <th>Beauty</th>\n",
       "      <td>2.1</td>\n",
       "      <td>353</td>\n",
       "    </tr>\n",
       "    <tr>\n",
       "      <th>Clothing</th>\n",
       "      <td>1.1</td>\n",
       "      <td>414</td>\n",
       "    </tr>\n",
       "    <tr>\n",
       "      <th>Electronics</th>\n",
       "      <td>1.0</td>\n",
       "      <td>974</td>\n",
       "    </tr>\n",
       "    <tr>\n",
       "      <th>Furniture</th>\n",
       "      <td>1.1</td>\n",
       "      <td>216</td>\n",
       "    </tr>\n",
       "    <tr>\n",
       "      <th>Groceries</th>\n",
       "      <td>3.5</td>\n",
       "      <td>310</td>\n",
       "    </tr>\n",
       "  </tbody>\n",
       "</table>\n",
       "</div>"
      ],
      "text/plain": [
       "                  customer_rating_min  max_revenue\n",
       "Product_Category                                  \n",
       "Beauty                            2.1          353\n",
       "Clothing                          1.1          414\n",
       "Electronics                       1.0          974\n",
       "Furniture                         1.1          216\n",
       "Groceries                         3.5          310"
      ]
     },
     "execution_count": 96,
     "metadata": {},
     "output_type": "execute_result"
    }
   ],
   "source": [
    "# I want for each product category min of customer rating and max of revenue\n",
    "# Can't be done normally\n",
    "df.groupby('Product_Category')[['Customer_Rating', 'Revenue']].min()\n",
    "# Can be done using agg\n",
    "df.groupby('Product_Category').agg(customer_rating_min = ('Customer_Rating', 'min'), max_revenue = ('Revenue', 'max'))"
   ]
  },
  {
   "cell_type": "code",
   "execution_count": 97,
   "id": "3f42b608",
   "metadata": {},
   "outputs": [
    {
     "data": {
      "text/html": [
       "<div>\n",
       "<style scoped>\n",
       "    .dataframe tbody tr th:only-of-type {\n",
       "        vertical-align: middle;\n",
       "    }\n",
       "\n",
       "    .dataframe tbody tr th {\n",
       "        vertical-align: top;\n",
       "    }\n",
       "\n",
       "    .dataframe thead th {\n",
       "        text-align: right;\n",
       "    }\n",
       "</style>\n",
       "<table border=\"1\" class=\"dataframe\">\n",
       "  <thead>\n",
       "    <tr style=\"text-align: right;\">\n",
       "      <th></th>\n",
       "      <th>total_revenue</th>\n",
       "      <th>avg_discount</th>\n",
       "    </tr>\n",
       "    <tr>\n",
       "      <th>Product_Category</th>\n",
       "      <th></th>\n",
       "      <th></th>\n",
       "    </tr>\n",
       "  </thead>\n",
       "  <tbody>\n",
       "    <tr>\n",
       "      <th>Beauty</th>\n",
       "      <td>353</td>\n",
       "      <td>18.0</td>\n",
       "    </tr>\n",
       "    <tr>\n",
       "      <th>Clothing</th>\n",
       "      <td>811</td>\n",
       "      <td>9.0</td>\n",
       "    </tr>\n",
       "    <tr>\n",
       "      <th>Electronics</th>\n",
       "      <td>2823</td>\n",
       "      <td>21.5</td>\n",
       "    </tr>\n",
       "    <tr>\n",
       "      <th>Furniture</th>\n",
       "      <td>348</td>\n",
       "      <td>21.0</td>\n",
       "    </tr>\n",
       "    <tr>\n",
       "      <th>Groceries</th>\n",
       "      <td>310</td>\n",
       "      <td>22.0</td>\n",
       "    </tr>\n",
       "  </tbody>\n",
       "</table>\n",
       "</div>"
      ],
      "text/plain": [
       "                  total_revenue  avg_discount\n",
       "Product_Category                             \n",
       "Beauty                      353          18.0\n",
       "Clothing                    811           9.0\n",
       "Electronics                2823          21.5\n",
       "Furniture                   348          21.0\n",
       "Groceries                   310          22.0"
      ]
     },
     "execution_count": 97,
     "metadata": {},
     "output_type": "execute_result"
    }
   ],
   "source": [
    "# 1. Total Revenue and Average Discount per Product Category\n",
    "df.groupby('Product_Category').agg(total_revenue = ('Revenue', 'sum'), avg_discount = ('Discount', 'mean'))"
   ]
  },
  {
   "cell_type": "code",
   "execution_count": null,
   "id": "0dac1c8a",
   "metadata": {},
   "outputs": [],
   "source": [
    "# Number of Purchases and Average Customer Rating per City\n"
   ]
  },
  {
   "cell_type": "code",
   "execution_count": null,
   "id": "4110a16d",
   "metadata": {},
   "outputs": [],
   "source": [
    "# Next session \n",
    "# Group by apply Group by trasform \n",
    "# String operations and date operations\n",
    "# Pivots\n",
    "\n",
    "# Merge - on your own"
   ]
  },
  {
   "cell_type": "code",
   "execution_count": 1,
   "id": "013bc4b8",
   "metadata": {},
   "outputs": [],
   "source": [
    "import pandas as pd\n",
    "\n",
    "data_small = {\n",
    "    'Department': ['Sales', 'Sales', 'Sales', 'HR', 'HR', 'HR', 'IT', 'IT'],\n",
    "    'Employee': ['A', 'B', 'C', 'D', 'E', 'F', 'G', 'H'],\n",
    "    'Salary': [50000, 55000, 60000, 48000, 50000, 52000, 70000, 72000],\n",
    "    'Experience': [2, 3, 5, 1, 2, 4, 6, 8]\n",
    "}\n",
    "\n",
    "df = pd.DataFrame(data_small)\n"
   ]
  },
  {
   "cell_type": "code",
   "execution_count": 2,
   "id": "25381893",
   "metadata": {},
   "outputs": [
    {
     "data": {
      "text/html": [
       "<div>\n",
       "<style scoped>\n",
       "    .dataframe tbody tr th:only-of-type {\n",
       "        vertical-align: middle;\n",
       "    }\n",
       "\n",
       "    .dataframe tbody tr th {\n",
       "        vertical-align: top;\n",
       "    }\n",
       "\n",
       "    .dataframe thead th {\n",
       "        text-align: right;\n",
       "    }\n",
       "</style>\n",
       "<table border=\"1\" class=\"dataframe\">\n",
       "  <thead>\n",
       "    <tr style=\"text-align: right;\">\n",
       "      <th></th>\n",
       "      <th>Department</th>\n",
       "      <th>Employee</th>\n",
       "      <th>Salary</th>\n",
       "      <th>Experience</th>\n",
       "    </tr>\n",
       "  </thead>\n",
       "  <tbody>\n",
       "    <tr>\n",
       "      <th>0</th>\n",
       "      <td>Sales</td>\n",
       "      <td>A</td>\n",
       "      <td>50000</td>\n",
       "      <td>2</td>\n",
       "    </tr>\n",
       "    <tr>\n",
       "      <th>1</th>\n",
       "      <td>Sales</td>\n",
       "      <td>B</td>\n",
       "      <td>55000</td>\n",
       "      <td>3</td>\n",
       "    </tr>\n",
       "    <tr>\n",
       "      <th>2</th>\n",
       "      <td>Sales</td>\n",
       "      <td>C</td>\n",
       "      <td>60000</td>\n",
       "      <td>5</td>\n",
       "    </tr>\n",
       "    <tr>\n",
       "      <th>3</th>\n",
       "      <td>HR</td>\n",
       "      <td>D</td>\n",
       "      <td>48000</td>\n",
       "      <td>1</td>\n",
       "    </tr>\n",
       "    <tr>\n",
       "      <th>4</th>\n",
       "      <td>HR</td>\n",
       "      <td>E</td>\n",
       "      <td>50000</td>\n",
       "      <td>2</td>\n",
       "    </tr>\n",
       "    <tr>\n",
       "      <th>5</th>\n",
       "      <td>HR</td>\n",
       "      <td>F</td>\n",
       "      <td>52000</td>\n",
       "      <td>4</td>\n",
       "    </tr>\n",
       "    <tr>\n",
       "      <th>6</th>\n",
       "      <td>IT</td>\n",
       "      <td>G</td>\n",
       "      <td>70000</td>\n",
       "      <td>6</td>\n",
       "    </tr>\n",
       "    <tr>\n",
       "      <th>7</th>\n",
       "      <td>IT</td>\n",
       "      <td>H</td>\n",
       "      <td>72000</td>\n",
       "      <td>8</td>\n",
       "    </tr>\n",
       "  </tbody>\n",
       "</table>\n",
       "</div>"
      ],
      "text/plain": [
       "  Department Employee  Salary  Experience\n",
       "0      Sales        A   50000           2\n",
       "1      Sales        B   55000           3\n",
       "2      Sales        C   60000           5\n",
       "3         HR        D   48000           1\n",
       "4         HR        E   50000           2\n",
       "5         HR        F   52000           4\n",
       "6         IT        G   70000           6\n",
       "7         IT        H   72000           8"
      ]
     },
     "execution_count": 2,
     "metadata": {},
     "output_type": "execute_result"
    }
   ],
   "source": [
    "df"
   ]
  },
  {
   "cell_type": "code",
   "execution_count": 4,
   "id": "122f9c5c",
   "metadata": {},
   "outputs": [
    {
     "data": {
      "text/plain": [
       "0     2000\n",
       "1     7000\n",
       "2    12000\n",
       "3        0\n",
       "4     2000\n",
       "5     4000\n",
       "6    22000\n",
       "7    24000\n",
       "Name: Salary, dtype: int64"
      ]
     },
     "execution_count": 4,
     "metadata": {},
     "output_type": "execute_result"
    }
   ],
   "source": [
    "# Find out how much each employees salary is more as compared to employee with minimum salary\n",
    "df['Salary'] - df['Salary'].min()"
   ]
  },
  {
   "cell_type": "code",
   "execution_count": 22,
   "id": "f71369dc",
   "metadata": {},
   "outputs": [
    {
     "data": {
      "text/plain": [
       "0     2000\n",
       "1     7000\n",
       "2    12000\n",
       "3        0\n",
       "4     2000\n",
       "5     4000\n",
       "6    22000\n",
       "7    24000\n",
       "Name: Salary, dtype: int64"
      ]
     },
     "execution_count": 22,
     "metadata": {},
     "output_type": "execute_result"
    }
   ],
   "source": [
    "def diff_salary(x, min_salary):\n",
    "    return x-min_salary\n",
    "min_sal = df['Salary'].min()\n",
    "df['Salary'].apply(diff_salary, min_salary = min_sal)"
   ]
  },
  {
   "cell_type": "code",
   "execution_count": 9,
   "id": "ecc2fef1",
   "metadata": {},
   "outputs": [],
   "source": [
    "def diff_salary_group(ds):\n",
    "    return ds - ds.min()"
   ]
  },
  {
   "cell_type": "code",
   "execution_count": 10,
   "id": "57d1ee63",
   "metadata": {},
   "outputs": [
    {
     "data": {
      "text/plain": [
       "0        0\n",
       "1     5000\n",
       "2    10000\n",
       "3        0\n",
       "4     2000\n",
       "5     4000\n",
       "6        0\n",
       "7     2000\n",
       "Name: Salary, dtype: int64"
      ]
     },
     "execution_count": 10,
     "metadata": {},
     "output_type": "execute_result"
    }
   ],
   "source": [
    "# Find how much each employees salary is more than the person with minimum salary in the same department\n",
    "df.groupby('Department')['Salary'].apply(diff_salary_group)"
   ]
  },
  {
   "cell_type": "code",
   "execution_count": 15,
   "id": "0238b815",
   "metadata": {},
   "outputs": [],
   "source": [
    "def sample_apply(ds):\n",
    "    print(ds)\n",
    "    return pd.Series([0,1,2,3,4,5,6])"
   ]
  },
  {
   "cell_type": "code",
   "execution_count": 16,
   "id": "448857ce",
   "metadata": {},
   "outputs": [
    {
     "name": "stdout",
     "output_type": "stream",
     "text": [
      "3    48000\n",
      "4    50000\n",
      "5    52000\n",
      "Name: HR, dtype: int64\n",
      "6    70000\n",
      "7    72000\n",
      "Name: IT, dtype: int64\n",
      "0    50000\n",
      "1    55000\n",
      "2    60000\n",
      "Name: Sales, dtype: int64\n"
     ]
    },
    {
     "data": {
      "text/plain": [
       "Department   \n",
       "HR          0    0\n",
       "            1    1\n",
       "            2    2\n",
       "            3    3\n",
       "            4    4\n",
       "            5    5\n",
       "            6    6\n",
       "IT          0    0\n",
       "            1    1\n",
       "            2    2\n",
       "            3    3\n",
       "            4    4\n",
       "            5    5\n",
       "            6    6\n",
       "Sales       0    0\n",
       "            1    1\n",
       "            2    2\n",
       "            3    3\n",
       "            4    4\n",
       "            5    5\n",
       "            6    6\n",
       "Name: Salary, dtype: int64"
      ]
     },
     "execution_count": 16,
     "metadata": {},
     "output_type": "execute_result"
    }
   ],
   "source": [
    "df.groupby('Department')['Salary'].apply(sample_apply)"
   ]
  },
  {
   "cell_type": "code",
   "execution_count": 18,
   "id": "70daddd0",
   "metadata": {},
   "outputs": [],
   "source": [
    "def diff_salary_group(ds):\n",
    "    return (ds - ds.min()).mean()"
   ]
  },
  {
   "cell_type": "code",
   "execution_count": 20,
   "id": "968d1ea6",
   "metadata": {},
   "outputs": [
    {
     "data": {
      "text/html": [
       "<div>\n",
       "<style scoped>\n",
       "    .dataframe tbody tr th:only-of-type {\n",
       "        vertical-align: middle;\n",
       "    }\n",
       "\n",
       "    .dataframe tbody tr th {\n",
       "        vertical-align: top;\n",
       "    }\n",
       "\n",
       "    .dataframe thead th {\n",
       "        text-align: right;\n",
       "    }\n",
       "</style>\n",
       "<table border=\"1\" class=\"dataframe\">\n",
       "  <thead>\n",
       "    <tr style=\"text-align: right;\">\n",
       "      <th></th>\n",
       "      <th>Salary</th>\n",
       "    </tr>\n",
       "    <tr>\n",
       "      <th>Department</th>\n",
       "      <th></th>\n",
       "    </tr>\n",
       "  </thead>\n",
       "  <tbody>\n",
       "    <tr>\n",
       "      <th>HR</th>\n",
       "      <td>2000.0</td>\n",
       "    </tr>\n",
       "    <tr>\n",
       "      <th>IT</th>\n",
       "      <td>1000.0</td>\n",
       "    </tr>\n",
       "    <tr>\n",
       "      <th>Sales</th>\n",
       "      <td>5000.0</td>\n",
       "    </tr>\n",
       "  </tbody>\n",
       "</table>\n",
       "</div>"
      ],
      "text/plain": [
       "            Salary\n",
       "Department        \n",
       "HR          2000.0\n",
       "IT          1000.0\n",
       "Sales       5000.0"
      ]
     },
     "execution_count": 20,
     "metadata": {},
     "output_type": "execute_result"
    }
   ],
   "source": [
    "# We get back a dataseries but with new indexes\n",
    "df.groupby('Department')['Salary'].apply(diff_salary_group)\n",
    "# We get back a dataframe with new indexes\n",
    "df.groupby('Department')['Salary'].apply(diff_salary_group)"
   ]
  },
  {
   "cell_type": "code",
   "execution_count": null,
   "id": "1da0908d",
   "metadata": {},
   "outputs": [],
   "source": [
    "# 1. If the number of values going = no of values coming back the original indexes will become indexes of new values coming back\n",
    "# 2. If the number of values going != no of values coming back then new indexes will be created by group names"
   ]
  },
  {
   "cell_type": "code",
   "execution_count": null,
   "id": "4eb9d4da",
   "metadata": {},
   "outputs": [],
   "source": [
    "def random_func(x):\n",
    "    return x**2\n",
    "\n",
    "df['Experience'].apply(random_func)\n",
    "# Is there any group? - int will go and int will come back (dataseries will come back accumulated)\n",
    "\n",
    "df.groupby('Department')['Experience'].apply(random_func)\n",
    "\n",
    "# Is there a group? - Each group's data series will go, each group's data series will come back - indexes - Original index\n",
    "df.groupby('Department')[['Experience']].apply(random_func)\n",
    "\n",
    "# Tell me in all three what is the data type going in the function and coming from the function\n",
    "\n"
   ]
  },
  {
   "cell_type": "code",
   "execution_count": null,
   "id": "4c5d4fce",
   "metadata": {},
   "outputs": [],
   "source": [
    "def random_fun(x):\n",
    "    return x.mean()**2\n",
    "\n",
    "\n",
    "df['Experience'].apply(random_func) \n",
    "# Error\n",
    "\n",
    "df.groupby('Department')['Experience'].apply(random_func)\n",
    "# Data Series will go, One value for each data series will come back - INdex - Group name - Combined to make a data series\n",
    "\n",
    "df.groupby('Department')[['Experience']].apply(random_func)\n"
   ]
  },
  {
   "cell_type": "code",
   "execution_count": 23,
   "id": "d6272e92",
   "metadata": {},
   "outputs": [
    {
     "data": {
      "text/html": [
       "<div>\n",
       "<style scoped>\n",
       "    .dataframe tbody tr th:only-of-type {\n",
       "        vertical-align: middle;\n",
       "    }\n",
       "\n",
       "    .dataframe tbody tr th {\n",
       "        vertical-align: top;\n",
       "    }\n",
       "\n",
       "    .dataframe thead th {\n",
       "        text-align: right;\n",
       "    }\n",
       "</style>\n",
       "<table border=\"1\" class=\"dataframe\">\n",
       "  <thead>\n",
       "    <tr style=\"text-align: right;\">\n",
       "      <th></th>\n",
       "      <th>Department</th>\n",
       "      <th>Employee</th>\n",
       "      <th>Salary</th>\n",
       "      <th>Experience</th>\n",
       "    </tr>\n",
       "  </thead>\n",
       "  <tbody>\n",
       "    <tr>\n",
       "      <th>0</th>\n",
       "      <td>Sales</td>\n",
       "      <td>A</td>\n",
       "      <td>50000</td>\n",
       "      <td>2</td>\n",
       "    </tr>\n",
       "    <tr>\n",
       "      <th>1</th>\n",
       "      <td>Sales</td>\n",
       "      <td>B</td>\n",
       "      <td>55000</td>\n",
       "      <td>3</td>\n",
       "    </tr>\n",
       "    <tr>\n",
       "      <th>2</th>\n",
       "      <td>Sales</td>\n",
       "      <td>C</td>\n",
       "      <td>60000</td>\n",
       "      <td>5</td>\n",
       "    </tr>\n",
       "    <tr>\n",
       "      <th>3</th>\n",
       "      <td>HR</td>\n",
       "      <td>D</td>\n",
       "      <td>48000</td>\n",
       "      <td>1</td>\n",
       "    </tr>\n",
       "    <tr>\n",
       "      <th>4</th>\n",
       "      <td>HR</td>\n",
       "      <td>E</td>\n",
       "      <td>50000</td>\n",
       "      <td>2</td>\n",
       "    </tr>\n",
       "    <tr>\n",
       "      <th>5</th>\n",
       "      <td>HR</td>\n",
       "      <td>F</td>\n",
       "      <td>52000</td>\n",
       "      <td>4</td>\n",
       "    </tr>\n",
       "    <tr>\n",
       "      <th>6</th>\n",
       "      <td>IT</td>\n",
       "      <td>G</td>\n",
       "      <td>70000</td>\n",
       "      <td>6</td>\n",
       "    </tr>\n",
       "    <tr>\n",
       "      <th>7</th>\n",
       "      <td>IT</td>\n",
       "      <td>H</td>\n",
       "      <td>72000</td>\n",
       "      <td>8</td>\n",
       "    </tr>\n",
       "  </tbody>\n",
       "</table>\n",
       "</div>"
      ],
      "text/plain": [
       "  Department Employee  Salary  Experience\n",
       "0      Sales        A   50000           2\n",
       "1      Sales        B   55000           3\n",
       "2      Sales        C   60000           5\n",
       "3         HR        D   48000           1\n",
       "4         HR        E   50000           2\n",
       "5         HR        F   52000           4\n",
       "6         IT        G   70000           6\n",
       "7         IT        H   72000           8"
      ]
     },
     "execution_count": 23,
     "metadata": {},
     "output_type": "execute_result"
    }
   ],
   "source": [
    "df"
   ]
  },
  {
   "cell_type": "code",
   "execution_count": null,
   "id": "cda128f6",
   "metadata": {},
   "outputs": [],
   "source": [
    "def random_func(x):\n",
    "    return x['Experience']**2\n",
    "    \n",
    "df.apply(random_func, axis = 1)"
   ]
  },
  {
   "cell_type": "code",
   "execution_count": 24,
   "id": "8b71e6d3",
   "metadata": {},
   "outputs": [],
   "source": [
    "import numpy as np\n",
    "\n",
    "np.random.seed(42)\n",
    "data_large = {\n",
    "    'Department': np.random.choice(['Sales', 'HR', 'IT', 'Finance'], 500),\n",
    "    'Employee_ID': np.arange(1, 501),\n",
    "    'Salary': np.random.randint(40000, 100000, 500),\n",
    "    'Experience': np.random.randint(1, 15, 500),\n",
    "    'Performance_Score': np.random.uniform(1, 5, 500)\n",
    "}\n",
    "\n",
    "df_large = pd.DataFrame(data_large)\n"
   ]
  },
  {
   "cell_type": "code",
   "execution_count": 25,
   "id": "ee278a17",
   "metadata": {},
   "outputs": [
    {
     "data": {
      "text/html": [
       "<div>\n",
       "<style scoped>\n",
       "    .dataframe tbody tr th:only-of-type {\n",
       "        vertical-align: middle;\n",
       "    }\n",
       "\n",
       "    .dataframe tbody tr th {\n",
       "        vertical-align: top;\n",
       "    }\n",
       "\n",
       "    .dataframe thead th {\n",
       "        text-align: right;\n",
       "    }\n",
       "</style>\n",
       "<table border=\"1\" class=\"dataframe\">\n",
       "  <thead>\n",
       "    <tr style=\"text-align: right;\">\n",
       "      <th></th>\n",
       "      <th>Department</th>\n",
       "      <th>Employee_ID</th>\n",
       "      <th>Salary</th>\n",
       "      <th>Experience</th>\n",
       "      <th>Performance_Score</th>\n",
       "    </tr>\n",
       "  </thead>\n",
       "  <tbody>\n",
       "    <tr>\n",
       "      <th>0</th>\n",
       "      <td>IT</td>\n",
       "      <td>1</td>\n",
       "      <td>40190</td>\n",
       "      <td>1</td>\n",
       "      <td>3.305153</td>\n",
       "    </tr>\n",
       "    <tr>\n",
       "      <th>1</th>\n",
       "      <td>Finance</td>\n",
       "      <td>2</td>\n",
       "      <td>50492</td>\n",
       "      <td>11</td>\n",
       "      <td>3.426860</td>\n",
       "    </tr>\n",
       "    <tr>\n",
       "      <th>2</th>\n",
       "      <td>Sales</td>\n",
       "      <td>3</td>\n",
       "      <td>90132</td>\n",
       "      <td>5</td>\n",
       "      <td>2.696523</td>\n",
       "    </tr>\n",
       "    <tr>\n",
       "      <th>3</th>\n",
       "      <td>IT</td>\n",
       "      <td>4</td>\n",
       "      <td>75743</td>\n",
       "      <td>10</td>\n",
       "      <td>3.945777</td>\n",
       "    </tr>\n",
       "    <tr>\n",
       "      <th>4</th>\n",
       "      <td>IT</td>\n",
       "      <td>5</td>\n",
       "      <td>46102</td>\n",
       "      <td>9</td>\n",
       "      <td>4.737468</td>\n",
       "    </tr>\n",
       "    <tr>\n",
       "      <th>...</th>\n",
       "      <td>...</td>\n",
       "      <td>...</td>\n",
       "      <td>...</td>\n",
       "      <td>...</td>\n",
       "      <td>...</td>\n",
       "    </tr>\n",
       "    <tr>\n",
       "      <th>495</th>\n",
       "      <td>IT</td>\n",
       "      <td>496</td>\n",
       "      <td>77892</td>\n",
       "      <td>8</td>\n",
       "      <td>1.418271</td>\n",
       "    </tr>\n",
       "    <tr>\n",
       "      <th>496</th>\n",
       "      <td>IT</td>\n",
       "      <td>497</td>\n",
       "      <td>41015</td>\n",
       "      <td>5</td>\n",
       "      <td>3.545721</td>\n",
       "    </tr>\n",
       "    <tr>\n",
       "      <th>497</th>\n",
       "      <td>Finance</td>\n",
       "      <td>498</td>\n",
       "      <td>99168</td>\n",
       "      <td>8</td>\n",
       "      <td>3.825903</td>\n",
       "    </tr>\n",
       "    <tr>\n",
       "      <th>498</th>\n",
       "      <td>Sales</td>\n",
       "      <td>499</td>\n",
       "      <td>67712</td>\n",
       "      <td>10</td>\n",
       "      <td>1.126345</td>\n",
       "    </tr>\n",
       "    <tr>\n",
       "      <th>499</th>\n",
       "      <td>Finance</td>\n",
       "      <td>500</td>\n",
       "      <td>74961</td>\n",
       "      <td>1</td>\n",
       "      <td>4.744849</td>\n",
       "    </tr>\n",
       "  </tbody>\n",
       "</table>\n",
       "<p>500 rows × 5 columns</p>\n",
       "</div>"
      ],
      "text/plain": [
       "    Department  Employee_ID  Salary  Experience  Performance_Score\n",
       "0           IT            1   40190           1           3.305153\n",
       "1      Finance            2   50492          11           3.426860\n",
       "2        Sales            3   90132           5           2.696523\n",
       "3           IT            4   75743          10           3.945777\n",
       "4           IT            5   46102           9           4.737468\n",
       "..         ...          ...     ...         ...                ...\n",
       "495         IT          496   77892           8           1.418271\n",
       "496         IT          497   41015           5           3.545721\n",
       "497    Finance          498   99168           8           3.825903\n",
       "498      Sales          499   67712          10           1.126345\n",
       "499    Finance          500   74961           1           4.744849\n",
       "\n",
       "[500 rows x 5 columns]"
      ]
     },
     "execution_count": 25,
     "metadata": {},
     "output_type": "execute_result"
    }
   ],
   "source": [
    "df_large"
   ]
  },
  {
   "cell_type": "code",
   "execution_count": 28,
   "id": "7e36ea4b",
   "metadata": {},
   "outputs": [],
   "source": [
    "def adjust_salary(ds):\n",
    "    if(ds.mean()<60000):\n",
    "        return ds*1.1\n",
    "    else:\n",
    "        return ds"
   ]
  },
  {
   "cell_type": "code",
   "execution_count": 31,
   "id": "34672eaf",
   "metadata": {},
   "outputs": [
    {
     "data": {
      "text/plain": [
       "0      40190\n",
       "1      50492\n",
       "2      90132\n",
       "3      75743\n",
       "4      46102\n",
       "       ...  \n",
       "495    77892\n",
       "496    41015\n",
       "497    99168\n",
       "498    67712\n",
       "499    74961\n",
       "Name: Salary, Length: 500, dtype: int32"
      ]
     },
     "execution_count": 31,
     "metadata": {},
     "output_type": "execute_result"
    }
   ],
   "source": [
    "#  increase the salary of each employee by 10% if the avg salary of a department is less than 60000\n",
    "df_large.loc[df_large['Department'] == 'IT']['Salary']\n",
    "df_large.groupby('Department')['Salary'].apply(adjust_salary)\n",
    "\n",
    "# When number of values going in and coming back are same, you can use transform instead of apply"
   ]
  },
  {
   "cell_type": "code",
   "execution_count": null,
   "id": "7d168cef",
   "metadata": {},
   "outputs": [],
   "source": [
    "#  increase the salary of each employee by 10% if the avg Performance_Score of a department is greater than 4"
   ]
  },
  {
   "cell_type": "code",
   "execution_count": 33,
   "id": "3f81d9b7",
   "metadata": {},
   "outputs": [
    {
     "data": {
      "text/html": [
       "<div>\n",
       "<style scoped>\n",
       "    .dataframe tbody tr th:only-of-type {\n",
       "        vertical-align: middle;\n",
       "    }\n",
       "\n",
       "    .dataframe tbody tr th {\n",
       "        vertical-align: top;\n",
       "    }\n",
       "\n",
       "    .dataframe thead th {\n",
       "        text-align: right;\n",
       "    }\n",
       "</style>\n",
       "<table border=\"1\" class=\"dataframe\">\n",
       "  <thead>\n",
       "    <tr style=\"text-align: right;\">\n",
       "      <th></th>\n",
       "      <th>Department</th>\n",
       "      <th>Employee</th>\n",
       "      <th>Salary</th>\n",
       "      <th>Experience</th>\n",
       "    </tr>\n",
       "  </thead>\n",
       "  <tbody>\n",
       "    <tr>\n",
       "      <th>0</th>\n",
       "      <td>Sales</td>\n",
       "      <td>A</td>\n",
       "      <td>50000</td>\n",
       "      <td>2</td>\n",
       "    </tr>\n",
       "    <tr>\n",
       "      <th>1</th>\n",
       "      <td>Sales</td>\n",
       "      <td>B</td>\n",
       "      <td>55000</td>\n",
       "      <td>3</td>\n",
       "    </tr>\n",
       "    <tr>\n",
       "      <th>2</th>\n",
       "      <td>Sales</td>\n",
       "      <td>C</td>\n",
       "      <td>60000</td>\n",
       "      <td>5</td>\n",
       "    </tr>\n",
       "  </tbody>\n",
       "</table>\n",
       "</div>"
      ],
      "text/plain": [
       "  Department Employee  Salary  Experience\n",
       "0      Sales        A   50000           2\n",
       "1      Sales        B   55000           3\n",
       "2      Sales        C   60000           5"
      ]
     },
     "execution_count": 33,
     "metadata": {},
     "output_type": "execute_result"
    }
   ],
   "source": [
    "df.loc[df['Department'] == 'Sales']"
   ]
  },
  {
   "cell_type": "code",
   "execution_count": 34,
   "id": "2a813fd8",
   "metadata": {},
   "outputs": [],
   "source": [
    "def increase_salary(dff):\n",
    "    if(dff['Performance_Score'].mean()>4):\n",
    "        return dff['Salary'] * 1.1\n",
    "    else:\n",
    "        return dff['Salary']"
   ]
  },
  {
   "cell_type": "code",
   "execution_count": 36,
   "id": "ed7ca5c5",
   "metadata": {},
   "outputs": [
    {
     "data": {
      "text/plain": [
       "Department     \n",
       "Finance     1      50492\n",
       "            5      90336\n",
       "            14     40569\n",
       "            16     74663\n",
       "            17     91885\n",
       "                   ...  \n",
       "Sales       489    40009\n",
       "            491    98141\n",
       "            492    63793\n",
       "            494    69548\n",
       "            498    67712\n",
       "Name: Salary, Length: 500, dtype: int32"
      ]
     },
     "execution_count": 36,
     "metadata": {},
     "output_type": "execute_result"
    }
   ],
   "source": [
    "df_large.groupby('Department').apply(increase_salary)"
   ]
  },
  {
   "cell_type": "code",
   "execution_count": null,
   "id": "6ac9afb3",
   "metadata": {},
   "outputs": [],
   "source": [
    "# apply - \n",
    "# 1. With Data series without grouping\n",
    "# 2. With Data frame with axis without grouping\n",
    "# 3. With grouping and Data series\n",
    "# 4. With grouping and dataframe"
   ]
  },
  {
   "cell_type": "code",
   "execution_count": null,
   "id": "1b0b4663",
   "metadata": {},
   "outputs": [],
   "source": []
  },
  {
   "cell_type": "code",
   "execution_count": 38,
   "id": "9b913f0c",
   "metadata": {},
   "outputs": [
    {
     "data": {
      "text/html": [
       "<div>\n",
       "<style scoped>\n",
       "    .dataframe tbody tr th:only-of-type {\n",
       "        vertical-align: middle;\n",
       "    }\n",
       "\n",
       "    .dataframe tbody tr th {\n",
       "        vertical-align: top;\n",
       "    }\n",
       "\n",
       "    .dataframe thead th {\n",
       "        text-align: right;\n",
       "    }\n",
       "</style>\n",
       "<table border=\"1\" class=\"dataframe\">\n",
       "  <thead>\n",
       "    <tr style=\"text-align: right;\">\n",
       "      <th></th>\n",
       "      <th>Department</th>\n",
       "      <th>Employee</th>\n",
       "      <th>Salary</th>\n",
       "      <th>Experience</th>\n",
       "    </tr>\n",
       "  </thead>\n",
       "  <tbody>\n",
       "    <tr>\n",
       "      <th>0</th>\n",
       "      <td>Sales</td>\n",
       "      <td>A</td>\n",
       "      <td>50000</td>\n",
       "      <td>2</td>\n",
       "    </tr>\n",
       "    <tr>\n",
       "      <th>1</th>\n",
       "      <td>Sales</td>\n",
       "      <td>B</td>\n",
       "      <td>55000</td>\n",
       "      <td>3</td>\n",
       "    </tr>\n",
       "    <tr>\n",
       "      <th>2</th>\n",
       "      <td>Sales</td>\n",
       "      <td>C</td>\n",
       "      <td>60000</td>\n",
       "      <td>5</td>\n",
       "    </tr>\n",
       "  </tbody>\n",
       "</table>\n",
       "</div>"
      ],
      "text/plain": [
       "  Department Employee  Salary  Experience\n",
       "0      Sales        A   50000           2\n",
       "1      Sales        B   55000           3\n",
       "2      Sales        C   60000           5"
      ]
     },
     "execution_count": 38,
     "metadata": {},
     "output_type": "execute_result"
    }
   ],
   "source": [
    "# Question for each Department sample the data keeping only top 2 rows of each department\n",
    "df[df['Department'] == 'Sales']"
   ]
  },
  {
   "cell_type": "code",
   "execution_count": 39,
   "id": "9d8cc8c1",
   "metadata": {},
   "outputs": [],
   "source": [
    "def sample_custom(df):\n",
    "    return df.head(2)"
   ]
  },
  {
   "cell_type": "code",
   "execution_count": 42,
   "id": "c3f08320",
   "metadata": {},
   "outputs": [
    {
     "data": {
      "text/html": [
       "<div>\n",
       "<style scoped>\n",
       "    .dataframe tbody tr th:only-of-type {\n",
       "        vertical-align: middle;\n",
       "    }\n",
       "\n",
       "    .dataframe tbody tr th {\n",
       "        vertical-align: top;\n",
       "    }\n",
       "\n",
       "    .dataframe thead th {\n",
       "        text-align: right;\n",
       "    }\n",
       "</style>\n",
       "<table border=\"1\" class=\"dataframe\">\n",
       "  <thead>\n",
       "    <tr style=\"text-align: right;\">\n",
       "      <th></th>\n",
       "      <th>Department</th>\n",
       "      <th>Employee_ID</th>\n",
       "      <th>Salary</th>\n",
       "      <th>Experience</th>\n",
       "      <th>Performance_Score</th>\n",
       "    </tr>\n",
       "  </thead>\n",
       "  <tbody>\n",
       "    <tr>\n",
       "      <th>0</th>\n",
       "      <td>Finance</td>\n",
       "      <td>2</td>\n",
       "      <td>50492</td>\n",
       "      <td>11</td>\n",
       "      <td>3.426860</td>\n",
       "    </tr>\n",
       "    <tr>\n",
       "      <th>1</th>\n",
       "      <td>Finance</td>\n",
       "      <td>6</td>\n",
       "      <td>90336</td>\n",
       "      <td>6</td>\n",
       "      <td>4.702274</td>\n",
       "    </tr>\n",
       "    <tr>\n",
       "      <th>2</th>\n",
       "      <td>HR</td>\n",
       "      <td>10</td>\n",
       "      <td>66641</td>\n",
       "      <td>13</td>\n",
       "      <td>4.355592</td>\n",
       "    </tr>\n",
       "    <tr>\n",
       "      <th>3</th>\n",
       "      <td>HR</td>\n",
       "      <td>21</td>\n",
       "      <td>47455</td>\n",
       "      <td>5</td>\n",
       "      <td>2.333997</td>\n",
       "    </tr>\n",
       "    <tr>\n",
       "      <th>4</th>\n",
       "      <td>IT</td>\n",
       "      <td>1</td>\n",
       "      <td>40190</td>\n",
       "      <td>1</td>\n",
       "      <td>3.305153</td>\n",
       "    </tr>\n",
       "    <tr>\n",
       "      <th>5</th>\n",
       "      <td>IT</td>\n",
       "      <td>4</td>\n",
       "      <td>75743</td>\n",
       "      <td>10</td>\n",
       "      <td>3.945777</td>\n",
       "    </tr>\n",
       "    <tr>\n",
       "      <th>6</th>\n",
       "      <td>Sales</td>\n",
       "      <td>3</td>\n",
       "      <td>90132</td>\n",
       "      <td>5</td>\n",
       "      <td>2.696523</td>\n",
       "    </tr>\n",
       "    <tr>\n",
       "      <th>7</th>\n",
       "      <td>Sales</td>\n",
       "      <td>7</td>\n",
       "      <td>92479</td>\n",
       "      <td>11</td>\n",
       "      <td>2.803357</td>\n",
       "    </tr>\n",
       "  </tbody>\n",
       "</table>\n",
       "</div>"
      ],
      "text/plain": [
       "  Department  Employee_ID  Salary  Experience  Performance_Score\n",
       "0    Finance            2   50492          11           3.426860\n",
       "1    Finance            6   90336           6           4.702274\n",
       "2         HR           10   66641          13           4.355592\n",
       "3         HR           21   47455           5           2.333997\n",
       "4         IT            1   40190           1           3.305153\n",
       "5         IT            4   75743          10           3.945777\n",
       "6      Sales            3   90132           5           2.696523\n",
       "7      Sales            7   92479          11           2.803357"
      ]
     },
     "execution_count": 42,
     "metadata": {},
     "output_type": "execute_result"
    }
   ],
   "source": [
    "df_large.groupby('Department').apply(sample_custom).reset_index(drop = True)"
   ]
  },
  {
   "cell_type": "code",
   "execution_count": 43,
   "id": "e73574d2",
   "metadata": {},
   "outputs": [],
   "source": [
    "# Random sampling by department\n",
    "def random_grp_sampling(dff):\n",
    "    return dff.sample(2)\n"
   ]
  },
  {
   "cell_type": "code",
   "execution_count": 46,
   "id": "81742062",
   "metadata": {},
   "outputs": [
    {
     "data": {
      "text/html": [
       "<div>\n",
       "<style scoped>\n",
       "    .dataframe tbody tr th:only-of-type {\n",
       "        vertical-align: middle;\n",
       "    }\n",
       "\n",
       "    .dataframe tbody tr th {\n",
       "        vertical-align: top;\n",
       "    }\n",
       "\n",
       "    .dataframe thead th {\n",
       "        text-align: right;\n",
       "    }\n",
       "</style>\n",
       "<table border=\"1\" class=\"dataframe\">\n",
       "  <thead>\n",
       "    <tr style=\"text-align: right;\">\n",
       "      <th></th>\n",
       "      <th></th>\n",
       "      <th>Department</th>\n",
       "      <th>Employee_ID</th>\n",
       "      <th>Salary</th>\n",
       "      <th>Experience</th>\n",
       "      <th>Performance_Score</th>\n",
       "    </tr>\n",
       "    <tr>\n",
       "      <th>Department</th>\n",
       "      <th></th>\n",
       "      <th></th>\n",
       "      <th></th>\n",
       "      <th></th>\n",
       "      <th></th>\n",
       "      <th></th>\n",
       "    </tr>\n",
       "  </thead>\n",
       "  <tbody>\n",
       "    <tr>\n",
       "      <th rowspan=\"2\" valign=\"top\">Finance</th>\n",
       "      <th>88</th>\n",
       "      <td>Finance</td>\n",
       "      <td>89</td>\n",
       "      <td>59508</td>\n",
       "      <td>9</td>\n",
       "      <td>3.889068</td>\n",
       "    </tr>\n",
       "    <tr>\n",
       "      <th>55</th>\n",
       "      <td>Finance</td>\n",
       "      <td>56</td>\n",
       "      <td>80941</td>\n",
       "      <td>3</td>\n",
       "      <td>2.888268</td>\n",
       "    </tr>\n",
       "    <tr>\n",
       "      <th rowspan=\"2\" valign=\"top\">HR</th>\n",
       "      <th>421</th>\n",
       "      <td>HR</td>\n",
       "      <td>422</td>\n",
       "      <td>67509</td>\n",
       "      <td>7</td>\n",
       "      <td>4.774464</td>\n",
       "    </tr>\n",
       "    <tr>\n",
       "      <th>319</th>\n",
       "      <td>HR</td>\n",
       "      <td>320</td>\n",
       "      <td>92788</td>\n",
       "      <td>1</td>\n",
       "      <td>4.822606</td>\n",
       "    </tr>\n",
       "    <tr>\n",
       "      <th rowspan=\"2\" valign=\"top\">IT</th>\n",
       "      <th>39</th>\n",
       "      <td>IT</td>\n",
       "      <td>40</td>\n",
       "      <td>59190</td>\n",
       "      <td>13</td>\n",
       "      <td>3.654149</td>\n",
       "    </tr>\n",
       "    <tr>\n",
       "      <th>3</th>\n",
       "      <td>IT</td>\n",
       "      <td>4</td>\n",
       "      <td>75743</td>\n",
       "      <td>10</td>\n",
       "      <td>3.945777</td>\n",
       "    </tr>\n",
       "    <tr>\n",
       "      <th rowspan=\"2\" valign=\"top\">Sales</th>\n",
       "      <th>137</th>\n",
       "      <td>Sales</td>\n",
       "      <td>138</td>\n",
       "      <td>60056</td>\n",
       "      <td>10</td>\n",
       "      <td>3.306066</td>\n",
       "    </tr>\n",
       "    <tr>\n",
       "      <th>247</th>\n",
       "      <td>Sales</td>\n",
       "      <td>248</td>\n",
       "      <td>43267</td>\n",
       "      <td>11</td>\n",
       "      <td>1.085078</td>\n",
       "    </tr>\n",
       "  </tbody>\n",
       "</table>\n",
       "</div>"
      ],
      "text/plain": [
       "               Department  Employee_ID  Salary  Experience  Performance_Score\n",
       "Department                                                                   \n",
       "Finance    88     Finance           89   59508           9           3.889068\n",
       "           55     Finance           56   80941           3           2.888268\n",
       "HR         421         HR          422   67509           7           4.774464\n",
       "           319         HR          320   92788           1           4.822606\n",
       "IT         39          IT           40   59190          13           3.654149\n",
       "           3           IT            4   75743          10           3.945777\n",
       "Sales      137      Sales          138   60056          10           3.306066\n",
       "           247      Sales          248   43267          11           1.085078"
      ]
     },
     "execution_count": 46,
     "metadata": {},
     "output_type": "execute_result"
    }
   ],
   "source": [
    "df_large.groupby('Department').apply(random_grp_sampling)"
   ]
  },
  {
   "cell_type": "code",
   "execution_count": 48,
   "id": "cd052e20",
   "metadata": {},
   "outputs": [
    {
     "data": {
      "text/plain": [
       "50000.0"
      ]
     },
     "execution_count": 48,
     "metadata": {},
     "output_type": "execute_result"
    }
   ],
   "source": [
    "# iqr = q3-q1\n",
    "\n",
    "# Cap outliers group wise - i.e the values which are above 1.5*IQR, then cap it to 1.5*IQR\n",
    "df['Salary'].quantile(0.25)"
   ]
  },
  {
   "cell_type": "code",
   "execution_count": 58,
   "id": "fd4991f8",
   "metadata": {},
   "outputs": [],
   "source": [
    "def cap_groupwise(ds):\n",
    "    IQR = ds.quantile(0.75) - ds.quantile(0.25)\n",
    "    ds[ds>1.5*IQR] = 1.5*IQR \n",
    "    return ds"
   ]
  },
  {
   "cell_type": "code",
   "execution_count": 60,
   "id": "d2463563",
   "metadata": {},
   "outputs": [
    {
     "data": {
      "text/plain": [
       "0      40190.000\n",
       "1      49908.375\n",
       "2      35517.375\n",
       "3      44052.375\n",
       "4      44052.375\n",
       "         ...    \n",
       "495    44052.375\n",
       "496    41015.000\n",
       "497    49908.375\n",
       "498    35517.375\n",
       "499    49908.375\n",
       "Name: Salary, Length: 500, dtype: float64"
      ]
     },
     "execution_count": 60,
     "metadata": {},
     "output_type": "execute_result"
    }
   ],
   "source": [
    "df_large.groupby('Department')['Salary'].apply(cap_groupwise)"
   ]
  },
  {
   "cell_type": "code",
   "execution_count": 50,
   "id": "b8dfea06",
   "metadata": {},
   "outputs": [
    {
     "data": {
      "text/html": [
       "<div>\n",
       "<style scoped>\n",
       "    .dataframe tbody tr th:only-of-type {\n",
       "        vertical-align: middle;\n",
       "    }\n",
       "\n",
       "    .dataframe tbody tr th {\n",
       "        vertical-align: top;\n",
       "    }\n",
       "\n",
       "    .dataframe thead th {\n",
       "        text-align: right;\n",
       "    }\n",
       "</style>\n",
       "<table border=\"1\" class=\"dataframe\">\n",
       "  <thead>\n",
       "    <tr style=\"text-align: right;\">\n",
       "      <th></th>\n",
       "      <th>Department</th>\n",
       "      <th>Employee</th>\n",
       "      <th>Salary</th>\n",
       "      <th>Experience</th>\n",
       "    </tr>\n",
       "  </thead>\n",
       "  <tbody>\n",
       "    <tr>\n",
       "      <th>0</th>\n",
       "      <td>Sales</td>\n",
       "      <td>A</td>\n",
       "      <td>50000</td>\n",
       "      <td>2</td>\n",
       "    </tr>\n",
       "    <tr>\n",
       "      <th>1</th>\n",
       "      <td>Sales</td>\n",
       "      <td>B</td>\n",
       "      <td>55000</td>\n",
       "      <td>3</td>\n",
       "    </tr>\n",
       "    <tr>\n",
       "      <th>2</th>\n",
       "      <td>Sales</td>\n",
       "      <td>C</td>\n",
       "      <td>60000</td>\n",
       "      <td>5</td>\n",
       "    </tr>\n",
       "  </tbody>\n",
       "</table>\n",
       "</div>"
      ],
      "text/plain": [
       "  Department Employee  Salary  Experience\n",
       "0      Sales        A   50000           2\n",
       "1      Sales        B   55000           3\n",
       "2      Sales        C   60000           5"
      ]
     },
     "execution_count": 50,
     "metadata": {},
     "output_type": "execute_result"
    }
   ],
   "source": [
    "df[df['Department'] == 'Sales']"
   ]
  },
  {
   "cell_type": "code",
   "execution_count": 63,
   "id": "f6bcd95c",
   "metadata": {},
   "outputs": [],
   "source": [
    "def cap_outliers(gr):\n",
    "    Q1 = gr.quantile(0.25)\n",
    "    Q3 = gr.quantile(0.75)\n",
    "    IQR = Q3 - Q1\n",
    "    cap = 1.5 * IQR\n",
    "    gr[gr > cap] = cap \n",
    "    return gr"
   ]
  },
  {
   "cell_type": "code",
   "execution_count": 67,
   "id": "772cf071",
   "metadata": {},
   "outputs": [
    {
     "data": {
      "text/plain": [
       "0      40190.000\n",
       "1      49908.375\n",
       "2      35517.375\n",
       "3      44052.375\n",
       "4      44052.375\n",
       "         ...    \n",
       "495    44052.375\n",
       "496    41015.000\n",
       "497    49908.375\n",
       "498    35517.375\n",
       "499    49908.375\n",
       "Name: Salary, Length: 500, dtype: float64"
      ]
     },
     "execution_count": 67,
     "metadata": {},
     "output_type": "execute_result"
    }
   ],
   "source": [
    "df_large.groupby(['Department'])['Salary'].apply(cap_outliers)"
   ]
  },
  {
   "cell_type": "code",
   "execution_count": 70,
   "id": "294e367c",
   "metadata": {},
   "outputs": [],
   "source": [
    "def cap_outliers(dff):\n",
    "    capiqr = (dff['Salary'].quantile(0.75) - dff['Salary'].quantile(0.25))*1.5\n",
    "    dff.loc[dff['Salary']>capiqr, 'Salary'] =  capiqr\n",
    "    return dff['Salary']"
   ]
  },
  {
   "cell_type": "code",
   "execution_count": 71,
   "id": "c9cafde1",
   "metadata": {},
   "outputs": [
    {
     "data": {
      "text/plain": [
       "Department     \n",
       "Finance     1      49908.375\n",
       "            5      49908.375\n",
       "            14     40569.000\n",
       "            16     49908.375\n",
       "            17     49908.375\n",
       "                     ...    \n",
       "Sales       489    35517.375\n",
       "            491    35517.375\n",
       "            492    35517.375\n",
       "            494    35517.375\n",
       "            498    35517.375\n",
       "Name: Salary, Length: 500, dtype: float64"
      ]
     },
     "execution_count": 71,
     "metadata": {},
     "output_type": "execute_result"
    }
   ],
   "source": [
    "df_large.groupby('Department').apply(cap_outliers)"
   ]
  },
  {
   "cell_type": "code",
   "execution_count": 73,
   "id": "aebcdc08",
   "metadata": {},
   "outputs": [],
   "source": [
    "def cap_num(ds):\n",
    "    IQR=ds.quantile(0.75) - ds.quantile(0.25)\n",
    "    ds[ds>1.5*IQR] = 1.5*IQR\n",
    "    return ds"
   ]
  },
  {
   "cell_type": "code",
   "execution_count": 77,
   "id": "fa25270c",
   "metadata": {},
   "outputs": [],
   "source": [
    "ds = df.loc[df['Department'] == 'Sales', 'Salary']"
   ]
  },
  {
   "cell_type": "code",
   "execution_count": 78,
   "id": "de05e175",
   "metadata": {},
   "outputs": [
    {
     "data": {
      "text/plain": [
       "0    50000\n",
       "1    55000\n",
       "2    60000\n",
       "Name: Salary, dtype: int64"
      ]
     },
     "execution_count": 78,
     "metadata": {},
     "output_type": "execute_result"
    }
   ],
   "source": [
    "ds"
   ]
  },
  {
   "cell_type": "code",
   "execution_count": null,
   "id": "c1c1af56",
   "metadata": {},
   "outputs": [],
   "source": [
    "# Wrie a function to return the IQR of each group's Salary"
   ]
  },
  {
   "cell_type": "code",
   "execution_count": 82,
   "id": "910e1f7e",
   "metadata": {},
   "outputs": [],
   "source": [
    "def iqr(ds):\n",
    "    return 1.5*(ds.quantile(0.75) - ds.quantile(0.25))"
   ]
  },
  {
   "cell_type": "code",
   "execution_count": 83,
   "id": "fbfe053f",
   "metadata": {},
   "outputs": [
    {
     "data": {
      "text/plain": [
       "Department\n",
       "Finance    49908.375\n",
       "HR         40079.250\n",
       "IT         44052.375\n",
       "Sales      35517.375\n",
       "Name: Salary, dtype: float64"
      ]
     },
     "execution_count": 83,
     "metadata": {},
     "output_type": "execute_result"
    }
   ],
   "source": [
    "df_large.groupby('Department')['Salary'].apply(iqr)"
   ]
  },
  {
   "cell_type": "code",
   "execution_count": 85,
   "id": "da8d37f2",
   "metadata": {},
   "outputs": [
    {
     "data": {
      "text/html": [
       "<div>\n",
       "<style scoped>\n",
       "    .dataframe tbody tr th:only-of-type {\n",
       "        vertical-align: middle;\n",
       "    }\n",
       "\n",
       "    .dataframe tbody tr th {\n",
       "        vertical-align: top;\n",
       "    }\n",
       "\n",
       "    .dataframe thead th {\n",
       "        text-align: right;\n",
       "    }\n",
       "</style>\n",
       "<table border=\"1\" class=\"dataframe\">\n",
       "  <thead>\n",
       "    <tr style=\"text-align: right;\">\n",
       "      <th></th>\n",
       "      <th>salary_mean</th>\n",
       "      <th>salary_iqr</th>\n",
       "    </tr>\n",
       "    <tr>\n",
       "      <th>Department</th>\n",
       "      <th></th>\n",
       "      <th></th>\n",
       "    </tr>\n",
       "  </thead>\n",
       "  <tbody>\n",
       "    <tr>\n",
       "      <th>Finance</th>\n",
       "      <td>71376.040541</td>\n",
       "      <td>49908.375</td>\n",
       "    </tr>\n",
       "    <tr>\n",
       "      <th>HR</th>\n",
       "      <td>71423.009259</td>\n",
       "      <td>40079.250</td>\n",
       "    </tr>\n",
       "    <tr>\n",
       "      <th>IT</th>\n",
       "      <td>66972.557377</td>\n",
       "      <td>44052.375</td>\n",
       "    </tr>\n",
       "    <tr>\n",
       "      <th>Sales</th>\n",
       "      <td>68935.590164</td>\n",
       "      <td>35517.375</td>\n",
       "    </tr>\n",
       "  </tbody>\n",
       "</table>\n",
       "</div>"
      ],
      "text/plain": [
       "             salary_mean  salary_iqr\n",
       "Department                          \n",
       "Finance     71376.040541   49908.375\n",
       "HR          71423.009259   40079.250\n",
       "IT          66972.557377   44052.375\n",
       "Sales       68935.590164   35517.375"
      ]
     },
     "execution_count": 85,
     "metadata": {},
     "output_type": "execute_result"
    }
   ],
   "source": [
    "df_large.groupby('Department').agg(salary_mean = ('Salary', 'mean'), salary_iqr = ('Salary', iqr))"
   ]
  },
  {
   "cell_type": "code",
   "execution_count": null,
   "id": "b067ce4c",
   "metadata": {},
   "outputs": [],
   "source": [
    "## Date time functions"
   ]
  },
  {
   "cell_type": "code",
   "execution_count": 87,
   "id": "312b4e05",
   "metadata": {},
   "outputs": [
    {
     "data": {
      "text/html": [
       "<div>\n",
       "<style scoped>\n",
       "    .dataframe tbody tr th:only-of-type {\n",
       "        vertical-align: middle;\n",
       "    }\n",
       "\n",
       "    .dataframe tbody tr th {\n",
       "        vertical-align: top;\n",
       "    }\n",
       "\n",
       "    .dataframe thead th {\n",
       "        text-align: right;\n",
       "    }\n",
       "</style>\n",
       "<table border=\"1\" class=\"dataframe\">\n",
       "  <thead>\n",
       "    <tr style=\"text-align: right;\">\n",
       "      <th></th>\n",
       "      <th>Employee</th>\n",
       "      <th>Department</th>\n",
       "      <th>Join_Date</th>\n",
       "      <th>Last_Promotion</th>\n",
       "      <th>Salary</th>\n",
       "    </tr>\n",
       "  </thead>\n",
       "  <tbody>\n",
       "    <tr>\n",
       "      <th>0</th>\n",
       "      <td>D</td>\n",
       "      <td>Sales</td>\n",
       "      <td>2022-02-06</td>\n",
       "      <td>2022-07-17</td>\n",
       "      <td>78088</td>\n",
       "    </tr>\n",
       "    <tr>\n",
       "      <th>1</th>\n",
       "      <td>E</td>\n",
       "      <td>Sales</td>\n",
       "      <td>2023-11-19</td>\n",
       "      <td>2024-09-08</td>\n",
       "      <td>118752</td>\n",
       "    </tr>\n",
       "    <tr>\n",
       "      <th>2</th>\n",
       "      <td>C</td>\n",
       "      <td>IT</td>\n",
       "      <td>2024-05-12</td>\n",
       "      <td>2022-03-20</td>\n",
       "      <td>95284</td>\n",
       "    </tr>\n",
       "    <tr>\n",
       "      <th>3</th>\n",
       "      <td>E</td>\n",
       "      <td>IT</td>\n",
       "      <td>2022-09-11</td>\n",
       "      <td>2023-10-22</td>\n",
       "      <td>97043</td>\n",
       "    </tr>\n",
       "    <tr>\n",
       "      <th>4</th>\n",
       "      <td>E</td>\n",
       "      <td>HR</td>\n",
       "      <td>2022-06-12</td>\n",
       "      <td>2022-11-13</td>\n",
       "      <td>75547</td>\n",
       "    </tr>\n",
       "  </tbody>\n",
       "</table>\n",
       "</div>"
      ],
      "text/plain": [
       "  Employee Department  Join_Date Last_Promotion  Salary\n",
       "0        D      Sales 2022-02-06     2022-07-17   78088\n",
       "1        E      Sales 2023-11-19     2024-09-08  118752\n",
       "2        C         IT 2024-05-12     2022-03-20   95284\n",
       "3        E         IT 2022-09-11     2023-10-22   97043\n",
       "4        E         HR 2022-06-12     2022-11-13   75547"
      ]
     },
     "execution_count": 87,
     "metadata": {},
     "output_type": "execute_result"
    }
   ],
   "source": [
    "import pandas as pd\n",
    "import numpy as np\n",
    "\n",
    "# Creating a DataFrame with random dates\n",
    "np.random.seed(42)\n",
    "date_rng = pd.date_range(start='2022-01-01', end='2024-12-31', freq='W')\n",
    "\n",
    "df = pd.DataFrame({\n",
    "    'Employee': np.random.choice(['A', 'B', 'C', 'D', 'E'], size=len(date_rng)),\n",
    "    'Department': np.random.choice(['Sales', 'HR', 'IT'], size=len(date_rng)),\n",
    "    'Join_Date': np.random.choice(date_rng, size=len(date_rng)),\n",
    "    'Last_Promotion': np.random.choice(date_rng, size=len(date_rng)),\n",
    "    'Salary': np.random.randint(40000, 120000, size=len(date_rng))\n",
    "})\n",
    "\n",
    "# Converting date columns to datetime\n",
    "df['Join_Date'] = pd.to_datetime(df['Join_Date'])\n",
    "df['Last_Promotion'] = pd.to_datetime(df['Last_Promotion'])\n",
    "\n",
    "df.head()\n"
   ]
  },
  {
   "cell_type": "code",
   "execution_count": 88,
   "id": "058f2771",
   "metadata": {},
   "outputs": [
    {
     "data": {
      "text/plain": [
       "Employee                  object\n",
       "Department                object\n",
       "Join_Date         datetime64[ns]\n",
       "Last_Promotion    datetime64[ns]\n",
       "Salary                     int32\n",
       "dtype: object"
      ]
     },
     "execution_count": 88,
     "metadata": {},
     "output_type": "execute_result"
    }
   ],
   "source": [
    "df.dtypes"
   ]
  },
  {
   "cell_type": "code",
   "execution_count": 92,
   "id": "62de001e",
   "metadata": {},
   "outputs": [
    {
     "data": {
      "text/plain": [
       "0      2022\n",
       "1      2023\n",
       "2      2024\n",
       "3      2022\n",
       "4      2022\n",
       "       ... \n",
       "152    2023\n",
       "153    2023\n",
       "154    2023\n",
       "155    2022\n",
       "156    2022\n",
       "Name: Join_Date, Length: 157, dtype: int64"
      ]
     },
     "execution_count": 92,
     "metadata": {},
     "output_type": "execute_result"
    }
   ],
   "source": [
    "df['Join_Date'].dt.year"
   ]
  },
  {
   "cell_type": "code",
   "execution_count": 93,
   "id": "b3cbfde9",
   "metadata": {},
   "outputs": [
    {
     "data": {
      "text/plain": [
       "0       2\n",
       "1      11\n",
       "2       5\n",
       "3       9\n",
       "4       6\n",
       "       ..\n",
       "152     4\n",
       "153     3\n",
       "154     5\n",
       "155    10\n",
       "156    10\n",
       "Name: Join_Date, Length: 157, dtype: int64"
      ]
     },
     "execution_count": 93,
     "metadata": {},
     "output_type": "execute_result"
    }
   ],
   "source": [
    "df['Join_Date'].dt.month"
   ]
  },
  {
   "cell_type": "code",
   "execution_count": 94,
   "id": "a96409a4",
   "metadata": {},
   "outputs": [
    {
     "data": {
      "text/plain": [
       "0       6\n",
       "1      19\n",
       "2      12\n",
       "3      11\n",
       "4      12\n",
       "       ..\n",
       "152     9\n",
       "153    26\n",
       "154    28\n",
       "155    23\n",
       "156    30\n",
       "Name: Join_Date, Length: 157, dtype: int64"
      ]
     },
     "execution_count": 94,
     "metadata": {},
     "output_type": "execute_result"
    }
   ],
   "source": [
    "df['Join_Date'].dt.day"
   ]
  },
  {
   "cell_type": "code",
   "execution_count": 95,
   "id": "56ce274f",
   "metadata": {},
   "outputs": [
    {
     "data": {
      "text/plain": [
       "0      Sunday\n",
       "1      Sunday\n",
       "2      Sunday\n",
       "3      Sunday\n",
       "4      Sunday\n",
       "        ...  \n",
       "152    Sunday\n",
       "153    Sunday\n",
       "154    Sunday\n",
       "155    Sunday\n",
       "156    Sunday\n",
       "Name: Join_Date, Length: 157, dtype: object"
      ]
     },
     "execution_count": 95,
     "metadata": {},
     "output_type": "execute_result"
    }
   ],
   "source": [
    "# If you want Name of the day\n",
    "df['Join_Date'].dt.day_name()"
   ]
  },
  {
   "cell_type": "code",
   "execution_count": 103,
   "id": "8aa49903",
   "metadata": {},
   "outputs": [
    {
     "data": {
      "text/plain": [
       "dtype('int64')"
      ]
     },
     "execution_count": 103,
     "metadata": {},
     "output_type": "execute_result"
    }
   ],
   "source": [
    "# Arithematic operations between dates\n",
    "# Difference between Last promotion date and join date\n",
    "(df['Last_Promotion'] - df['Join_Date'])\n",
    "# THe data type of above is not integer - type is time delta\n",
    "# To convert it to integer\n",
    "(df['Last_Promotion'] - df['Join_Date']).dt.days"
   ]
  },
  {
   "cell_type": "code",
   "execution_count": 109,
   "id": "14441370",
   "metadata": {},
   "outputs": [
    {
     "data": {
      "text/plain": [
       "0       5\n",
       "1      10\n",
       "2     -26\n",
       "3      13\n",
       "4       5\n",
       "       ..\n",
       "152    -9\n",
       "153     9\n",
       "154    -7\n",
       "155    26\n",
       "156    24\n",
       "Length: 157, dtype: int64"
      ]
     },
     "execution_count": 109,
     "metadata": {},
     "output_type": "execute_result"
    }
   ],
   "source": [
    "# Finding the gap in months year and days\n",
    "(df['Last_Promotion'].dt.to_period('M') - df['Join_Date'].dt.to_period('M')).apply(lambda x: x.n)"
   ]
  },
  {
   "cell_type": "code",
   "execution_count": 110,
   "id": "ea30e4de",
   "metadata": {},
   "outputs": [
    {
     "data": {
      "text/plain": [
       "0           July\n",
       "1      September\n",
       "2          March\n",
       "3        October\n",
       "4       November\n",
       "         ...    \n",
       "152         July\n",
       "153     December\n",
       "154      October\n",
       "155     December\n",
       "156      October\n",
       "Name: Last_Promotion, Length: 157, dtype: object"
      ]
     },
     "execution_count": 110,
     "metadata": {},
     "output_type": "execute_result"
    }
   ],
   "source": [
    "df['Last_Promotion'].dt.month_name()"
   ]
  },
  {
   "cell_type": "code",
   "execution_count": 120,
   "id": "ddc59c6a",
   "metadata": {},
   "outputs": [
    {
     "data": {
      "text/plain": [
       "0       Sunday,February,2022\n",
       "1       Sunday,November,2023\n",
       "2            Sunday,May,2024\n",
       "3      Sunday,September,2022\n",
       "4           Sunday,June,2022\n",
       "               ...          \n",
       "152        Sunday,April,2023\n",
       "153        Sunday,March,2023\n",
       "154          Sunday,May,2023\n",
       "155      Sunday,October,2022\n",
       "156      Sunday,October,2022\n",
       "Name: Join_Date, Length: 157, dtype: object"
      ]
     },
     "execution_count": 120,
     "metadata": {},
     "output_type": "execute_result"
    }
   ],
   "source": [
    "# Changing the format of Date\n",
    "df['Join_Date'].dt.strftime('%A,%B,%Y')"
   ]
  },
  {
   "cell_type": "code",
   "execution_count": 122,
   "id": "80900f97",
   "metadata": {},
   "outputs": [
    {
     "data": {
      "text/html": [
       "<div>\n",
       "<style scoped>\n",
       "    .dataframe tbody tr th:only-of-type {\n",
       "        vertical-align: middle;\n",
       "    }\n",
       "\n",
       "    .dataframe tbody tr th {\n",
       "        vertical-align: top;\n",
       "    }\n",
       "\n",
       "    .dataframe thead th {\n",
       "        text-align: right;\n",
       "    }\n",
       "</style>\n",
       "<table border=\"1\" class=\"dataframe\">\n",
       "  <thead>\n",
       "    <tr style=\"text-align: right;\">\n",
       "      <th></th>\n",
       "      <th>Employee</th>\n",
       "      <th>Department</th>\n",
       "      <th>Join_Date</th>\n",
       "      <th>Last_Promotion</th>\n",
       "      <th>Salary</th>\n",
       "    </tr>\n",
       "  </thead>\n",
       "  <tbody>\n",
       "    <tr>\n",
       "      <th>0</th>\n",
       "      <td>D</td>\n",
       "      <td>Sales</td>\n",
       "      <td>2022-02-06</td>\n",
       "      <td>2022-07-17</td>\n",
       "      <td>78088</td>\n",
       "    </tr>\n",
       "    <tr>\n",
       "      <th>1</th>\n",
       "      <td>E</td>\n",
       "      <td>Sales</td>\n",
       "      <td>2023-11-19</td>\n",
       "      <td>2024-09-08</td>\n",
       "      <td>118752</td>\n",
       "    </tr>\n",
       "    <tr>\n",
       "      <th>2</th>\n",
       "      <td>C</td>\n",
       "      <td>IT</td>\n",
       "      <td>2024-05-12</td>\n",
       "      <td>2022-03-20</td>\n",
       "      <td>95284</td>\n",
       "    </tr>\n",
       "    <tr>\n",
       "      <th>3</th>\n",
       "      <td>E</td>\n",
       "      <td>IT</td>\n",
       "      <td>2022-09-11</td>\n",
       "      <td>2023-10-22</td>\n",
       "      <td>97043</td>\n",
       "    </tr>\n",
       "    <tr>\n",
       "      <th>4</th>\n",
       "      <td>E</td>\n",
       "      <td>HR</td>\n",
       "      <td>2022-06-12</td>\n",
       "      <td>2022-11-13</td>\n",
       "      <td>75547</td>\n",
       "    </tr>\n",
       "    <tr>\n",
       "      <th>...</th>\n",
       "      <td>...</td>\n",
       "      <td>...</td>\n",
       "      <td>...</td>\n",
       "      <td>...</td>\n",
       "      <td>...</td>\n",
       "    </tr>\n",
       "    <tr>\n",
       "      <th>152</th>\n",
       "      <td>A</td>\n",
       "      <td>Sales</td>\n",
       "      <td>2023-04-09</td>\n",
       "      <td>2022-07-10</td>\n",
       "      <td>104291</td>\n",
       "    </tr>\n",
       "    <tr>\n",
       "      <th>153</th>\n",
       "      <td>A</td>\n",
       "      <td>HR</td>\n",
       "      <td>2023-03-26</td>\n",
       "      <td>2023-12-03</td>\n",
       "      <td>119104</td>\n",
       "    </tr>\n",
       "    <tr>\n",
       "      <th>154</th>\n",
       "      <td>C</td>\n",
       "      <td>Sales</td>\n",
       "      <td>2023-05-28</td>\n",
       "      <td>2022-10-09</td>\n",
       "      <td>99399</td>\n",
       "    </tr>\n",
       "    <tr>\n",
       "      <th>155</th>\n",
       "      <td>A</td>\n",
       "      <td>HR</td>\n",
       "      <td>2022-10-23</td>\n",
       "      <td>2024-12-15</td>\n",
       "      <td>119714</td>\n",
       "    </tr>\n",
       "    <tr>\n",
       "      <th>156</th>\n",
       "      <td>D</td>\n",
       "      <td>Sales</td>\n",
       "      <td>2022-10-30</td>\n",
       "      <td>2024-10-06</td>\n",
       "      <td>90428</td>\n",
       "    </tr>\n",
       "  </tbody>\n",
       "</table>\n",
       "<p>157 rows × 5 columns</p>\n",
       "</div>"
      ],
      "text/plain": [
       "    Employee Department  Join_Date Last_Promotion  Salary\n",
       "0          D      Sales 2022-02-06     2022-07-17   78088\n",
       "1          E      Sales 2023-11-19     2024-09-08  118752\n",
       "2          C         IT 2024-05-12     2022-03-20   95284\n",
       "3          E         IT 2022-09-11     2023-10-22   97043\n",
       "4          E         HR 2022-06-12     2022-11-13   75547\n",
       "..       ...        ...        ...            ...     ...\n",
       "152        A      Sales 2023-04-09     2022-07-10  104291\n",
       "153        A         HR 2023-03-26     2023-12-03  119104\n",
       "154        C      Sales 2023-05-28     2022-10-09   99399\n",
       "155        A         HR 2022-10-23     2024-12-15  119714\n",
       "156        D      Sales 2022-10-30     2024-10-06   90428\n",
       "\n",
       "[157 rows x 5 columns]"
      ]
     },
     "execution_count": 122,
     "metadata": {},
     "output_type": "execute_result"
    }
   ],
   "source": [
    "# FInd the employees where last promotion date was on a weekend\n",
    "lolo = df['Last_Promotion'].dt.day_name().isin(['Sunday', 'Saturday'])\n",
    "df[lolo]"
   ]
  },
  {
   "cell_type": "code",
   "execution_count": 128,
   "id": "bf27f3e8",
   "metadata": {},
   "outputs": [
    {
     "ename": "AttributeError",
     "evalue": "'datetime.datetime' object has no attribute 'dt'",
     "output_type": "error",
     "traceback": [
      "\u001b[1;31m---------------------------------------------------------------------------\u001b[0m",
      "\u001b[1;31mAttributeError\u001b[0m                            Traceback (most recent call last)",
      "\u001b[1;32m~\\AppData\\Local\\Temp/ipykernel_21240/1301865125.py\u001b[0m in \u001b[0;36m<module>\u001b[1;34m\u001b[0m\n\u001b[0;32m      6\u001b[0m \u001b[1;33m\u001b[0m\u001b[0m\n\u001b[0;32m      7\u001b[0m \u001b[0mcurrent_format\u001b[0m \u001b[1;33m=\u001b[0m \u001b[1;34m'%d-%m-%Y'\u001b[0m\u001b[1;33m\u001b[0m\u001b[1;33m\u001b[0m\u001b[0m\n\u001b[1;32m----> 8\u001b[1;33m \u001b[0mpd\u001b[0m\u001b[1;33m.\u001b[0m\u001b[0mto_datetime\u001b[0m\u001b[1;33m(\u001b[0m\u001b[0mx\u001b[0m\u001b[1;33m,\u001b[0m \u001b[0mformat\u001b[0m \u001b[1;33m=\u001b[0m \u001b[0mcurrent_format\u001b[0m\u001b[1;33m)\u001b[0m\u001b[1;33m.\u001b[0m\u001b[0mto_pydatetime\u001b[0m\u001b[1;33m(\u001b[0m\u001b[1;33m)\u001b[0m\u001b[1;33m.\u001b[0m\u001b[0mdt\u001b[0m\u001b[1;33m.\u001b[0m\u001b[0mday_name\u001b[0m\u001b[1;33m(\u001b[0m\u001b[1;33m)\u001b[0m\u001b[1;33m\u001b[0m\u001b[1;33m\u001b[0m\u001b[0m\n\u001b[0m",
      "\u001b[1;31mAttributeError\u001b[0m: 'datetime.datetime' object has no attribute 'dt'"
     ]
    }
   ],
   "source": [
    "# pd.to_datetime\n",
    "# 2022-02-06 -- this is the right format for pandas\n",
    "\n",
    "x = '23-06-2024' \n",
    "# This needs to be converted\n",
    "\n",
    "current_format = '%d-%m-%Y'\n",
    "pd.to_datetime(x, format = current_format).to_pydatetime()\n"
   ]
  },
  {
   "cell_type": "code",
   "execution_count": 129,
   "id": "e704e20b",
   "metadata": {},
   "outputs": [],
   "source": [
    "df = pd.DataFrame({'Date1': ['23-03-2024', '23-04-2025', '24-05-2025']})"
   ]
  },
  {
   "cell_type": "code",
   "execution_count": 133,
   "id": "594a0d0f",
   "metadata": {},
   "outputs": [
    {
     "data": {
      "text/plain": [
       "0     Saturday\n",
       "1    Wednesday\n",
       "2     Saturday\n",
       "Name: Date1, dtype: object"
      ]
     },
     "execution_count": 133,
     "metadata": {},
     "output_type": "execute_result"
    }
   ],
   "source": [
    "pd.to_datetime(df['Date1'], format = current_format).dt.day_name()"
   ]
  },
  {
   "cell_type": "code",
   "execution_count": null,
   "id": "d6e704ab",
   "metadata": {},
   "outputs": [],
   "source": []
  }
 ],
 "metadata": {
  "kernelspec": {
   "display_name": "Python 3 (ipykernel)",
   "language": "python",
   "name": "python3"
  },
  "language_info": {
   "codemirror_mode": {
    "name": "ipython",
    "version": 3
   },
   "file_extension": ".py",
   "mimetype": "text/x-python",
   "name": "python",
   "nbconvert_exporter": "python",
   "pygments_lexer": "ipython3",
   "version": "3.9.7"
  }
 },
 "nbformat": 4,
 "nbformat_minor": 5
}
