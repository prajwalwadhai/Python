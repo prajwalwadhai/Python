{
 "cells": [
  {
   "cell_type": "code",
   "execution_count": 1,
   "id": "fe3c4406",
   "metadata": {},
   "outputs": [],
   "source": [
    "import pandas as pd\n",
    "import random\n",
    "import numpy as np\n",
    "from datetime import datetime, timedelta\n",
    "\n",
    "# Define possible values\n",
    "departments = ['HR', 'IT', 'Finance', 'Marketing', 'Sales', 'Operations', 'Admin']\n",
    "names = [\"Alice Johnson\", \"Bob Smith\", \"Charlie Davis\", \"David White\", \"Emma Wilson\",\n",
    "         \"Frank Harris\", \"Grace Lee\", \"Henry Walker\", \"Isabella Scott\", \"Jack Hall\",\n",
    "         \"Karen Allen\", \"Liam Wright\", \"Mia King\", \"Noah Baker\", \"Olivia Adams\",\n",
    "         \"Paul Nelson\", \"Quinn Carter\", \"Ryan Mitchell\", \"Sophia Perez\", \"Thomas Roberts\"]\n",
    "num_rows = 100\n",
    "\n",
    "np.random.seed(20)\n",
    "# Generate employee dataset\n",
    "data = {\n",
    "    'Employee_ID': [f'EMP{1000+i}' for i in range(num_rows)],\n",
    "    'Name': [random.choice(names) for _ in range(num_rows)],\n",
    "    'Age': [random.randint(22, 60) for _ in range(num_rows)],\n",
    "    'Department': [random.choice(departments) for _ in range(num_rows)],\n",
    "    'Joining_Date': [(datetime.today() - timedelta(days=random.randint(0, 3650))).date() for _ in range(num_rows)],\n",
    "    'Salary': [random.randint(30000, 150000) for _ in range(num_rows)],\n",
    "    'Experience': [random.randint(0, 40) for _ in range(num_rows)],  # Years of experience\n",
    "    'Performance_Score': [random.randint(1, 5) for _ in range(num_rows)],  # Rating from 1 to 5\n",
    "    'Remote_Work_Eligible': [random.choice([True, False]) for _ in range(num_rows)]\n",
    "}\n",
    "\n",
    "# Create DataFrame\n",
    "df = pd.DataFrame(data)\n"
   ]
  },
  {
   "cell_type": "code",
   "execution_count": 2,
   "id": "7b621e22",
   "metadata": {},
   "outputs": [],
   "source": [
    "# Functions of DataFrames\n",
    "# Str and Date in DataFrames\n",
    "# Apply functions with DataFrames - Small\n",
    "# Iterrows - Small\n",
    "# Groupby \n",
    "# Groupby with apply and transform\n",
    "# Pivot tables"
   ]
  },
  {
   "cell_type": "code",
   "execution_count": 3,
   "id": "8dd82e42",
   "metadata": {},
   "outputs": [
    {
     "data": {
      "text/html": [
       "<div>\n",
       "<style scoped>\n",
       "    .dataframe tbody tr th:only-of-type {\n",
       "        vertical-align: middle;\n",
       "    }\n",
       "\n",
       "    .dataframe tbody tr th {\n",
       "        vertical-align: top;\n",
       "    }\n",
       "\n",
       "    .dataframe thead th {\n",
       "        text-align: right;\n",
       "    }\n",
       "</style>\n",
       "<table border=\"1\" class=\"dataframe\">\n",
       "  <thead>\n",
       "    <tr style=\"text-align: right;\">\n",
       "      <th></th>\n",
       "      <th>Employee_ID</th>\n",
       "      <th>Name</th>\n",
       "      <th>Age</th>\n",
       "      <th>Department</th>\n",
       "      <th>Joining_Date</th>\n",
       "      <th>Salary</th>\n",
       "      <th>Experience</th>\n",
       "      <th>Performance_Score</th>\n",
       "      <th>Remote_Work_Eligible</th>\n",
       "    </tr>\n",
       "  </thead>\n",
       "  <tbody>\n",
       "    <tr>\n",
       "      <th>0</th>\n",
       "      <td>EMP1000</td>\n",
       "      <td>David White</td>\n",
       "      <td>49</td>\n",
       "      <td>IT</td>\n",
       "      <td>2023-12-01</td>\n",
       "      <td>64368</td>\n",
       "      <td>23</td>\n",
       "      <td>1</td>\n",
       "      <td>False</td>\n",
       "    </tr>\n",
       "    <tr>\n",
       "      <th>1</th>\n",
       "      <td>EMP1001</td>\n",
       "      <td>David White</td>\n",
       "      <td>45</td>\n",
       "      <td>Finance</td>\n",
       "      <td>2017-03-04</td>\n",
       "      <td>64740</td>\n",
       "      <td>34</td>\n",
       "      <td>1</td>\n",
       "      <td>False</td>\n",
       "    </tr>\n",
       "    <tr>\n",
       "      <th>2</th>\n",
       "      <td>EMP1002</td>\n",
       "      <td>Emma Wilson</td>\n",
       "      <td>29</td>\n",
       "      <td>IT</td>\n",
       "      <td>2019-08-03</td>\n",
       "      <td>110292</td>\n",
       "      <td>10</td>\n",
       "      <td>1</td>\n",
       "      <td>True</td>\n",
       "    </tr>\n",
       "    <tr>\n",
       "      <th>3</th>\n",
       "      <td>EMP1003</td>\n",
       "      <td>Frank Harris</td>\n",
       "      <td>45</td>\n",
       "      <td>Admin</td>\n",
       "      <td>2022-10-31</td>\n",
       "      <td>82869</td>\n",
       "      <td>32</td>\n",
       "      <td>3</td>\n",
       "      <td>False</td>\n",
       "    </tr>\n",
       "    <tr>\n",
       "      <th>4</th>\n",
       "      <td>EMP1004</td>\n",
       "      <td>Bob Smith</td>\n",
       "      <td>33</td>\n",
       "      <td>Admin</td>\n",
       "      <td>2024-02-21</td>\n",
       "      <td>33020</td>\n",
       "      <td>38</td>\n",
       "      <td>1</td>\n",
       "      <td>False</td>\n",
       "    </tr>\n",
       "    <tr>\n",
       "      <th>5</th>\n",
       "      <td>EMP1005</td>\n",
       "      <td>Liam Wright</td>\n",
       "      <td>26</td>\n",
       "      <td>HR</td>\n",
       "      <td>2019-10-21</td>\n",
       "      <td>67325</td>\n",
       "      <td>12</td>\n",
       "      <td>1</td>\n",
       "      <td>True</td>\n",
       "    </tr>\n",
       "    <tr>\n",
       "      <th>6</th>\n",
       "      <td>EMP1006</td>\n",
       "      <td>Henry Walker</td>\n",
       "      <td>37</td>\n",
       "      <td>Sales</td>\n",
       "      <td>2024-10-22</td>\n",
       "      <td>141975</td>\n",
       "      <td>6</td>\n",
       "      <td>3</td>\n",
       "      <td>True</td>\n",
       "    </tr>\n",
       "    <tr>\n",
       "      <th>7</th>\n",
       "      <td>EMP1007</td>\n",
       "      <td>Jack Hall</td>\n",
       "      <td>25</td>\n",
       "      <td>HR</td>\n",
       "      <td>2018-08-21</td>\n",
       "      <td>33436</td>\n",
       "      <td>22</td>\n",
       "      <td>1</td>\n",
       "      <td>False</td>\n",
       "    </tr>\n",
       "    <tr>\n",
       "      <th>8</th>\n",
       "      <td>EMP1008</td>\n",
       "      <td>Sophia Perez</td>\n",
       "      <td>28</td>\n",
       "      <td>Sales</td>\n",
       "      <td>2019-02-13</td>\n",
       "      <td>104041</td>\n",
       "      <td>33</td>\n",
       "      <td>5</td>\n",
       "      <td>False</td>\n",
       "    </tr>\n",
       "    <tr>\n",
       "      <th>9</th>\n",
       "      <td>EMP1009</td>\n",
       "      <td>Emma Wilson</td>\n",
       "      <td>35</td>\n",
       "      <td>Operations</td>\n",
       "      <td>2018-09-02</td>\n",
       "      <td>111929</td>\n",
       "      <td>31</td>\n",
       "      <td>3</td>\n",
       "      <td>False</td>\n",
       "    </tr>\n",
       "    <tr>\n",
       "      <th>10</th>\n",
       "      <td>EMP1010</td>\n",
       "      <td>Grace Lee</td>\n",
       "      <td>42</td>\n",
       "      <td>Marketing</td>\n",
       "      <td>2022-12-08</td>\n",
       "      <td>33017</td>\n",
       "      <td>7</td>\n",
       "      <td>4</td>\n",
       "      <td>True</td>\n",
       "    </tr>\n",
       "    <tr>\n",
       "      <th>11</th>\n",
       "      <td>EMP1011</td>\n",
       "      <td>Grace Lee</td>\n",
       "      <td>47</td>\n",
       "      <td>Finance</td>\n",
       "      <td>2019-05-29</td>\n",
       "      <td>41088</td>\n",
       "      <td>37</td>\n",
       "      <td>4</td>\n",
       "      <td>True</td>\n",
       "    </tr>\n",
       "    <tr>\n",
       "      <th>12</th>\n",
       "      <td>EMP1012</td>\n",
       "      <td>Grace Lee</td>\n",
       "      <td>58</td>\n",
       "      <td>HR</td>\n",
       "      <td>2020-02-01</td>\n",
       "      <td>114987</td>\n",
       "      <td>35</td>\n",
       "      <td>1</td>\n",
       "      <td>True</td>\n",
       "    </tr>\n",
       "    <tr>\n",
       "      <th>13</th>\n",
       "      <td>EMP1013</td>\n",
       "      <td>Isabella Scott</td>\n",
       "      <td>49</td>\n",
       "      <td>Sales</td>\n",
       "      <td>2024-01-03</td>\n",
       "      <td>77649</td>\n",
       "      <td>22</td>\n",
       "      <td>5</td>\n",
       "      <td>False</td>\n",
       "    </tr>\n",
       "    <tr>\n",
       "      <th>14</th>\n",
       "      <td>EMP1014</td>\n",
       "      <td>David White</td>\n",
       "      <td>41</td>\n",
       "      <td>Finance</td>\n",
       "      <td>2023-05-22</td>\n",
       "      <td>120004</td>\n",
       "      <td>26</td>\n",
       "      <td>4</td>\n",
       "      <td>False</td>\n",
       "    </tr>\n",
       "    <tr>\n",
       "      <th>15</th>\n",
       "      <td>EMP1015</td>\n",
       "      <td>Olivia Adams</td>\n",
       "      <td>28</td>\n",
       "      <td>Marketing</td>\n",
       "      <td>2015-10-08</td>\n",
       "      <td>75872</td>\n",
       "      <td>18</td>\n",
       "      <td>1</td>\n",
       "      <td>False</td>\n",
       "    </tr>\n",
       "    <tr>\n",
       "      <th>16</th>\n",
       "      <td>EMP1016</td>\n",
       "      <td>Charlie Davis</td>\n",
       "      <td>26</td>\n",
       "      <td>Operations</td>\n",
       "      <td>2018-12-26</td>\n",
       "      <td>51018</td>\n",
       "      <td>33</td>\n",
       "      <td>4</td>\n",
       "      <td>True</td>\n",
       "    </tr>\n",
       "    <tr>\n",
       "      <th>17</th>\n",
       "      <td>EMP1017</td>\n",
       "      <td>Karen Allen</td>\n",
       "      <td>58</td>\n",
       "      <td>Sales</td>\n",
       "      <td>2023-10-11</td>\n",
       "      <td>113805</td>\n",
       "      <td>18</td>\n",
       "      <td>5</td>\n",
       "      <td>True</td>\n",
       "    </tr>\n",
       "    <tr>\n",
       "      <th>18</th>\n",
       "      <td>EMP1018</td>\n",
       "      <td>Jack Hall</td>\n",
       "      <td>51</td>\n",
       "      <td>Admin</td>\n",
       "      <td>2017-02-15</td>\n",
       "      <td>68569</td>\n",
       "      <td>9</td>\n",
       "      <td>3</td>\n",
       "      <td>True</td>\n",
       "    </tr>\n",
       "    <tr>\n",
       "      <th>19</th>\n",
       "      <td>EMP1019</td>\n",
       "      <td>Noah Baker</td>\n",
       "      <td>58</td>\n",
       "      <td>Marketing</td>\n",
       "      <td>2018-10-06</td>\n",
       "      <td>74990</td>\n",
       "      <td>8</td>\n",
       "      <td>3</td>\n",
       "      <td>False</td>\n",
       "    </tr>\n",
       "  </tbody>\n",
       "</table>\n",
       "</div>"
      ],
      "text/plain": [
       "   Employee_ID            Name  Age  Department Joining_Date  Salary  \\\n",
       "0      EMP1000     David White   49          IT   2023-12-01   64368   \n",
       "1      EMP1001     David White   45     Finance   2017-03-04   64740   \n",
       "2      EMP1002     Emma Wilson   29          IT   2019-08-03  110292   \n",
       "3      EMP1003    Frank Harris   45       Admin   2022-10-31   82869   \n",
       "4      EMP1004       Bob Smith   33       Admin   2024-02-21   33020   \n",
       "5      EMP1005     Liam Wright   26          HR   2019-10-21   67325   \n",
       "6      EMP1006    Henry Walker   37       Sales   2024-10-22  141975   \n",
       "7      EMP1007       Jack Hall   25          HR   2018-08-21   33436   \n",
       "8      EMP1008    Sophia Perez   28       Sales   2019-02-13  104041   \n",
       "9      EMP1009     Emma Wilson   35  Operations   2018-09-02  111929   \n",
       "10     EMP1010       Grace Lee   42   Marketing   2022-12-08   33017   \n",
       "11     EMP1011       Grace Lee   47     Finance   2019-05-29   41088   \n",
       "12     EMP1012       Grace Lee   58          HR   2020-02-01  114987   \n",
       "13     EMP1013  Isabella Scott   49       Sales   2024-01-03   77649   \n",
       "14     EMP1014     David White   41     Finance   2023-05-22  120004   \n",
       "15     EMP1015    Olivia Adams   28   Marketing   2015-10-08   75872   \n",
       "16     EMP1016   Charlie Davis   26  Operations   2018-12-26   51018   \n",
       "17     EMP1017     Karen Allen   58       Sales   2023-10-11  113805   \n",
       "18     EMP1018       Jack Hall   51       Admin   2017-02-15   68569   \n",
       "19     EMP1019      Noah Baker   58   Marketing   2018-10-06   74990   \n",
       "\n",
       "    Experience  Performance_Score  Remote_Work_Eligible  \n",
       "0           23                  1                 False  \n",
       "1           34                  1                 False  \n",
       "2           10                  1                  True  \n",
       "3           32                  3                 False  \n",
       "4           38                  1                 False  \n",
       "5           12                  1                  True  \n",
       "6            6                  3                  True  \n",
       "7           22                  1                 False  \n",
       "8           33                  5                 False  \n",
       "9           31                  3                 False  \n",
       "10           7                  4                  True  \n",
       "11          37                  4                  True  \n",
       "12          35                  1                  True  \n",
       "13          22                  5                 False  \n",
       "14          26                  4                 False  \n",
       "15          18                  1                 False  \n",
       "16          33                  4                  True  \n",
       "17          18                  5                  True  \n",
       "18           9                  3                  True  \n",
       "19           8                  3                 False  "
      ]
     },
     "execution_count": 3,
     "metadata": {},
     "output_type": "execute_result"
    }
   ],
   "source": [
    "df.head(20)"
   ]
  },
  {
   "cell_type": "code",
   "execution_count": 4,
   "id": "eaf42745",
   "metadata": {},
   "outputs": [],
   "source": [
    "# Use apply function on Salary and classify the salary as high medium and low\n",
    "# if <50K - Low, if <80 - Medium else High\n",
    "def func(x):\n",
    "    if(x<50000):\n",
    "        return 'Low'\n",
    "    elif(x<80000):\n",
    "        return 'Medium'\n",
    "    else:\n",
    "        return 'High'"
   ]
  },
  {
   "cell_type": "code",
   "execution_count": 5,
   "id": "76b75650",
   "metadata": {},
   "outputs": [],
   "source": [
    "df['salary_classification'] = df['Salary'].apply(func)"
   ]
  },
  {
   "cell_type": "code",
   "execution_count": 6,
   "id": "c15d2a82",
   "metadata": {},
   "outputs": [],
   "source": [
    "lst = df.loc[0].tolist()"
   ]
  },
  {
   "cell_type": "code",
   "execution_count": 7,
   "id": "1831ba6f",
   "metadata": {},
   "outputs": [],
   "source": [
    "# Use this list to reduce the salary by 10% if performance score <=2 -- it's okay to use index numbers, write a function\n",
    "# write a function that takes list and returns updated salary basis above condition\n",
    "def adjust_salary(lst):\n",
    "    if(lst[7]<=2):\n",
    "        return lst[5]*0.9\n",
    "    else:\n",
    "        return lst[5]"
   ]
  },
  {
   "cell_type": "code",
   "execution_count": 8,
   "id": "45ea2a7e",
   "metadata": {},
   "outputs": [
    {
     "data": {
      "text/plain": [
       "57931.200000000004"
      ]
     },
     "execution_count": 8,
     "metadata": {},
     "output_type": "execute_result"
    }
   ],
   "source": [
    "adjust_salary(lst)"
   ]
  },
  {
   "cell_type": "code",
   "execution_count": 9,
   "id": "f44d1369",
   "metadata": {},
   "outputs": [
    {
     "data": {
      "text/plain": [
       "Employee_ID                  EMP1000\n",
       "Name                     David White\n",
       "Age                               49\n",
       "Department                        IT\n",
       "Joining_Date              2023-12-01\n",
       "Salary                         64368\n",
       "Experience                        23\n",
       "Performance_Score                  1\n",
       "Remote_Work_Eligible           False\n",
       "salary_classification         Medium\n",
       "Name: 0, dtype: object"
      ]
     },
     "execution_count": 9,
     "metadata": {},
     "output_type": "execute_result"
    }
   ],
   "source": [
    "ds = df.loc[0]\n",
    "ds"
   ]
  },
  {
   "cell_type": "code",
   "execution_count": 10,
   "id": "d4b3ff86",
   "metadata": {},
   "outputs": [],
   "source": [
    "# Write the same function for Data Series - THe function takes Data Series as input and returns salary corrected\n",
    "def adj_sal(S):\n",
    "    if(S['Performance_Score']<=2):\n",
    "        return S['Salary']*0.9\n",
    "    else:\n",
    "        return S['Salary']"
   ]
  },
  {
   "cell_type": "code",
   "execution_count": 11,
   "id": "c9aba6ed",
   "metadata": {},
   "outputs": [
    {
     "data": {
      "text/plain": [
       "57931.200000000004"
      ]
     },
     "execution_count": 11,
     "metadata": {},
     "output_type": "execute_result"
    }
   ],
   "source": [
    "adj_sal(ds)"
   ]
  },
  {
   "cell_type": "code",
   "execution_count": 12,
   "id": "e04d5898",
   "metadata": {},
   "outputs": [
    {
     "data": {
      "text/html": [
       "<div>\n",
       "<style scoped>\n",
       "    .dataframe tbody tr th:only-of-type {\n",
       "        vertical-align: middle;\n",
       "    }\n",
       "\n",
       "    .dataframe tbody tr th {\n",
       "        vertical-align: top;\n",
       "    }\n",
       "\n",
       "    .dataframe thead th {\n",
       "        text-align: right;\n",
       "    }\n",
       "</style>\n",
       "<table border=\"1\" class=\"dataframe\">\n",
       "  <thead>\n",
       "    <tr style=\"text-align: right;\">\n",
       "      <th></th>\n",
       "      <th>Employee_ID</th>\n",
       "      <th>Name</th>\n",
       "      <th>Age</th>\n",
       "      <th>Department</th>\n",
       "      <th>Joining_Date</th>\n",
       "      <th>Salary</th>\n",
       "      <th>Experience</th>\n",
       "      <th>Performance_Score</th>\n",
       "      <th>Remote_Work_Eligible</th>\n",
       "      <th>salary_classification</th>\n",
       "    </tr>\n",
       "  </thead>\n",
       "  <tbody>\n",
       "    <tr>\n",
       "      <th>0</th>\n",
       "      <td>EMP1000</td>\n",
       "      <td>David White</td>\n",
       "      <td>49</td>\n",
       "      <td>IT</td>\n",
       "      <td>2023-12-01</td>\n",
       "      <td>64368</td>\n",
       "      <td>23</td>\n",
       "      <td>1</td>\n",
       "      <td>False</td>\n",
       "      <td>Medium</td>\n",
       "    </tr>\n",
       "    <tr>\n",
       "      <th>1</th>\n",
       "      <td>EMP1001</td>\n",
       "      <td>David White</td>\n",
       "      <td>45</td>\n",
       "      <td>Finance</td>\n",
       "      <td>2017-03-04</td>\n",
       "      <td>64740</td>\n",
       "      <td>34</td>\n",
       "      <td>1</td>\n",
       "      <td>False</td>\n",
       "      <td>Medium</td>\n",
       "    </tr>\n",
       "    <tr>\n",
       "      <th>2</th>\n",
       "      <td>EMP1002</td>\n",
       "      <td>Emma Wilson</td>\n",
       "      <td>29</td>\n",
       "      <td>IT</td>\n",
       "      <td>2019-08-03</td>\n",
       "      <td>110292</td>\n",
       "      <td>10</td>\n",
       "      <td>1</td>\n",
       "      <td>True</td>\n",
       "      <td>High</td>\n",
       "    </tr>\n",
       "    <tr>\n",
       "      <th>3</th>\n",
       "      <td>EMP1003</td>\n",
       "      <td>Frank Harris</td>\n",
       "      <td>45</td>\n",
       "      <td>Admin</td>\n",
       "      <td>2022-10-31</td>\n",
       "      <td>82869</td>\n",
       "      <td>32</td>\n",
       "      <td>3</td>\n",
       "      <td>False</td>\n",
       "      <td>High</td>\n",
       "    </tr>\n",
       "    <tr>\n",
       "      <th>4</th>\n",
       "      <td>EMP1004</td>\n",
       "      <td>Bob Smith</td>\n",
       "      <td>33</td>\n",
       "      <td>Admin</td>\n",
       "      <td>2024-02-21</td>\n",
       "      <td>33020</td>\n",
       "      <td>38</td>\n",
       "      <td>1</td>\n",
       "      <td>False</td>\n",
       "      <td>Low</td>\n",
       "    </tr>\n",
       "    <tr>\n",
       "      <th>...</th>\n",
       "      <td>...</td>\n",
       "      <td>...</td>\n",
       "      <td>...</td>\n",
       "      <td>...</td>\n",
       "      <td>...</td>\n",
       "      <td>...</td>\n",
       "      <td>...</td>\n",
       "      <td>...</td>\n",
       "      <td>...</td>\n",
       "      <td>...</td>\n",
       "    </tr>\n",
       "    <tr>\n",
       "      <th>95</th>\n",
       "      <td>EMP1095</td>\n",
       "      <td>Isabella Scott</td>\n",
       "      <td>33</td>\n",
       "      <td>IT</td>\n",
       "      <td>2017-04-11</td>\n",
       "      <td>97950</td>\n",
       "      <td>0</td>\n",
       "      <td>1</td>\n",
       "      <td>True</td>\n",
       "      <td>High</td>\n",
       "    </tr>\n",
       "    <tr>\n",
       "      <th>96</th>\n",
       "      <td>EMP1096</td>\n",
       "      <td>Emma Wilson</td>\n",
       "      <td>53</td>\n",
       "      <td>Admin</td>\n",
       "      <td>2021-04-27</td>\n",
       "      <td>142115</td>\n",
       "      <td>10</td>\n",
       "      <td>5</td>\n",
       "      <td>True</td>\n",
       "      <td>High</td>\n",
       "    </tr>\n",
       "    <tr>\n",
       "      <th>97</th>\n",
       "      <td>EMP1097</td>\n",
       "      <td>Noah Baker</td>\n",
       "      <td>59</td>\n",
       "      <td>IT</td>\n",
       "      <td>2022-08-12</td>\n",
       "      <td>36806</td>\n",
       "      <td>24</td>\n",
       "      <td>3</td>\n",
       "      <td>False</td>\n",
       "      <td>Low</td>\n",
       "    </tr>\n",
       "    <tr>\n",
       "      <th>98</th>\n",
       "      <td>EMP1098</td>\n",
       "      <td>Noah Baker</td>\n",
       "      <td>48</td>\n",
       "      <td>Marketing</td>\n",
       "      <td>2019-07-18</td>\n",
       "      <td>76510</td>\n",
       "      <td>10</td>\n",
       "      <td>1</td>\n",
       "      <td>True</td>\n",
       "      <td>Medium</td>\n",
       "    </tr>\n",
       "    <tr>\n",
       "      <th>99</th>\n",
       "      <td>EMP1099</td>\n",
       "      <td>Paul Nelson</td>\n",
       "      <td>33</td>\n",
       "      <td>IT</td>\n",
       "      <td>2024-03-15</td>\n",
       "      <td>108283</td>\n",
       "      <td>6</td>\n",
       "      <td>3</td>\n",
       "      <td>True</td>\n",
       "      <td>High</td>\n",
       "    </tr>\n",
       "  </tbody>\n",
       "</table>\n",
       "<p>100 rows × 10 columns</p>\n",
       "</div>"
      ],
      "text/plain": [
       "   Employee_ID            Name  Age Department Joining_Date  Salary  \\\n",
       "0      EMP1000     David White   49         IT   2023-12-01   64368   \n",
       "1      EMP1001     David White   45    Finance   2017-03-04   64740   \n",
       "2      EMP1002     Emma Wilson   29         IT   2019-08-03  110292   \n",
       "3      EMP1003    Frank Harris   45      Admin   2022-10-31   82869   \n",
       "4      EMP1004       Bob Smith   33      Admin   2024-02-21   33020   \n",
       "..         ...             ...  ...        ...          ...     ...   \n",
       "95     EMP1095  Isabella Scott   33         IT   2017-04-11   97950   \n",
       "96     EMP1096     Emma Wilson   53      Admin   2021-04-27  142115   \n",
       "97     EMP1097      Noah Baker   59         IT   2022-08-12   36806   \n",
       "98     EMP1098      Noah Baker   48  Marketing   2019-07-18   76510   \n",
       "99     EMP1099     Paul Nelson   33         IT   2024-03-15  108283   \n",
       "\n",
       "    Experience  Performance_Score  Remote_Work_Eligible salary_classification  \n",
       "0           23                  1                 False                Medium  \n",
       "1           34                  1                 False                Medium  \n",
       "2           10                  1                  True                  High  \n",
       "3           32                  3                 False                  High  \n",
       "4           38                  1                 False                   Low  \n",
       "..         ...                ...                   ...                   ...  \n",
       "95           0                  1                  True                  High  \n",
       "96          10                  5                  True                  High  \n",
       "97          24                  3                 False                   Low  \n",
       "98          10                  1                  True                Medium  \n",
       "99           6                  3                  True                  High  \n",
       "\n",
       "[100 rows x 10 columns]"
      ]
     },
     "execution_count": 12,
     "metadata": {},
     "output_type": "execute_result"
    }
   ],
   "source": [
    "df"
   ]
  },
  {
   "cell_type": "code",
   "execution_count": 13,
   "id": "f6eddbed",
   "metadata": {},
   "outputs": [
    {
     "data": {
      "text/plain": [
       "0      57931.2\n",
       "1      58266.0\n",
       "2      99262.8\n",
       "3      82869.0\n",
       "4      29718.0\n",
       "        ...   \n",
       "95     88155.0\n",
       "96    142115.0\n",
       "97     36806.0\n",
       "98     68859.0\n",
       "99    108283.0\n",
       "Length: 100, dtype: float64"
      ]
     },
     "execution_count": 13,
     "metadata": {},
     "output_type": "execute_result"
    }
   ],
   "source": [
    "df.apply(adj_sal, axis = 1)"
   ]
  },
  {
   "cell_type": "code",
   "execution_count": 14,
   "id": "630d4b7f",
   "metadata": {},
   "outputs": [
    {
     "data": {
      "text/plain": [
       "Employee_ID                  EMP1001\n",
       "Name                     David White\n",
       "Age                               45\n",
       "Department                   Finance\n",
       "Joining_Date              2017-03-04\n",
       "Salary                         64740\n",
       "Experience                        34\n",
       "Performance_Score                  1\n",
       "Remote_Work_Eligible           False\n",
       "salary_classification         Medium\n",
       "Name: 1, dtype: object"
      ]
     },
     "execution_count": 14,
     "metadata": {},
     "output_type": "execute_result"
    }
   ],
   "source": [
    "# Retire by department - HR age >50 ->retire, Marketing age >40 -> retire, Department admin age>45 -> retire, don't return anything otherwise.\n",
    "ds = df.loc[1]\n",
    "ds"
   ]
  },
  {
   "cell_type": "code",
   "execution_count": 15,
   "id": "8c494049",
   "metadata": {},
   "outputs": [],
   "source": [
    "def decide_retirement(ds):\n",
    "    if((ds['Department'] == 'HR') & (ds['Age']>50)):\n",
    "        return 'retire'\n",
    "    elif((ds['Department'] == 'Marketing') & (ds['Age']>40)):\n",
    "        return 'retire'\n",
    "    elif((ds['Department'] == 'Admin') & (ds['Age']>45)):\n",
    "        return 'retire'\n",
    "    else:\n",
    "        return 'Do not retire'"
   ]
  },
  {
   "cell_type": "code",
   "execution_count": 16,
   "id": "32926eb3",
   "metadata": {},
   "outputs": [
    {
     "data": {
      "text/plain": [
       "0     Do not retire\n",
       "1     Do not retire\n",
       "2     Do not retire\n",
       "3     Do not retire\n",
       "4     Do not retire\n",
       "          ...      \n",
       "95    Do not retire\n",
       "96           retire\n",
       "97    Do not retire\n",
       "98           retire\n",
       "99    Do not retire\n",
       "Length: 100, dtype: object"
      ]
     },
     "execution_count": 16,
     "metadata": {},
     "output_type": "execute_result"
    }
   ],
   "source": [
    "df.apply(decide_retirement, axis = 1)      # axis=1 means apply this fuction in every row"
   ]
  },
  {
   "cell_type": "code",
   "execution_count": 17,
   "id": "041a9fd4",
   "metadata": {},
   "outputs": [],
   "source": [
    "# Question is cap the values of salary between 60000 and 100000 but you can't use 60000 and 10000 as numbers inside the function\n",
    "#  use the bounds as variables"
   ]
  },
  {
   "cell_type": "code",
   "execution_count": 18,
   "id": "222d2484",
   "metadata": {},
   "outputs": [],
   "source": [
    "def func(x, lb, ub):\n",
    "    if(x<lb):\n",
    "        return lb\n",
    "    elif(x>ub):\n",
    "        return ub\n",
    "    else:\n",
    "        return x"
   ]
  },
  {
   "cell_type": "code",
   "execution_count": 19,
   "id": "c43111b3",
   "metadata": {},
   "outputs": [],
   "source": [
    "\n",
    "new_func = lambda x: func(x, 60000, 100000)"
   ]
  },
  {
   "cell_type": "code",
   "execution_count": 20,
   "id": "e600e37e",
   "metadata": {},
   "outputs": [
    {
     "data": {
      "text/plain": [
       "0     64368\n",
       "1     64740\n",
       "2     90000\n",
       "3     82869\n",
       "4     50000\n",
       "      ...  \n",
       "95    90000\n",
       "96    90000\n",
       "97    50000\n",
       "98    76510\n",
       "99    90000\n",
       "Name: Salary, Length: 100, dtype: int64"
      ]
     },
     "execution_count": 20,
     "metadata": {},
     "output_type": "execute_result"
    }
   ],
   "source": [
    "# df['Salary'].apply(func(x, 50000, 90000))\n",
    "lb = 50000\n",
    "ub = 90000\n",
    "df['Salary'].apply(lambda x: func(x, 50000, 90000))"
   ]
  },
  {
   "cell_type": "code",
   "execution_count": 21,
   "id": "68ea6622",
   "metadata": {},
   "outputs": [
    {
     "data": {
      "text/plain": [
       "0     64368\n",
       "1     64740\n",
       "2     90000\n",
       "3     82869\n",
       "4     50000\n",
       "      ...  \n",
       "95    90000\n",
       "96    90000\n",
       "97    50000\n",
       "98    76510\n",
       "99    90000\n",
       "Name: Salary, Length: 100, dtype: int64"
      ]
     },
     "execution_count": 21,
     "metadata": {},
     "output_type": "execute_result"
    }
   ],
   "source": [
    "lb = 50000\n",
    "ub = 90000\n",
    "df['Salary'].apply(func, lb = lb, ub = ub)"
   ]
  },
  {
   "cell_type": "markdown",
   "id": "c8051114-5360-44d9-918d-87561e281c0d",
   "metadata": {},
   "source": [
    "# Group By"
   ]
  },
  {
   "cell_type": "code",
   "execution_count": 22,
   "id": "8a8c37e0",
   "metadata": {},
   "outputs": [],
   "source": [
    "import pandas as pd\n",
    "import numpy as np\n",
    "\n",
    "# Creating sample data\n",
    "data = {\n",
    "    \"Customer_ID\": np.random.randint(1001, 1050, 50),\n",
    "    \"City\": np.random.choice([\"New York\", \"Los Angeles\", \"Chicago\", \"Houston\", \"San Francisco\"], 50),\n",
    "    \"Product_Category\": np.random.choice([\"Electronics\", \"Clothing\", \"Furniture\", \"Beauty\", \"Groceries\"], 50),\n",
    "    \"Product\": np.random.choice([\"Laptop\", \"Shoes\", \"Table\", \"Face Cream\", \"Vegetables\", \"Headphones\", \"Sofa\", \"Jacket\", \"Smartphone\"], 50),\n",
    "    \"Revenue\": np.random.randint(50, 1000, 50),\n",
    "    \"Discount\": np.random.randint(5, 30, 50),\n",
    "    \"Customer_Rating\": np.round(np.random.uniform(1, 5, 50), 1),\n",
    "    \"Purchase_Date\": pd.date_range(start=\"2024-01-01\", periods=50, freq=\"D\"),\n",
    "}\n",
    "\n",
    "# Creating the DataFrame\n",
    "df = pd.DataFrame(data)\n",
    "\n"
   ]
  },
  {
   "cell_type": "code",
   "execution_count": 23,
   "id": "6c8de0f9",
   "metadata": {},
   "outputs": [],
   "source": [
    "df = df.head(10)"
   ]
  },
  {
   "cell_type": "code",
   "execution_count": 24,
   "id": "d3a2bb46",
   "metadata": {},
   "outputs": [],
   "source": [
    "df.to_clipboard()"
   ]
  },
  {
   "cell_type": "code",
   "execution_count": 25,
   "id": "b224b10d",
   "metadata": {},
   "outputs": [],
   "source": [
    "grouped = df.groupby('City')"
   ]
  },
  {
   "cell_type": "code",
   "execution_count": 26,
   "id": "8ee43d8f",
   "metadata": {},
   "outputs": [
    {
     "data": {
      "text/plain": [
       "{'Chicago': array([0, 1, 5, 7, 9], dtype=int64),\n",
       " 'Houston': array([2, 3, 8], dtype=int64),\n",
       " 'Los Angeles': array([6], dtype=int64),\n",
       " 'New York': array([4], dtype=int64)}"
      ]
     },
     "execution_count": 26,
     "metadata": {},
     "output_type": "execute_result"
    }
   ],
   "source": [
    "grouped.indices"
   ]
  },
  {
   "cell_type": "code",
   "execution_count": 27,
   "id": "af6cbf98",
   "metadata": {},
   "outputs": [
    {
     "data": {
      "text/plain": [
       "{'Chicago': [0, 1, 5, 7, 9], 'Houston': [2, 3, 8], 'Los Angeles': [6], 'New York': [4]}"
      ]
     },
     "execution_count": 27,
     "metadata": {},
     "output_type": "execute_result"
    }
   ],
   "source": [
    "grouped.groups"
   ]
  },
  {
   "cell_type": "code",
   "execution_count": 28,
   "id": "7bdd05c2",
   "metadata": {},
   "outputs": [
    {
     "data": {
      "text/plain": [
       "4"
      ]
     },
     "execution_count": 28,
     "metadata": {},
     "output_type": "execute_result"
    }
   ],
   "source": [
    "grouped.ngroups"
   ]
  },
  {
   "cell_type": "code",
   "execution_count": 29,
   "id": "f103a004",
   "metadata": {},
   "outputs": [],
   "source": [
    "lst = [1,2,3]"
   ]
  },
  {
   "cell_type": "code",
   "execution_count": 30,
   "id": "5778d399",
   "metadata": {},
   "outputs": [
    {
     "data": {
      "text/plain": [
       "['__add__',\n",
       " '__class__',\n",
       " '__class_getitem__',\n",
       " '__contains__',\n",
       " '__delattr__',\n",
       " '__delitem__',\n",
       " '__dir__',\n",
       " '__doc__',\n",
       " '__eq__',\n",
       " '__format__',\n",
       " '__ge__',\n",
       " '__getattribute__',\n",
       " '__getitem__',\n",
       " '__gt__',\n",
       " '__hash__',\n",
       " '__iadd__',\n",
       " '__imul__',\n",
       " '__init__',\n",
       " '__init_subclass__',\n",
       " '__iter__',\n",
       " '__le__',\n",
       " '__len__',\n",
       " '__lt__',\n",
       " '__mul__',\n",
       " '__ne__',\n",
       " '__new__',\n",
       " '__reduce__',\n",
       " '__reduce_ex__',\n",
       " '__repr__',\n",
       " '__reversed__',\n",
       " '__rmul__',\n",
       " '__setattr__',\n",
       " '__setitem__',\n",
       " '__sizeof__',\n",
       " '__str__',\n",
       " '__subclasshook__',\n",
       " 'append',\n",
       " 'clear',\n",
       " 'copy',\n",
       " 'count',\n",
       " 'extend',\n",
       " 'index',\n",
       " 'insert',\n",
       " 'pop',\n",
       " 'remove',\n",
       " 'reverse',\n",
       " 'sort']"
      ]
     },
     "execution_count": 30,
     "metadata": {},
     "output_type": "execute_result"
    }
   ],
   "source": [
    "dir(lst)"
   ]
  },
  {
   "cell_type": "code",
   "execution_count": 31,
   "id": "d3982c59",
   "metadata": {},
   "outputs": [],
   "source": [
    "# dir(grouped)"
   ]
  },
  {
   "cell_type": "code",
   "execution_count": 32,
   "id": "22ee49a6",
   "metadata": {},
   "outputs": [
    {
     "data": {
      "text/html": [
       "<div>\n",
       "<style scoped>\n",
       "    .dataframe tbody tr th:only-of-type {\n",
       "        vertical-align: middle;\n",
       "    }\n",
       "\n",
       "    .dataframe tbody tr th {\n",
       "        vertical-align: top;\n",
       "    }\n",
       "\n",
       "    .dataframe thead th {\n",
       "        text-align: right;\n",
       "    }\n",
       "</style>\n",
       "<table border=\"1\" class=\"dataframe\">\n",
       "  <thead>\n",
       "    <tr style=\"text-align: right;\">\n",
       "      <th></th>\n",
       "      <th>City</th>\n",
       "      <th>Discount</th>\n",
       "    </tr>\n",
       "  </thead>\n",
       "  <tbody>\n",
       "    <tr>\n",
       "      <th>0</th>\n",
       "      <td>Chicago</td>\n",
       "      <td>29</td>\n",
       "    </tr>\n",
       "    <tr>\n",
       "      <th>1</th>\n",
       "      <td>Houston</td>\n",
       "      <td>18</td>\n",
       "    </tr>\n",
       "    <tr>\n",
       "      <th>2</th>\n",
       "      <td>Los Angeles</td>\n",
       "      <td>21</td>\n",
       "    </tr>\n",
       "    <tr>\n",
       "      <th>3</th>\n",
       "      <td>New York</td>\n",
       "      <td>9</td>\n",
       "    </tr>\n",
       "  </tbody>\n",
       "</table>\n",
       "</div>"
      ],
      "text/plain": [
       "          City  Discount\n",
       "0      Chicago        29\n",
       "1      Houston        18\n",
       "2  Los Angeles        21\n",
       "3     New York         9"
      ]
     },
     "execution_count": 32,
     "metadata": {},
     "output_type": "execute_result"
    }
   ],
   "source": [
    "df.groupby('City')['Discount'].max()\n",
    "df.groupby('City')[['Discount']].max().reset_index()\n",
    "df.groupby('City')[['Discount']].max().reset_index(drop = True)\n",
    "\n",
    "df.groupby('City')['Discount'].max().reset_index()"
   ]
  },
  {
   "cell_type": "code",
   "execution_count": 33,
   "id": "5363c05d",
   "metadata": {},
   "outputs": [
    {
     "data": {
      "text/html": [
       "<div>\n",
       "<style scoped>\n",
       "    .dataframe tbody tr th:only-of-type {\n",
       "        vertical-align: middle;\n",
       "    }\n",
       "\n",
       "    .dataframe tbody tr th {\n",
       "        vertical-align: top;\n",
       "    }\n",
       "\n",
       "    .dataframe thead th {\n",
       "        text-align: right;\n",
       "    }\n",
       "</style>\n",
       "<table border=\"1\" class=\"dataframe\">\n",
       "  <thead>\n",
       "    <tr style=\"text-align: right;\">\n",
       "      <th></th>\n",
       "      <th>Product_Category</th>\n",
       "      <th>Customer_Rating</th>\n",
       "      <th>Revenue</th>\n",
       "    </tr>\n",
       "  </thead>\n",
       "  <tbody>\n",
       "    <tr>\n",
       "      <th>0</th>\n",
       "      <td>Beauty</td>\n",
       "      <td>3.7</td>\n",
       "      <td>360</td>\n",
       "    </tr>\n",
       "    <tr>\n",
       "      <th>1</th>\n",
       "      <td>Clothing</td>\n",
       "      <td>2.5</td>\n",
       "      <td>824</td>\n",
       "    </tr>\n",
       "    <tr>\n",
       "      <th>2</th>\n",
       "      <td>Electronics</td>\n",
       "      <td>3.0</td>\n",
       "      <td>381</td>\n",
       "    </tr>\n",
       "    <tr>\n",
       "      <th>3</th>\n",
       "      <td>Furniture</td>\n",
       "      <td>1.1</td>\n",
       "      <td>189</td>\n",
       "    </tr>\n",
       "    <tr>\n",
       "      <th>4</th>\n",
       "      <td>Groceries</td>\n",
       "      <td>1.7</td>\n",
       "      <td>54</td>\n",
       "    </tr>\n",
       "  </tbody>\n",
       "</table>\n",
       "</div>"
      ],
      "text/plain": [
       "  Product_Category  Customer_Rating  Revenue\n",
       "0           Beauty              3.7      360\n",
       "1         Clothing              2.5      824\n",
       "2      Electronics              3.0      381\n",
       "3        Furniture              1.1      189\n",
       "4        Groceries              1.7       54"
      ]
     },
     "execution_count": 33,
     "metadata": {},
     "output_type": "execute_result"
    }
   ],
   "source": [
    "# For every product find min customer rating and min revenue\n",
    "df.groupby('Product_Category')[['Customer_Rating', 'Revenue']].min()\n",
    "# I don't want index - \n",
    "df.groupby('Product_Category')[['Customer_Rating', 'Revenue']].min().reset_index()\n"
   ]
  },
  {
   "cell_type": "code",
   "execution_count": 34,
   "id": "180d26bf",
   "metadata": {},
   "outputs": [
    {
     "data": {
      "text/html": [
       "<div>\n",
       "<style scoped>\n",
       "    .dataframe tbody tr th:only-of-type {\n",
       "        vertical-align: middle;\n",
       "    }\n",
       "\n",
       "    .dataframe tbody tr th {\n",
       "        vertical-align: top;\n",
       "    }\n",
       "\n",
       "    .dataframe thead th {\n",
       "        text-align: right;\n",
       "    }\n",
       "</style>\n",
       "<table border=\"1\" class=\"dataframe\">\n",
       "  <thead>\n",
       "    <tr style=\"text-align: right;\">\n",
       "      <th></th>\n",
       "      <th>customer_rating_min</th>\n",
       "      <th>revenue_min</th>\n",
       "    </tr>\n",
       "    <tr>\n",
       "      <th>Product_Category</th>\n",
       "      <th></th>\n",
       "      <th></th>\n",
       "    </tr>\n",
       "  </thead>\n",
       "  <tbody>\n",
       "    <tr>\n",
       "      <th>Beauty</th>\n",
       "      <td>3.7</td>\n",
       "      <td>360</td>\n",
       "    </tr>\n",
       "    <tr>\n",
       "      <th>Clothing</th>\n",
       "      <td>2.5</td>\n",
       "      <td>824</td>\n",
       "    </tr>\n",
       "    <tr>\n",
       "      <th>Electronics</th>\n",
       "      <td>3.0</td>\n",
       "      <td>381</td>\n",
       "    </tr>\n",
       "    <tr>\n",
       "      <th>Furniture</th>\n",
       "      <td>1.1</td>\n",
       "      <td>189</td>\n",
       "    </tr>\n",
       "    <tr>\n",
       "      <th>Groceries</th>\n",
       "      <td>1.7</td>\n",
       "      <td>54</td>\n",
       "    </tr>\n",
       "  </tbody>\n",
       "</table>\n",
       "</div>"
      ],
      "text/plain": [
       "                  customer_rating_min  revenue_min\n",
       "Product_Category                                  \n",
       "Beauty                            3.7          360\n",
       "Clothing                          2.5          824\n",
       "Electronics                       3.0          381\n",
       "Furniture                         1.1          189\n",
       "Groceries                         1.7           54"
      ]
     },
     "execution_count": 34,
     "metadata": {},
     "output_type": "execute_result"
    }
   ],
   "source": [
    "# Slight problem - I'm getting the aggregated value column name same as actual column name\n",
    "# What if I want a custom name like customer_rating_min\n",
    "df.groupby('Product_Category').agg(customer_rating_min = ('Customer_Rating', 'min'), revenue_min = ('Revenue', 'min'))"
   ]
  },
  {
   "cell_type": "code",
   "execution_count": 35,
   "id": "00bbfaa4",
   "metadata": {},
   "outputs": [
    {
     "data": {
      "text/html": [
       "<div>\n",
       "<style scoped>\n",
       "    .dataframe tbody tr th:only-of-type {\n",
       "        vertical-align: middle;\n",
       "    }\n",
       "\n",
       "    .dataframe tbody tr th {\n",
       "        vertical-align: top;\n",
       "    }\n",
       "\n",
       "    .dataframe thead th {\n",
       "        text-align: right;\n",
       "    }\n",
       "</style>\n",
       "<table border=\"1\" class=\"dataframe\">\n",
       "  <thead>\n",
       "    <tr style=\"text-align: right;\">\n",
       "      <th></th>\n",
       "      <th>customer_rating_min</th>\n",
       "      <th>max_revenue</th>\n",
       "    </tr>\n",
       "    <tr>\n",
       "      <th>Product_Category</th>\n",
       "      <th></th>\n",
       "      <th></th>\n",
       "    </tr>\n",
       "  </thead>\n",
       "  <tbody>\n",
       "    <tr>\n",
       "      <th>Beauty</th>\n",
       "      <td>3.7</td>\n",
       "      <td>360</td>\n",
       "    </tr>\n",
       "    <tr>\n",
       "      <th>Clothing</th>\n",
       "      <td>2.5</td>\n",
       "      <td>824</td>\n",
       "    </tr>\n",
       "    <tr>\n",
       "      <th>Electronics</th>\n",
       "      <td>3.0</td>\n",
       "      <td>381</td>\n",
       "    </tr>\n",
       "    <tr>\n",
       "      <th>Furniture</th>\n",
       "      <td>1.1</td>\n",
       "      <td>687</td>\n",
       "    </tr>\n",
       "    <tr>\n",
       "      <th>Groceries</th>\n",
       "      <td>1.7</td>\n",
       "      <td>877</td>\n",
       "    </tr>\n",
       "  </tbody>\n",
       "</table>\n",
       "</div>"
      ],
      "text/plain": [
       "                  customer_rating_min  max_revenue\n",
       "Product_Category                                  \n",
       "Beauty                            3.7          360\n",
       "Clothing                          2.5          824\n",
       "Electronics                       3.0          381\n",
       "Furniture                         1.1          687\n",
       "Groceries                         1.7          877"
      ]
     },
     "execution_count": 35,
     "metadata": {},
     "output_type": "execute_result"
    }
   ],
   "source": [
    "# I want for each product category min of customer rating and max of revenue\n",
    "# Can't be done normally\n",
    "df.groupby('Product_Category')[['Customer_Rating', 'Revenue']].min()\n",
    "# Can be done using agg\n",
    "df.groupby('Product_Category').agg(customer_rating_min = ('Customer_Rating', 'min'), max_revenue = ('Revenue', 'max'))"
   ]
  },
  {
   "cell_type": "code",
   "execution_count": 36,
   "id": "3f42b608",
   "metadata": {},
   "outputs": [
    {
     "data": {
      "text/html": [
       "<div>\n",
       "<style scoped>\n",
       "    .dataframe tbody tr th:only-of-type {\n",
       "        vertical-align: middle;\n",
       "    }\n",
       "\n",
       "    .dataframe tbody tr th {\n",
       "        vertical-align: top;\n",
       "    }\n",
       "\n",
       "    .dataframe thead th {\n",
       "        text-align: right;\n",
       "    }\n",
       "</style>\n",
       "<table border=\"1\" class=\"dataframe\">\n",
       "  <thead>\n",
       "    <tr style=\"text-align: right;\">\n",
       "      <th></th>\n",
       "      <th>total_revenue</th>\n",
       "      <th>avg_discount</th>\n",
       "    </tr>\n",
       "    <tr>\n",
       "      <th>Product_Category</th>\n",
       "      <th></th>\n",
       "      <th></th>\n",
       "    </tr>\n",
       "  </thead>\n",
       "  <tbody>\n",
       "    <tr>\n",
       "      <th>Beauty</th>\n",
       "      <td>360</td>\n",
       "      <td>5.0</td>\n",
       "    </tr>\n",
       "    <tr>\n",
       "      <th>Clothing</th>\n",
       "      <td>824</td>\n",
       "      <td>9.0</td>\n",
       "    </tr>\n",
       "    <tr>\n",
       "      <th>Electronics</th>\n",
       "      <td>381</td>\n",
       "      <td>16.0</td>\n",
       "    </tr>\n",
       "    <tr>\n",
       "      <th>Furniture</th>\n",
       "      <td>2062</td>\n",
       "      <td>19.0</td>\n",
       "    </tr>\n",
       "    <tr>\n",
       "      <th>Groceries</th>\n",
       "      <td>931</td>\n",
       "      <td>13.5</td>\n",
       "    </tr>\n",
       "  </tbody>\n",
       "</table>\n",
       "</div>"
      ],
      "text/plain": [
       "                  total_revenue  avg_discount\n",
       "Product_Category                             \n",
       "Beauty                      360           5.0\n",
       "Clothing                    824           9.0\n",
       "Electronics                 381          16.0\n",
       "Furniture                  2062          19.0\n",
       "Groceries                   931          13.5"
      ]
     },
     "execution_count": 36,
     "metadata": {},
     "output_type": "execute_result"
    }
   ],
   "source": [
    "# 1. Total Revenue and Average Discount per Product Category\n",
    "df.groupby('Product_Category').agg(total_revenue = ('Revenue', 'sum'), avg_discount = ('Discount', 'mean'))"
   ]
  },
  {
   "cell_type": "code",
   "execution_count": 37,
   "id": "0dac1c8a",
   "metadata": {},
   "outputs": [],
   "source": [
    "# Number of Purchases and Average Customer Rating per City\n"
   ]
  },
  {
   "cell_type": "markdown",
   "id": "7ebd3690-904d-4ded-ba2e-fd500ffbbee6",
   "metadata": {},
   "source": [
    "# Session 2"
   ]
  },
  {
   "cell_type": "code",
   "execution_count": 38,
   "id": "4110a16d",
   "metadata": {},
   "outputs": [],
   "source": [
    "# Next session \n",
    "# Group by apply Group by trasform \n",
    "# String operations and date operations\n",
    "# Pivots\n",
    "\n",
    "# Merge - on your own"
   ]
  },
  {
   "cell_type": "code",
   "execution_count": 39,
   "id": "013bc4b8",
   "metadata": {},
   "outputs": [],
   "source": [
    "import pandas as pd\n",
    "\n",
    "data_small = {\n",
    "    'Department': ['Sales', 'Sales', 'Sales', 'HR', 'HR', 'HR', 'IT', 'IT'],\n",
    "    'Employee': ['A', 'B', 'C', 'D', 'E', 'F', 'G', 'H'],\n",
    "    'Salary': [50000, 55000, 60000, 48000, 50000, 52000, 70000, 72000],\n",
    "    'Experience': [2, 3, 5, 1, 2, 4, 6, 8]\n",
    "}\n",
    "\n",
    "df = pd.DataFrame(data_small)\n"
   ]
  },
  {
   "cell_type": "code",
   "execution_count": 40,
   "id": "25381893",
   "metadata": {},
   "outputs": [
    {
     "data": {
      "text/html": [
       "<div>\n",
       "<style scoped>\n",
       "    .dataframe tbody tr th:only-of-type {\n",
       "        vertical-align: middle;\n",
       "    }\n",
       "\n",
       "    .dataframe tbody tr th {\n",
       "        vertical-align: top;\n",
       "    }\n",
       "\n",
       "    .dataframe thead th {\n",
       "        text-align: right;\n",
       "    }\n",
       "</style>\n",
       "<table border=\"1\" class=\"dataframe\">\n",
       "  <thead>\n",
       "    <tr style=\"text-align: right;\">\n",
       "      <th></th>\n",
       "      <th>Department</th>\n",
       "      <th>Employee</th>\n",
       "      <th>Salary</th>\n",
       "      <th>Experience</th>\n",
       "    </tr>\n",
       "  </thead>\n",
       "  <tbody>\n",
       "    <tr>\n",
       "      <th>0</th>\n",
       "      <td>Sales</td>\n",
       "      <td>A</td>\n",
       "      <td>50000</td>\n",
       "      <td>2</td>\n",
       "    </tr>\n",
       "    <tr>\n",
       "      <th>1</th>\n",
       "      <td>Sales</td>\n",
       "      <td>B</td>\n",
       "      <td>55000</td>\n",
       "      <td>3</td>\n",
       "    </tr>\n",
       "    <tr>\n",
       "      <th>2</th>\n",
       "      <td>Sales</td>\n",
       "      <td>C</td>\n",
       "      <td>60000</td>\n",
       "      <td>5</td>\n",
       "    </tr>\n",
       "    <tr>\n",
       "      <th>3</th>\n",
       "      <td>HR</td>\n",
       "      <td>D</td>\n",
       "      <td>48000</td>\n",
       "      <td>1</td>\n",
       "    </tr>\n",
       "    <tr>\n",
       "      <th>4</th>\n",
       "      <td>HR</td>\n",
       "      <td>E</td>\n",
       "      <td>50000</td>\n",
       "      <td>2</td>\n",
       "    </tr>\n",
       "    <tr>\n",
       "      <th>5</th>\n",
       "      <td>HR</td>\n",
       "      <td>F</td>\n",
       "      <td>52000</td>\n",
       "      <td>4</td>\n",
       "    </tr>\n",
       "    <tr>\n",
       "      <th>6</th>\n",
       "      <td>IT</td>\n",
       "      <td>G</td>\n",
       "      <td>70000</td>\n",
       "      <td>6</td>\n",
       "    </tr>\n",
       "    <tr>\n",
       "      <th>7</th>\n",
       "      <td>IT</td>\n",
       "      <td>H</td>\n",
       "      <td>72000</td>\n",
       "      <td>8</td>\n",
       "    </tr>\n",
       "  </tbody>\n",
       "</table>\n",
       "</div>"
      ],
      "text/plain": [
       "  Department Employee  Salary  Experience\n",
       "0      Sales        A   50000           2\n",
       "1      Sales        B   55000           3\n",
       "2      Sales        C   60000           5\n",
       "3         HR        D   48000           1\n",
       "4         HR        E   50000           2\n",
       "5         HR        F   52000           4\n",
       "6         IT        G   70000           6\n",
       "7         IT        H   72000           8"
      ]
     },
     "execution_count": 40,
     "metadata": {},
     "output_type": "execute_result"
    }
   ],
   "source": [
    "df"
   ]
  },
  {
   "cell_type": "code",
   "execution_count": 41,
   "id": "122f9c5c",
   "metadata": {},
   "outputs": [
    {
     "data": {
      "text/plain": [
       "0     2000\n",
       "1     7000\n",
       "2    12000\n",
       "3        0\n",
       "4     2000\n",
       "5     4000\n",
       "6    22000\n",
       "7    24000\n",
       "Name: Salary, dtype: int64"
      ]
     },
     "execution_count": 41,
     "metadata": {},
     "output_type": "execute_result"
    }
   ],
   "source": [
    "# Find out how much each employees salary is more as compared to employee with minimum salary\n",
    "df['Salary'] - df['Salary'].min()"
   ]
  },
  {
   "cell_type": "code",
   "execution_count": 42,
   "id": "f71369dc",
   "metadata": {},
   "outputs": [
    {
     "data": {
      "text/plain": [
       "0     2000\n",
       "1     7000\n",
       "2    12000\n",
       "3        0\n",
       "4     2000\n",
       "5     4000\n",
       "6    22000\n",
       "7    24000\n",
       "Name: Salary, dtype: int64"
      ]
     },
     "execution_count": 42,
     "metadata": {},
     "output_type": "execute_result"
    }
   ],
   "source": [
    "def diff_salary(x, min_salary):\n",
    "    return x-min_salary\n",
    "min_sal = df['Salary'].min()\n",
    "df['Salary'].apply(diff_salary, min_salary = min_sal)"
   ]
  },
  {
   "cell_type": "code",
   "execution_count": 43,
   "id": "ecc2fef1",
   "metadata": {},
   "outputs": [],
   "source": [
    "def diff_salary_group(ds):\n",
    "    return ds - ds.min()"
   ]
  },
  {
   "cell_type": "code",
   "execution_count": 44,
   "id": "57d1ee63",
   "metadata": {},
   "outputs": [
    {
     "data": {
      "text/plain": [
       "Department   \n",
       "HR          3        0\n",
       "            4     2000\n",
       "            5     4000\n",
       "IT          6        0\n",
       "            7     2000\n",
       "Sales       0        0\n",
       "            1     5000\n",
       "            2    10000\n",
       "Name: Salary, dtype: int64"
      ]
     },
     "execution_count": 44,
     "metadata": {},
     "output_type": "execute_result"
    }
   ],
   "source": [
    "# Find how much each employees salary is more than the person with minimum salary in the same department\n",
    "df.groupby('Department')['Salary'].apply(diff_salary_group)"
   ]
  },
  {
   "cell_type": "code",
   "execution_count": 45,
   "id": "0238b815",
   "metadata": {},
   "outputs": [],
   "source": [
    "def sample_apply(ds):\n",
    "    print(ds)\n",
    "    return pd.Series([0,1,2,3,4,5,6])"
   ]
  },
  {
   "cell_type": "code",
   "execution_count": 46,
   "id": "448857ce",
   "metadata": {},
   "outputs": [
    {
     "name": "stdout",
     "output_type": "stream",
     "text": [
      "3    48000\n",
      "4    50000\n",
      "5    52000\n",
      "Name: HR, dtype: int64\n",
      "6    70000\n",
      "7    72000\n",
      "Name: IT, dtype: int64\n",
      "0    50000\n",
      "1    55000\n",
      "2    60000\n",
      "Name: Sales, dtype: int64\n"
     ]
    },
    {
     "data": {
      "text/plain": [
       "Department   \n",
       "HR          0    0\n",
       "            1    1\n",
       "            2    2\n",
       "            3    3\n",
       "            4    4\n",
       "            5    5\n",
       "            6    6\n",
       "IT          0    0\n",
       "            1    1\n",
       "            2    2\n",
       "            3    3\n",
       "            4    4\n",
       "            5    5\n",
       "            6    6\n",
       "Sales       0    0\n",
       "            1    1\n",
       "            2    2\n",
       "            3    3\n",
       "            4    4\n",
       "            5    5\n",
       "            6    6\n",
       "Name: Salary, dtype: int64"
      ]
     },
     "execution_count": 46,
     "metadata": {},
     "output_type": "execute_result"
    }
   ],
   "source": [
    "df.groupby('Department')['Salary'].apply(sample_apply)"
   ]
  },
  {
   "cell_type": "code",
   "execution_count": 47,
   "id": "70daddd0",
   "metadata": {},
   "outputs": [],
   "source": [
    "def diff_salary_group(ds):\n",
    "    return (ds - ds.min()).mean()"
   ]
  },
  {
   "cell_type": "code",
   "execution_count": 48,
   "id": "968d1ea6",
   "metadata": {},
   "outputs": [
    {
     "data": {
      "text/plain": [
       "Department\n",
       "HR       2000.0\n",
       "IT       1000.0\n",
       "Sales    5000.0\n",
       "Name: Salary, dtype: float64"
      ]
     },
     "execution_count": 48,
     "metadata": {},
     "output_type": "execute_result"
    }
   ],
   "source": [
    "# We get back a dataseries but with new indexes\n",
    "df.groupby('Department')['Salary'].apply(diff_salary_group)\n",
    "# We get back a dataframe with new indexes\n",
    "df.groupby('Department')['Salary'].apply(diff_salary_group)"
   ]
  },
  {
   "cell_type": "code",
   "execution_count": 49,
   "id": "1da0908d",
   "metadata": {},
   "outputs": [],
   "source": [
    "# 1. If the number of values going = no of values coming back the original indexes will become indexes of new values coming back\n",
    "# 2. If the number of values going != no of values coming back then new indexes will be created by group names"
   ]
  },
  {
   "cell_type": "code",
   "execution_count": 50,
   "id": "4eb9d4da",
   "metadata": {},
   "outputs": [
    {
     "data": {
      "text/html": [
       "<div>\n",
       "<style scoped>\n",
       "    .dataframe tbody tr th:only-of-type {\n",
       "        vertical-align: middle;\n",
       "    }\n",
       "\n",
       "    .dataframe tbody tr th {\n",
       "        vertical-align: top;\n",
       "    }\n",
       "\n",
       "    .dataframe thead th {\n",
       "        text-align: right;\n",
       "    }\n",
       "</style>\n",
       "<table border=\"1\" class=\"dataframe\">\n",
       "  <thead>\n",
       "    <tr style=\"text-align: right;\">\n",
       "      <th></th>\n",
       "      <th></th>\n",
       "      <th>Experience</th>\n",
       "    </tr>\n",
       "    <tr>\n",
       "      <th>Department</th>\n",
       "      <th></th>\n",
       "      <th></th>\n",
       "    </tr>\n",
       "  </thead>\n",
       "  <tbody>\n",
       "    <tr>\n",
       "      <th rowspan=\"3\" valign=\"top\">HR</th>\n",
       "      <th>3</th>\n",
       "      <td>1</td>\n",
       "    </tr>\n",
       "    <tr>\n",
       "      <th>4</th>\n",
       "      <td>4</td>\n",
       "    </tr>\n",
       "    <tr>\n",
       "      <th>5</th>\n",
       "      <td>16</td>\n",
       "    </tr>\n",
       "    <tr>\n",
       "      <th rowspan=\"2\" valign=\"top\">IT</th>\n",
       "      <th>6</th>\n",
       "      <td>36</td>\n",
       "    </tr>\n",
       "    <tr>\n",
       "      <th>7</th>\n",
       "      <td>64</td>\n",
       "    </tr>\n",
       "    <tr>\n",
       "      <th rowspan=\"3\" valign=\"top\">Sales</th>\n",
       "      <th>0</th>\n",
       "      <td>4</td>\n",
       "    </tr>\n",
       "    <tr>\n",
       "      <th>1</th>\n",
       "      <td>9</td>\n",
       "    </tr>\n",
       "    <tr>\n",
       "      <th>2</th>\n",
       "      <td>25</td>\n",
       "    </tr>\n",
       "  </tbody>\n",
       "</table>\n",
       "</div>"
      ],
      "text/plain": [
       "              Experience\n",
       "Department              \n",
       "HR         3           1\n",
       "           4           4\n",
       "           5          16\n",
       "IT         6          36\n",
       "           7          64\n",
       "Sales      0           4\n",
       "           1           9\n",
       "           2          25"
      ]
     },
     "execution_count": 50,
     "metadata": {},
     "output_type": "execute_result"
    }
   ],
   "source": [
    "def random_func(x):\n",
    "    return x**2\n",
    "\n",
    "df['Experience'].apply(random_func)\n",
    "# Is there any group? - int will go and int will come back (dataseries will come back accumulated)\n",
    "\n",
    "df.groupby('Department')['Experience'].apply(random_func)\n",
    "\n",
    "# Is there a group? - Each group's data series will go, each group's data series will come back - indexes - Original index\n",
    "df.groupby('Department')[['Experience']].apply(random_func)\n",
    "\n",
    "# Tell me in all three what is the data type going in the function and coming from the function\n",
    "\n"
   ]
  },
  {
   "cell_type": "code",
   "execution_count": 51,
   "id": "4c5d4fce",
   "metadata": {},
   "outputs": [
    {
     "data": {
      "text/html": [
       "<div>\n",
       "<style scoped>\n",
       "    .dataframe tbody tr th:only-of-type {\n",
       "        vertical-align: middle;\n",
       "    }\n",
       "\n",
       "    .dataframe tbody tr th {\n",
       "        vertical-align: top;\n",
       "    }\n",
       "\n",
       "    .dataframe thead th {\n",
       "        text-align: right;\n",
       "    }\n",
       "</style>\n",
       "<table border=\"1\" class=\"dataframe\">\n",
       "  <thead>\n",
       "    <tr style=\"text-align: right;\">\n",
       "      <th></th>\n",
       "      <th></th>\n",
       "      <th>Experience</th>\n",
       "    </tr>\n",
       "    <tr>\n",
       "      <th>Department</th>\n",
       "      <th></th>\n",
       "      <th></th>\n",
       "    </tr>\n",
       "  </thead>\n",
       "  <tbody>\n",
       "    <tr>\n",
       "      <th rowspan=\"3\" valign=\"top\">HR</th>\n",
       "      <th>3</th>\n",
       "      <td>1</td>\n",
       "    </tr>\n",
       "    <tr>\n",
       "      <th>4</th>\n",
       "      <td>4</td>\n",
       "    </tr>\n",
       "    <tr>\n",
       "      <th>5</th>\n",
       "      <td>16</td>\n",
       "    </tr>\n",
       "    <tr>\n",
       "      <th rowspan=\"2\" valign=\"top\">IT</th>\n",
       "      <th>6</th>\n",
       "      <td>36</td>\n",
       "    </tr>\n",
       "    <tr>\n",
       "      <th>7</th>\n",
       "      <td>64</td>\n",
       "    </tr>\n",
       "    <tr>\n",
       "      <th rowspan=\"3\" valign=\"top\">Sales</th>\n",
       "      <th>0</th>\n",
       "      <td>4</td>\n",
       "    </tr>\n",
       "    <tr>\n",
       "      <th>1</th>\n",
       "      <td>9</td>\n",
       "    </tr>\n",
       "    <tr>\n",
       "      <th>2</th>\n",
       "      <td>25</td>\n",
       "    </tr>\n",
       "  </tbody>\n",
       "</table>\n",
       "</div>"
      ],
      "text/plain": [
       "              Experience\n",
       "Department              \n",
       "HR         3           1\n",
       "           4           4\n",
       "           5          16\n",
       "IT         6          36\n",
       "           7          64\n",
       "Sales      0           4\n",
       "           1           9\n",
       "           2          25"
      ]
     },
     "execution_count": 51,
     "metadata": {},
     "output_type": "execute_result"
    }
   ],
   "source": [
    "def random_fun(x):\n",
    "    return x.mean()**2\n",
    "\n",
    "\n",
    "df['Experience'].apply(random_func) \n",
    "# Error\n",
    "\n",
    "df.groupby('Department')['Experience'].apply(random_func)\n",
    "# Data Series will go, One value for each data series will come back - INdex - Group name - Combined to make a data series\n",
    "\n",
    "df.groupby('Department')[['Experience']].apply(random_func)\n"
   ]
  },
  {
   "cell_type": "code",
   "execution_count": 52,
   "id": "d6272e92",
   "metadata": {},
   "outputs": [
    {
     "data": {
      "text/html": [
       "<div>\n",
       "<style scoped>\n",
       "    .dataframe tbody tr th:only-of-type {\n",
       "        vertical-align: middle;\n",
       "    }\n",
       "\n",
       "    .dataframe tbody tr th {\n",
       "        vertical-align: top;\n",
       "    }\n",
       "\n",
       "    .dataframe thead th {\n",
       "        text-align: right;\n",
       "    }\n",
       "</style>\n",
       "<table border=\"1\" class=\"dataframe\">\n",
       "  <thead>\n",
       "    <tr style=\"text-align: right;\">\n",
       "      <th></th>\n",
       "      <th>Department</th>\n",
       "      <th>Employee</th>\n",
       "      <th>Salary</th>\n",
       "      <th>Experience</th>\n",
       "    </tr>\n",
       "  </thead>\n",
       "  <tbody>\n",
       "    <tr>\n",
       "      <th>0</th>\n",
       "      <td>Sales</td>\n",
       "      <td>A</td>\n",
       "      <td>50000</td>\n",
       "      <td>2</td>\n",
       "    </tr>\n",
       "    <tr>\n",
       "      <th>1</th>\n",
       "      <td>Sales</td>\n",
       "      <td>B</td>\n",
       "      <td>55000</td>\n",
       "      <td>3</td>\n",
       "    </tr>\n",
       "    <tr>\n",
       "      <th>2</th>\n",
       "      <td>Sales</td>\n",
       "      <td>C</td>\n",
       "      <td>60000</td>\n",
       "      <td>5</td>\n",
       "    </tr>\n",
       "    <tr>\n",
       "      <th>3</th>\n",
       "      <td>HR</td>\n",
       "      <td>D</td>\n",
       "      <td>48000</td>\n",
       "      <td>1</td>\n",
       "    </tr>\n",
       "    <tr>\n",
       "      <th>4</th>\n",
       "      <td>HR</td>\n",
       "      <td>E</td>\n",
       "      <td>50000</td>\n",
       "      <td>2</td>\n",
       "    </tr>\n",
       "    <tr>\n",
       "      <th>5</th>\n",
       "      <td>HR</td>\n",
       "      <td>F</td>\n",
       "      <td>52000</td>\n",
       "      <td>4</td>\n",
       "    </tr>\n",
       "    <tr>\n",
       "      <th>6</th>\n",
       "      <td>IT</td>\n",
       "      <td>G</td>\n",
       "      <td>70000</td>\n",
       "      <td>6</td>\n",
       "    </tr>\n",
       "    <tr>\n",
       "      <th>7</th>\n",
       "      <td>IT</td>\n",
       "      <td>H</td>\n",
       "      <td>72000</td>\n",
       "      <td>8</td>\n",
       "    </tr>\n",
       "  </tbody>\n",
       "</table>\n",
       "</div>"
      ],
      "text/plain": [
       "  Department Employee  Salary  Experience\n",
       "0      Sales        A   50000           2\n",
       "1      Sales        B   55000           3\n",
       "2      Sales        C   60000           5\n",
       "3         HR        D   48000           1\n",
       "4         HR        E   50000           2\n",
       "5         HR        F   52000           4\n",
       "6         IT        G   70000           6\n",
       "7         IT        H   72000           8"
      ]
     },
     "execution_count": 52,
     "metadata": {},
     "output_type": "execute_result"
    }
   ],
   "source": [
    "df"
   ]
  },
  {
   "cell_type": "code",
   "execution_count": 53,
   "id": "cda128f6",
   "metadata": {},
   "outputs": [
    {
     "data": {
      "text/plain": [
       "0     4\n",
       "1     9\n",
       "2    25\n",
       "3     1\n",
       "4     4\n",
       "5    16\n",
       "6    36\n",
       "7    64\n",
       "dtype: int64"
      ]
     },
     "execution_count": 53,
     "metadata": {},
     "output_type": "execute_result"
    }
   ],
   "source": [
    "def random_func(x):\n",
    "    return x['Experience']**2\n",
    "    \n",
    "df.apply(random_func, axis = 1)"
   ]
  },
  {
   "cell_type": "code",
   "execution_count": 54,
   "id": "8b71e6d3",
   "metadata": {},
   "outputs": [],
   "source": [
    "import numpy as np\n",
    "\n",
    "np.random.seed(42)\n",
    "data_large = {\n",
    "    'Department': np.random.choice(['Sales', 'HR', 'IT', 'Finance'], 500),\n",
    "    'Employee_ID': np.arange(1, 501),\n",
    "    'Salary': np.random.randint(40000, 100000, 500),\n",
    "    'Experience': np.random.randint(1, 15, 500),\n",
    "    'Performance_Score': np.random.uniform(1, 5, 500)\n",
    "}\n",
    "\n",
    "df_large = pd.DataFrame(data_large)\n"
   ]
  },
  {
   "cell_type": "code",
   "execution_count": 55,
   "id": "ee278a17",
   "metadata": {},
   "outputs": [
    {
     "data": {
      "text/html": [
       "<div>\n",
       "<style scoped>\n",
       "    .dataframe tbody tr th:only-of-type {\n",
       "        vertical-align: middle;\n",
       "    }\n",
       "\n",
       "    .dataframe tbody tr th {\n",
       "        vertical-align: top;\n",
       "    }\n",
       "\n",
       "    .dataframe thead th {\n",
       "        text-align: right;\n",
       "    }\n",
       "</style>\n",
       "<table border=\"1\" class=\"dataframe\">\n",
       "  <thead>\n",
       "    <tr style=\"text-align: right;\">\n",
       "      <th></th>\n",
       "      <th>Department</th>\n",
       "      <th>Employee_ID</th>\n",
       "      <th>Salary</th>\n",
       "      <th>Experience</th>\n",
       "      <th>Performance_Score</th>\n",
       "    </tr>\n",
       "  </thead>\n",
       "  <tbody>\n",
       "    <tr>\n",
       "      <th>0</th>\n",
       "      <td>IT</td>\n",
       "      <td>1</td>\n",
       "      <td>40190</td>\n",
       "      <td>1</td>\n",
       "      <td>3.305153</td>\n",
       "    </tr>\n",
       "    <tr>\n",
       "      <th>1</th>\n",
       "      <td>Finance</td>\n",
       "      <td>2</td>\n",
       "      <td>50492</td>\n",
       "      <td>11</td>\n",
       "      <td>3.426860</td>\n",
       "    </tr>\n",
       "    <tr>\n",
       "      <th>2</th>\n",
       "      <td>Sales</td>\n",
       "      <td>3</td>\n",
       "      <td>90132</td>\n",
       "      <td>5</td>\n",
       "      <td>2.696523</td>\n",
       "    </tr>\n",
       "    <tr>\n",
       "      <th>3</th>\n",
       "      <td>IT</td>\n",
       "      <td>4</td>\n",
       "      <td>75743</td>\n",
       "      <td>10</td>\n",
       "      <td>3.945777</td>\n",
       "    </tr>\n",
       "    <tr>\n",
       "      <th>4</th>\n",
       "      <td>IT</td>\n",
       "      <td>5</td>\n",
       "      <td>46102</td>\n",
       "      <td>9</td>\n",
       "      <td>4.737468</td>\n",
       "    </tr>\n",
       "    <tr>\n",
       "      <th>...</th>\n",
       "      <td>...</td>\n",
       "      <td>...</td>\n",
       "      <td>...</td>\n",
       "      <td>...</td>\n",
       "      <td>...</td>\n",
       "    </tr>\n",
       "    <tr>\n",
       "      <th>495</th>\n",
       "      <td>IT</td>\n",
       "      <td>496</td>\n",
       "      <td>77892</td>\n",
       "      <td>8</td>\n",
       "      <td>1.418271</td>\n",
       "    </tr>\n",
       "    <tr>\n",
       "      <th>496</th>\n",
       "      <td>IT</td>\n",
       "      <td>497</td>\n",
       "      <td>41015</td>\n",
       "      <td>5</td>\n",
       "      <td>3.545721</td>\n",
       "    </tr>\n",
       "    <tr>\n",
       "      <th>497</th>\n",
       "      <td>Finance</td>\n",
       "      <td>498</td>\n",
       "      <td>99168</td>\n",
       "      <td>8</td>\n",
       "      <td>3.825903</td>\n",
       "    </tr>\n",
       "    <tr>\n",
       "      <th>498</th>\n",
       "      <td>Sales</td>\n",
       "      <td>499</td>\n",
       "      <td>67712</td>\n",
       "      <td>10</td>\n",
       "      <td>1.126345</td>\n",
       "    </tr>\n",
       "    <tr>\n",
       "      <th>499</th>\n",
       "      <td>Finance</td>\n",
       "      <td>500</td>\n",
       "      <td>74961</td>\n",
       "      <td>1</td>\n",
       "      <td>4.744849</td>\n",
       "    </tr>\n",
       "  </tbody>\n",
       "</table>\n",
       "<p>500 rows × 5 columns</p>\n",
       "</div>"
      ],
      "text/plain": [
       "    Department  Employee_ID  Salary  Experience  Performance_Score\n",
       "0           IT            1   40190           1           3.305153\n",
       "1      Finance            2   50492          11           3.426860\n",
       "2        Sales            3   90132           5           2.696523\n",
       "3           IT            4   75743          10           3.945777\n",
       "4           IT            5   46102           9           4.737468\n",
       "..         ...          ...     ...         ...                ...\n",
       "495         IT          496   77892           8           1.418271\n",
       "496         IT          497   41015           5           3.545721\n",
       "497    Finance          498   99168           8           3.825903\n",
       "498      Sales          499   67712          10           1.126345\n",
       "499    Finance          500   74961           1           4.744849\n",
       "\n",
       "[500 rows x 5 columns]"
      ]
     },
     "execution_count": 55,
     "metadata": {},
     "output_type": "execute_result"
    }
   ],
   "source": [
    "df_large"
   ]
  },
  {
   "cell_type": "code",
   "execution_count": 56,
   "id": "7e36ea4b",
   "metadata": {},
   "outputs": [],
   "source": [
    "def adjust_salary(ds):\n",
    "    if(ds.mean()<60000):\n",
    "        return ds*1.1\n",
    "    else:\n",
    "        return ds"
   ]
  },
  {
   "cell_type": "code",
   "execution_count": 57,
   "id": "34672eaf",
   "metadata": {},
   "outputs": [
    {
     "data": {
      "text/plain": [
       "Department     \n",
       "Finance     1      50492\n",
       "            5      90336\n",
       "            14     40569\n",
       "            16     74663\n",
       "            17     91885\n",
       "                   ...  \n",
       "Sales       489    40009\n",
       "            491    98141\n",
       "            492    63793\n",
       "            494    69548\n",
       "            498    67712\n",
       "Name: Salary, Length: 500, dtype: int32"
      ]
     },
     "execution_count": 57,
     "metadata": {},
     "output_type": "execute_result"
    }
   ],
   "source": [
    "#  increase the salary of each employee by 10% if the avg salary of a department is less than 60000\n",
    "df_large.loc[df_large['Department'] == 'IT']['Salary']\n",
    "df_large.groupby('Department')['Salary'].apply(adjust_salary)\n",
    "\n",
    "# When number of values going in and coming back are same, you can use transform instead of apply"
   ]
  },
  {
   "cell_type": "code",
   "execution_count": 58,
   "id": "7d168cef",
   "metadata": {},
   "outputs": [],
   "source": [
    "#  increase the salary of each employee by 10% if the avg Performance_Score of a department is greater than 4"
   ]
  },
  {
   "cell_type": "code",
   "execution_count": 59,
   "id": "3f81d9b7",
   "metadata": {},
   "outputs": [
    {
     "data": {
      "text/html": [
       "<div>\n",
       "<style scoped>\n",
       "    .dataframe tbody tr th:only-of-type {\n",
       "        vertical-align: middle;\n",
       "    }\n",
       "\n",
       "    .dataframe tbody tr th {\n",
       "        vertical-align: top;\n",
       "    }\n",
       "\n",
       "    .dataframe thead th {\n",
       "        text-align: right;\n",
       "    }\n",
       "</style>\n",
       "<table border=\"1\" class=\"dataframe\">\n",
       "  <thead>\n",
       "    <tr style=\"text-align: right;\">\n",
       "      <th></th>\n",
       "      <th>Department</th>\n",
       "      <th>Employee</th>\n",
       "      <th>Salary</th>\n",
       "      <th>Experience</th>\n",
       "    </tr>\n",
       "  </thead>\n",
       "  <tbody>\n",
       "    <tr>\n",
       "      <th>0</th>\n",
       "      <td>Sales</td>\n",
       "      <td>A</td>\n",
       "      <td>50000</td>\n",
       "      <td>2</td>\n",
       "    </tr>\n",
       "    <tr>\n",
       "      <th>1</th>\n",
       "      <td>Sales</td>\n",
       "      <td>B</td>\n",
       "      <td>55000</td>\n",
       "      <td>3</td>\n",
       "    </tr>\n",
       "    <tr>\n",
       "      <th>2</th>\n",
       "      <td>Sales</td>\n",
       "      <td>C</td>\n",
       "      <td>60000</td>\n",
       "      <td>5</td>\n",
       "    </tr>\n",
       "  </tbody>\n",
       "</table>\n",
       "</div>"
      ],
      "text/plain": [
       "  Department Employee  Salary  Experience\n",
       "0      Sales        A   50000           2\n",
       "1      Sales        B   55000           3\n",
       "2      Sales        C   60000           5"
      ]
     },
     "execution_count": 59,
     "metadata": {},
     "output_type": "execute_result"
    }
   ],
   "source": [
    "df.loc[df['Department'] == 'Sales']"
   ]
  },
  {
   "cell_type": "code",
   "execution_count": 60,
   "id": "2a813fd8",
   "metadata": {},
   "outputs": [],
   "source": [
    "def increase_salary(dff):\n",
    "    if(dff['Performance_Score'].mean()>4):\n",
    "        return dff['Salary'] * 1.1\n",
    "    else:\n",
    "        return dff['Salary']"
   ]
  },
  {
   "cell_type": "code",
   "execution_count": 61,
   "id": "ed7ca5c5",
   "metadata": {},
   "outputs": [
    {
     "data": {
      "text/plain": [
       "Department     \n",
       "Finance     1      50492\n",
       "            5      90336\n",
       "            14     40569\n",
       "            16     74663\n",
       "            17     91885\n",
       "                   ...  \n",
       "Sales       489    40009\n",
       "            491    98141\n",
       "            492    63793\n",
       "            494    69548\n",
       "            498    67712\n",
       "Name: Salary, Length: 500, dtype: int32"
      ]
     },
     "execution_count": 61,
     "metadata": {},
     "output_type": "execute_result"
    }
   ],
   "source": [
    "df_large.groupby('Department').apply(increase_salary)"
   ]
  },
  {
   "cell_type": "code",
   "execution_count": 62,
   "id": "6ac9afb3",
   "metadata": {},
   "outputs": [],
   "source": [
    "# apply - \n",
    "# 1. With Data series without grouping\n",
    "# 2. With Data frame with axis without grouping\n",
    "# 3. With grouping and Data series\n",
    "# 4. With grouping and dataframe"
   ]
  },
  {
   "cell_type": "code",
   "execution_count": null,
   "id": "1b0b4663",
   "metadata": {},
   "outputs": [],
   "source": []
  },
  {
   "cell_type": "code",
   "execution_count": 63,
   "id": "9b913f0c",
   "metadata": {},
   "outputs": [
    {
     "data": {
      "text/html": [
       "<div>\n",
       "<style scoped>\n",
       "    .dataframe tbody tr th:only-of-type {\n",
       "        vertical-align: middle;\n",
       "    }\n",
       "\n",
       "    .dataframe tbody tr th {\n",
       "        vertical-align: top;\n",
       "    }\n",
       "\n",
       "    .dataframe thead th {\n",
       "        text-align: right;\n",
       "    }\n",
       "</style>\n",
       "<table border=\"1\" class=\"dataframe\">\n",
       "  <thead>\n",
       "    <tr style=\"text-align: right;\">\n",
       "      <th></th>\n",
       "      <th>Department</th>\n",
       "      <th>Employee</th>\n",
       "      <th>Salary</th>\n",
       "      <th>Experience</th>\n",
       "    </tr>\n",
       "  </thead>\n",
       "  <tbody>\n",
       "    <tr>\n",
       "      <th>0</th>\n",
       "      <td>Sales</td>\n",
       "      <td>A</td>\n",
       "      <td>50000</td>\n",
       "      <td>2</td>\n",
       "    </tr>\n",
       "    <tr>\n",
       "      <th>1</th>\n",
       "      <td>Sales</td>\n",
       "      <td>B</td>\n",
       "      <td>55000</td>\n",
       "      <td>3</td>\n",
       "    </tr>\n",
       "    <tr>\n",
       "      <th>2</th>\n",
       "      <td>Sales</td>\n",
       "      <td>C</td>\n",
       "      <td>60000</td>\n",
       "      <td>5</td>\n",
       "    </tr>\n",
       "  </tbody>\n",
       "</table>\n",
       "</div>"
      ],
      "text/plain": [
       "  Department Employee  Salary  Experience\n",
       "0      Sales        A   50000           2\n",
       "1      Sales        B   55000           3\n",
       "2      Sales        C   60000           5"
      ]
     },
     "execution_count": 63,
     "metadata": {},
     "output_type": "execute_result"
    }
   ],
   "source": [
    "# Question for each Department sample the data keeping only top 2 rows of each department\n",
    "df[df['Department'] == 'Sales']"
   ]
  },
  {
   "cell_type": "code",
   "execution_count": 64,
   "id": "9d8cc8c1",
   "metadata": {},
   "outputs": [],
   "source": [
    "def sample_custom(df):\n",
    "    return df.head(2)"
   ]
  },
  {
   "cell_type": "code",
   "execution_count": 65,
   "id": "c3f08320",
   "metadata": {},
   "outputs": [
    {
     "data": {
      "text/html": [
       "<div>\n",
       "<style scoped>\n",
       "    .dataframe tbody tr th:only-of-type {\n",
       "        vertical-align: middle;\n",
       "    }\n",
       "\n",
       "    .dataframe tbody tr th {\n",
       "        vertical-align: top;\n",
       "    }\n",
       "\n",
       "    .dataframe thead th {\n",
       "        text-align: right;\n",
       "    }\n",
       "</style>\n",
       "<table border=\"1\" class=\"dataframe\">\n",
       "  <thead>\n",
       "    <tr style=\"text-align: right;\">\n",
       "      <th></th>\n",
       "      <th>Department</th>\n",
       "      <th>Employee_ID</th>\n",
       "      <th>Salary</th>\n",
       "      <th>Experience</th>\n",
       "      <th>Performance_Score</th>\n",
       "    </tr>\n",
       "  </thead>\n",
       "  <tbody>\n",
       "    <tr>\n",
       "      <th>0</th>\n",
       "      <td>Finance</td>\n",
       "      <td>2</td>\n",
       "      <td>50492</td>\n",
       "      <td>11</td>\n",
       "      <td>3.426860</td>\n",
       "    </tr>\n",
       "    <tr>\n",
       "      <th>1</th>\n",
       "      <td>Finance</td>\n",
       "      <td>6</td>\n",
       "      <td>90336</td>\n",
       "      <td>6</td>\n",
       "      <td>4.702274</td>\n",
       "    </tr>\n",
       "    <tr>\n",
       "      <th>2</th>\n",
       "      <td>HR</td>\n",
       "      <td>10</td>\n",
       "      <td>66641</td>\n",
       "      <td>13</td>\n",
       "      <td>4.355592</td>\n",
       "    </tr>\n",
       "    <tr>\n",
       "      <th>3</th>\n",
       "      <td>HR</td>\n",
       "      <td>21</td>\n",
       "      <td>47455</td>\n",
       "      <td>5</td>\n",
       "      <td>2.333997</td>\n",
       "    </tr>\n",
       "    <tr>\n",
       "      <th>4</th>\n",
       "      <td>IT</td>\n",
       "      <td>1</td>\n",
       "      <td>40190</td>\n",
       "      <td>1</td>\n",
       "      <td>3.305153</td>\n",
       "    </tr>\n",
       "    <tr>\n",
       "      <th>5</th>\n",
       "      <td>IT</td>\n",
       "      <td>4</td>\n",
       "      <td>75743</td>\n",
       "      <td>10</td>\n",
       "      <td>3.945777</td>\n",
       "    </tr>\n",
       "    <tr>\n",
       "      <th>6</th>\n",
       "      <td>Sales</td>\n",
       "      <td>3</td>\n",
       "      <td>90132</td>\n",
       "      <td>5</td>\n",
       "      <td>2.696523</td>\n",
       "    </tr>\n",
       "    <tr>\n",
       "      <th>7</th>\n",
       "      <td>Sales</td>\n",
       "      <td>7</td>\n",
       "      <td>92479</td>\n",
       "      <td>11</td>\n",
       "      <td>2.803357</td>\n",
       "    </tr>\n",
       "  </tbody>\n",
       "</table>\n",
       "</div>"
      ],
      "text/plain": [
       "  Department  Employee_ID  Salary  Experience  Performance_Score\n",
       "0    Finance            2   50492          11           3.426860\n",
       "1    Finance            6   90336           6           4.702274\n",
       "2         HR           10   66641          13           4.355592\n",
       "3         HR           21   47455           5           2.333997\n",
       "4         IT            1   40190           1           3.305153\n",
       "5         IT            4   75743          10           3.945777\n",
       "6      Sales            3   90132           5           2.696523\n",
       "7      Sales            7   92479          11           2.803357"
      ]
     },
     "execution_count": 65,
     "metadata": {},
     "output_type": "execute_result"
    }
   ],
   "source": [
    "df_large.groupby('Department').apply(sample_custom).reset_index(drop = True)"
   ]
  },
  {
   "cell_type": "code",
   "execution_count": 66,
   "id": "e73574d2",
   "metadata": {},
   "outputs": [],
   "source": [
    "# Random sampling by department\n",
    "def random_grp_sampling(dff):\n",
    "    return dff.sample(2)\n"
   ]
  },
  {
   "cell_type": "code",
   "execution_count": 67,
   "id": "81742062",
   "metadata": {},
   "outputs": [
    {
     "data": {
      "text/html": [
       "<div>\n",
       "<style scoped>\n",
       "    .dataframe tbody tr th:only-of-type {\n",
       "        vertical-align: middle;\n",
       "    }\n",
       "\n",
       "    .dataframe tbody tr th {\n",
       "        vertical-align: top;\n",
       "    }\n",
       "\n",
       "    .dataframe thead th {\n",
       "        text-align: right;\n",
       "    }\n",
       "</style>\n",
       "<table border=\"1\" class=\"dataframe\">\n",
       "  <thead>\n",
       "    <tr style=\"text-align: right;\">\n",
       "      <th></th>\n",
       "      <th></th>\n",
       "      <th>Department</th>\n",
       "      <th>Employee_ID</th>\n",
       "      <th>Salary</th>\n",
       "      <th>Experience</th>\n",
       "      <th>Performance_Score</th>\n",
       "    </tr>\n",
       "    <tr>\n",
       "      <th>Department</th>\n",
       "      <th></th>\n",
       "      <th></th>\n",
       "      <th></th>\n",
       "      <th></th>\n",
       "      <th></th>\n",
       "      <th></th>\n",
       "    </tr>\n",
       "  </thead>\n",
       "  <tbody>\n",
       "    <tr>\n",
       "      <th rowspan=\"2\" valign=\"top\">Finance</th>\n",
       "      <th>339</th>\n",
       "      <td>Finance</td>\n",
       "      <td>340</td>\n",
       "      <td>88136</td>\n",
       "      <td>8</td>\n",
       "      <td>2.391237</td>\n",
       "    </tr>\n",
       "    <tr>\n",
       "      <th>312</th>\n",
       "      <td>Finance</td>\n",
       "      <td>313</td>\n",
       "      <td>96418</td>\n",
       "      <td>5</td>\n",
       "      <td>3.371760</td>\n",
       "    </tr>\n",
       "    <tr>\n",
       "      <th rowspan=\"2\" valign=\"top\">HR</th>\n",
       "      <th>307</th>\n",
       "      <td>HR</td>\n",
       "      <td>308</td>\n",
       "      <td>72307</td>\n",
       "      <td>12</td>\n",
       "      <td>1.615584</td>\n",
       "    </tr>\n",
       "    <tr>\n",
       "      <th>431</th>\n",
       "      <td>HR</td>\n",
       "      <td>432</td>\n",
       "      <td>57640</td>\n",
       "      <td>7</td>\n",
       "      <td>1.124536</td>\n",
       "    </tr>\n",
       "    <tr>\n",
       "      <th rowspan=\"2\" valign=\"top\">IT</th>\n",
       "      <th>167</th>\n",
       "      <td>IT</td>\n",
       "      <td>168</td>\n",
       "      <td>69124</td>\n",
       "      <td>14</td>\n",
       "      <td>2.904202</td>\n",
       "    </tr>\n",
       "    <tr>\n",
       "      <th>459</th>\n",
       "      <td>IT</td>\n",
       "      <td>460</td>\n",
       "      <td>80251</td>\n",
       "      <td>3</td>\n",
       "      <td>4.190236</td>\n",
       "    </tr>\n",
       "    <tr>\n",
       "      <th rowspan=\"2\" valign=\"top\">Sales</th>\n",
       "      <th>336</th>\n",
       "      <td>Sales</td>\n",
       "      <td>337</td>\n",
       "      <td>46801</td>\n",
       "      <td>1</td>\n",
       "      <td>2.922346</td>\n",
       "    </tr>\n",
       "    <tr>\n",
       "      <th>352</th>\n",
       "      <td>Sales</td>\n",
       "      <td>353</td>\n",
       "      <td>63322</td>\n",
       "      <td>8</td>\n",
       "      <td>3.474446</td>\n",
       "    </tr>\n",
       "  </tbody>\n",
       "</table>\n",
       "</div>"
      ],
      "text/plain": [
       "               Department  Employee_ID  Salary  Experience  Performance_Score\n",
       "Department                                                                   \n",
       "Finance    339    Finance          340   88136           8           2.391237\n",
       "           312    Finance          313   96418           5           3.371760\n",
       "HR         307         HR          308   72307          12           1.615584\n",
       "           431         HR          432   57640           7           1.124536\n",
       "IT         167         IT          168   69124          14           2.904202\n",
       "           459         IT          460   80251           3           4.190236\n",
       "Sales      336      Sales          337   46801           1           2.922346\n",
       "           352      Sales          353   63322           8           3.474446"
      ]
     },
     "execution_count": 67,
     "metadata": {},
     "output_type": "execute_result"
    }
   ],
   "source": [
    "df_large.groupby('Department').apply(random_grp_sampling)"
   ]
  },
  {
   "cell_type": "code",
   "execution_count": 68,
   "id": "cd052e20",
   "metadata": {},
   "outputs": [
    {
     "data": {
      "text/plain": [
       "50000.0"
      ]
     },
     "execution_count": 68,
     "metadata": {},
     "output_type": "execute_result"
    }
   ],
   "source": [
    "# iqr = q3-q1\n",
    "\n",
    "# Cap outliers group wise - i.e the values which are above 1.5*IQR, then cap it to 1.5*IQR\n",
    "df['Salary'].quantile(0.25)"
   ]
  },
  {
   "cell_type": "code",
   "execution_count": 69,
   "id": "fd4991f8",
   "metadata": {},
   "outputs": [],
   "source": [
    "def cap_groupwise(ds):\n",
    "    IQR = ds.quantile(0.75) - ds.quantile(0.25)\n",
    "    ds[ds>1.5*IQR] = 1.5*IQR \n",
    "    return ds"
   ]
  },
  {
   "cell_type": "code",
   "execution_count": 70,
   "id": "d2463563",
   "metadata": {},
   "outputs": [
    {
     "name": "stderr",
     "output_type": "stream",
     "text": [
      "C:\\Users\\Prajwal Wadhai\\AppData\\Local\\Temp\\ipykernel_13332\\1950000201.py:3: FutureWarning: Setting an item of incompatible dtype is deprecated and will raise in a future error of pandas. Value '49908.375' has dtype incompatible with int32, please explicitly cast to a compatible dtype first.\n",
      "  ds[ds>1.5*IQR] = 1.5*IQR\n",
      "C:\\Users\\Prajwal Wadhai\\AppData\\Local\\Temp\\ipykernel_13332\\1950000201.py:3: FutureWarning: Setting an item of incompatible dtype is deprecated and will raise in a future error of pandas. Value '40079.25' has dtype incompatible with int32, please explicitly cast to a compatible dtype first.\n",
      "  ds[ds>1.5*IQR] = 1.5*IQR\n",
      "C:\\Users\\Prajwal Wadhai\\AppData\\Local\\Temp\\ipykernel_13332\\1950000201.py:3: FutureWarning: Setting an item of incompatible dtype is deprecated and will raise in a future error of pandas. Value '44052.375' has dtype incompatible with int32, please explicitly cast to a compatible dtype first.\n",
      "  ds[ds>1.5*IQR] = 1.5*IQR\n",
      "C:\\Users\\Prajwal Wadhai\\AppData\\Local\\Temp\\ipykernel_13332\\1950000201.py:3: FutureWarning: Setting an item of incompatible dtype is deprecated and will raise in a future error of pandas. Value '35517.375' has dtype incompatible with int32, please explicitly cast to a compatible dtype first.\n",
      "  ds[ds>1.5*IQR] = 1.5*IQR\n"
     ]
    },
    {
     "data": {
      "text/plain": [
       "Department     \n",
       "Finance     1      49908.375\n",
       "            5      49908.375\n",
       "            14     40569.000\n",
       "            16     49908.375\n",
       "            17     49908.375\n",
       "                     ...    \n",
       "Sales       489    35517.375\n",
       "            491    35517.375\n",
       "            492    35517.375\n",
       "            494    35517.375\n",
       "            498    35517.375\n",
       "Name: Salary, Length: 500, dtype: float64"
      ]
     },
     "execution_count": 70,
     "metadata": {},
     "output_type": "execute_result"
    }
   ],
   "source": [
    "df_large.groupby('Department')['Salary'].apply(cap_groupwise)"
   ]
  },
  {
   "cell_type": "code",
   "execution_count": 71,
   "id": "b8dfea06",
   "metadata": {},
   "outputs": [
    {
     "data": {
      "text/html": [
       "<div>\n",
       "<style scoped>\n",
       "    .dataframe tbody tr th:only-of-type {\n",
       "        vertical-align: middle;\n",
       "    }\n",
       "\n",
       "    .dataframe tbody tr th {\n",
       "        vertical-align: top;\n",
       "    }\n",
       "\n",
       "    .dataframe thead th {\n",
       "        text-align: right;\n",
       "    }\n",
       "</style>\n",
       "<table border=\"1\" class=\"dataframe\">\n",
       "  <thead>\n",
       "    <tr style=\"text-align: right;\">\n",
       "      <th></th>\n",
       "      <th>Department</th>\n",
       "      <th>Employee</th>\n",
       "      <th>Salary</th>\n",
       "      <th>Experience</th>\n",
       "    </tr>\n",
       "  </thead>\n",
       "  <tbody>\n",
       "    <tr>\n",
       "      <th>0</th>\n",
       "      <td>Sales</td>\n",
       "      <td>A</td>\n",
       "      <td>50000</td>\n",
       "      <td>2</td>\n",
       "    </tr>\n",
       "    <tr>\n",
       "      <th>1</th>\n",
       "      <td>Sales</td>\n",
       "      <td>B</td>\n",
       "      <td>55000</td>\n",
       "      <td>3</td>\n",
       "    </tr>\n",
       "    <tr>\n",
       "      <th>2</th>\n",
       "      <td>Sales</td>\n",
       "      <td>C</td>\n",
       "      <td>60000</td>\n",
       "      <td>5</td>\n",
       "    </tr>\n",
       "  </tbody>\n",
       "</table>\n",
       "</div>"
      ],
      "text/plain": [
       "  Department Employee  Salary  Experience\n",
       "0      Sales        A   50000           2\n",
       "1      Sales        B   55000           3\n",
       "2      Sales        C   60000           5"
      ]
     },
     "execution_count": 71,
     "metadata": {},
     "output_type": "execute_result"
    }
   ],
   "source": [
    "df[df['Department'] == 'Sales']"
   ]
  },
  {
   "cell_type": "code",
   "execution_count": 72,
   "id": "f6bcd95c",
   "metadata": {},
   "outputs": [],
   "source": [
    "def cap_outliers(gr):\n",
    "    Q1 = gr.quantile(0.25)\n",
    "    Q3 = gr.quantile(0.75)\n",
    "    IQR = Q3 - Q1\n",
    "    cap = 1.5 * IQR\n",
    "    gr[gr > cap] = cap \n",
    "    return gr "
   ]
  },
  {
   "cell_type": "code",
   "execution_count": 73,
   "id": "772cf071",
   "metadata": {},
   "outputs": [
    {
     "name": "stderr",
     "output_type": "stream",
     "text": [
      "C:\\Users\\Prajwal Wadhai\\AppData\\Local\\Temp\\ipykernel_13332\\1148683531.py:6: FutureWarning: Setting an item of incompatible dtype is deprecated and will raise in a future error of pandas. Value '49908.375' has dtype incompatible with int32, please explicitly cast to a compatible dtype first.\n",
      "  gr[gr > cap] = cap\n",
      "C:\\Users\\Prajwal Wadhai\\AppData\\Local\\Temp\\ipykernel_13332\\1148683531.py:6: FutureWarning: Setting an item of incompatible dtype is deprecated and will raise in a future error of pandas. Value '40079.25' has dtype incompatible with int32, please explicitly cast to a compatible dtype first.\n",
      "  gr[gr > cap] = cap\n",
      "C:\\Users\\Prajwal Wadhai\\AppData\\Local\\Temp\\ipykernel_13332\\1148683531.py:6: FutureWarning: Setting an item of incompatible dtype is deprecated and will raise in a future error of pandas. Value '44052.375' has dtype incompatible with int32, please explicitly cast to a compatible dtype first.\n",
      "  gr[gr > cap] = cap\n",
      "C:\\Users\\Prajwal Wadhai\\AppData\\Local\\Temp\\ipykernel_13332\\1148683531.py:6: FutureWarning: Setting an item of incompatible dtype is deprecated and will raise in a future error of pandas. Value '35517.375' has dtype incompatible with int32, please explicitly cast to a compatible dtype first.\n",
      "  gr[gr > cap] = cap\n"
     ]
    },
    {
     "data": {
      "text/plain": [
       "Department     \n",
       "Finance     1      49908.375\n",
       "            5      49908.375\n",
       "            14     40569.000\n",
       "            16     49908.375\n",
       "            17     49908.375\n",
       "                     ...    \n",
       "Sales       489    35517.375\n",
       "            491    35517.375\n",
       "            492    35517.375\n",
       "            494    35517.375\n",
       "            498    35517.375\n",
       "Name: Salary, Length: 500, dtype: float64"
      ]
     },
     "execution_count": 73,
     "metadata": {},
     "output_type": "execute_result"
    }
   ],
   "source": [
    "df_large.groupby(['Department'])['Salary'].apply(cap_outliers)"
   ]
  },
  {
   "cell_type": "code",
   "execution_count": 74,
   "id": "294e367c",
   "metadata": {},
   "outputs": [],
   "source": [
    "def cap_outliers(dff):\n",
    "    capiqr = (dff['Salary'].quantile(0.75) - dff['Salary'].quantile(0.25))*1.5\n",
    "    dff.loc[dff['Salary']>capiqr, 'Salary'] =  capiqr\n",
    "    return dff['Salary']"
   ]
  },
  {
   "cell_type": "code",
   "execution_count": 75,
   "id": "c9cafde1",
   "metadata": {},
   "outputs": [
    {
     "name": "stderr",
     "output_type": "stream",
     "text": [
      "C:\\Users\\Prajwal Wadhai\\AppData\\Local\\Temp\\ipykernel_13332\\1401731004.py:3: FutureWarning: Setting an item of incompatible dtype is deprecated and will raise in a future error of pandas. Value '49908.375' has dtype incompatible with int32, please explicitly cast to a compatible dtype first.\n",
      "  dff.loc[dff['Salary']>capiqr, 'Salary'] =  capiqr\n",
      "C:\\Users\\Prajwal Wadhai\\AppData\\Local\\Temp\\ipykernel_13332\\1401731004.py:3: FutureWarning: Setting an item of incompatible dtype is deprecated and will raise in a future error of pandas. Value '40079.25' has dtype incompatible with int32, please explicitly cast to a compatible dtype first.\n",
      "  dff.loc[dff['Salary']>capiqr, 'Salary'] =  capiqr\n",
      "C:\\Users\\Prajwal Wadhai\\AppData\\Local\\Temp\\ipykernel_13332\\1401731004.py:3: FutureWarning: Setting an item of incompatible dtype is deprecated and will raise in a future error of pandas. Value '44052.375' has dtype incompatible with int32, please explicitly cast to a compatible dtype first.\n",
      "  dff.loc[dff['Salary']>capiqr, 'Salary'] =  capiqr\n",
      "C:\\Users\\Prajwal Wadhai\\AppData\\Local\\Temp\\ipykernel_13332\\1401731004.py:3: FutureWarning: Setting an item of incompatible dtype is deprecated and will raise in a future error of pandas. Value '35517.375' has dtype incompatible with int32, please explicitly cast to a compatible dtype first.\n",
      "  dff.loc[dff['Salary']>capiqr, 'Salary'] =  capiqr\n"
     ]
    },
    {
     "data": {
      "text/plain": [
       "Department     \n",
       "Finance     1      49908.375\n",
       "            5      49908.375\n",
       "            14     40569.000\n",
       "            16     49908.375\n",
       "            17     49908.375\n",
       "                     ...    \n",
       "Sales       489    35517.375\n",
       "            491    35517.375\n",
       "            492    35517.375\n",
       "            494    35517.375\n",
       "            498    35517.375\n",
       "Name: Salary, Length: 500, dtype: float64"
      ]
     },
     "execution_count": 75,
     "metadata": {},
     "output_type": "execute_result"
    }
   ],
   "source": [
    "df_large.groupby('Department').apply(cap_outliers)"
   ]
  },
  {
   "cell_type": "code",
   "execution_count": 76,
   "id": "aebcdc08",
   "metadata": {},
   "outputs": [],
   "source": [
    "def cap_num(ds):\n",
    "    IQR=ds.quantile(0.75) - ds.quantile(0.25)\n",
    "    ds[ds>1.5*IQR] = 1.5*IQR\n",
    "    return ds"
   ]
  },
  {
   "cell_type": "code",
   "execution_count": 77,
   "id": "fa25270c",
   "metadata": {},
   "outputs": [],
   "source": [
    "ds = df.loc[df['Department'] == 'Sales', 'Salary']"
   ]
  },
  {
   "cell_type": "code",
   "execution_count": 78,
   "id": "de05e175",
   "metadata": {},
   "outputs": [
    {
     "data": {
      "text/plain": [
       "0    50000\n",
       "1    55000\n",
       "2    60000\n",
       "Name: Salary, dtype: int64"
      ]
     },
     "execution_count": 78,
     "metadata": {},
     "output_type": "execute_result"
    }
   ],
   "source": [
    "ds"
   ]
  },
  {
   "cell_type": "code",
   "execution_count": 79,
   "id": "c1c1af56",
   "metadata": {},
   "outputs": [],
   "source": [
    "# Wrie a function to return the IQR of each group's Salary"
   ]
  },
  {
   "cell_type": "code",
   "execution_count": 80,
   "id": "910e1f7e",
   "metadata": {},
   "outputs": [],
   "source": [
    "def iqr(ds):\n",
    "    return 1.5*(ds.quantile(0.75) - ds.quantile(0.25))"
   ]
  },
  {
   "cell_type": "code",
   "execution_count": 81,
   "id": "fbfe053f",
   "metadata": {},
   "outputs": [
    {
     "data": {
      "text/plain": [
       "Department\n",
       "Finance    49908.375\n",
       "HR         40079.250\n",
       "IT         44052.375\n",
       "Sales      35517.375\n",
       "Name: Salary, dtype: float64"
      ]
     },
     "execution_count": 81,
     "metadata": {},
     "output_type": "execute_result"
    }
   ],
   "source": [
    "df_large.groupby('Department')['Salary'].apply(iqr)"
   ]
  },
  {
   "cell_type": "code",
   "execution_count": 82,
   "id": "da8d37f2",
   "metadata": {},
   "outputs": [
    {
     "data": {
      "text/html": [
       "<div>\n",
       "<style scoped>\n",
       "    .dataframe tbody tr th:only-of-type {\n",
       "        vertical-align: middle;\n",
       "    }\n",
       "\n",
       "    .dataframe tbody tr th {\n",
       "        vertical-align: top;\n",
       "    }\n",
       "\n",
       "    .dataframe thead th {\n",
       "        text-align: right;\n",
       "    }\n",
       "</style>\n",
       "<table border=\"1\" class=\"dataframe\">\n",
       "  <thead>\n",
       "    <tr style=\"text-align: right;\">\n",
       "      <th></th>\n",
       "      <th>salary_mean</th>\n",
       "      <th>salary_iqr</th>\n",
       "    </tr>\n",
       "    <tr>\n",
       "      <th>Department</th>\n",
       "      <th></th>\n",
       "      <th></th>\n",
       "    </tr>\n",
       "  </thead>\n",
       "  <tbody>\n",
       "    <tr>\n",
       "      <th>Finance</th>\n",
       "      <td>71376.040541</td>\n",
       "      <td>49908.375</td>\n",
       "    </tr>\n",
       "    <tr>\n",
       "      <th>HR</th>\n",
       "      <td>71423.009259</td>\n",
       "      <td>40079.250</td>\n",
       "    </tr>\n",
       "    <tr>\n",
       "      <th>IT</th>\n",
       "      <td>66972.557377</td>\n",
       "      <td>44052.375</td>\n",
       "    </tr>\n",
       "    <tr>\n",
       "      <th>Sales</th>\n",
       "      <td>68935.590164</td>\n",
       "      <td>35517.375</td>\n",
       "    </tr>\n",
       "  </tbody>\n",
       "</table>\n",
       "</div>"
      ],
      "text/plain": [
       "             salary_mean  salary_iqr\n",
       "Department                          \n",
       "Finance     71376.040541   49908.375\n",
       "HR          71423.009259   40079.250\n",
       "IT          66972.557377   44052.375\n",
       "Sales       68935.590164   35517.375"
      ]
     },
     "execution_count": 82,
     "metadata": {},
     "output_type": "execute_result"
    }
   ],
   "source": [
    "#another way to solve same question\n",
    "df_large.groupby('Department').agg(salary_mean = ('Salary', 'mean'), salary_iqr = ('Salary', iqr))"
   ]
  },
  {
   "cell_type": "code",
   "execution_count": 83,
   "id": "b067ce4c",
   "metadata": {},
   "outputs": [],
   "source": [
    "## Date time functions"
   ]
  },
  {
   "cell_type": "code",
   "execution_count": 84,
   "id": "312b4e05",
   "metadata": {},
   "outputs": [
    {
     "data": {
      "text/html": [
       "<div>\n",
       "<style scoped>\n",
       "    .dataframe tbody tr th:only-of-type {\n",
       "        vertical-align: middle;\n",
       "    }\n",
       "\n",
       "    .dataframe tbody tr th {\n",
       "        vertical-align: top;\n",
       "    }\n",
       "\n",
       "    .dataframe thead th {\n",
       "        text-align: right;\n",
       "    }\n",
       "</style>\n",
       "<table border=\"1\" class=\"dataframe\">\n",
       "  <thead>\n",
       "    <tr style=\"text-align: right;\">\n",
       "      <th></th>\n",
       "      <th>Employee</th>\n",
       "      <th>Department</th>\n",
       "      <th>Join_Date</th>\n",
       "      <th>Last_Promotion</th>\n",
       "      <th>Salary</th>\n",
       "    </tr>\n",
       "  </thead>\n",
       "  <tbody>\n",
       "    <tr>\n",
       "      <th>0</th>\n",
       "      <td>D</td>\n",
       "      <td>Sales</td>\n",
       "      <td>2022-02-06</td>\n",
       "      <td>2022-07-17</td>\n",
       "      <td>78088</td>\n",
       "    </tr>\n",
       "    <tr>\n",
       "      <th>1</th>\n",
       "      <td>E</td>\n",
       "      <td>Sales</td>\n",
       "      <td>2023-11-19</td>\n",
       "      <td>2024-09-08</td>\n",
       "      <td>118752</td>\n",
       "    </tr>\n",
       "    <tr>\n",
       "      <th>2</th>\n",
       "      <td>C</td>\n",
       "      <td>IT</td>\n",
       "      <td>2024-05-12</td>\n",
       "      <td>2022-03-20</td>\n",
       "      <td>95284</td>\n",
       "    </tr>\n",
       "    <tr>\n",
       "      <th>3</th>\n",
       "      <td>E</td>\n",
       "      <td>IT</td>\n",
       "      <td>2022-09-11</td>\n",
       "      <td>2023-10-22</td>\n",
       "      <td>97043</td>\n",
       "    </tr>\n",
       "    <tr>\n",
       "      <th>4</th>\n",
       "      <td>E</td>\n",
       "      <td>HR</td>\n",
       "      <td>2022-06-12</td>\n",
       "      <td>2022-11-13</td>\n",
       "      <td>75547</td>\n",
       "    </tr>\n",
       "  </tbody>\n",
       "</table>\n",
       "</div>"
      ],
      "text/plain": [
       "  Employee Department  Join_Date Last_Promotion  Salary\n",
       "0        D      Sales 2022-02-06     2022-07-17   78088\n",
       "1        E      Sales 2023-11-19     2024-09-08  118752\n",
       "2        C         IT 2024-05-12     2022-03-20   95284\n",
       "3        E         IT 2022-09-11     2023-10-22   97043\n",
       "4        E         HR 2022-06-12     2022-11-13   75547"
      ]
     },
     "execution_count": 84,
     "metadata": {},
     "output_type": "execute_result"
    }
   ],
   "source": [
    "import pandas as pd\n",
    "import numpy as np\n",
    "\n",
    "# Creating a DataFrame with random dates\n",
    "np.random.seed(42)\n",
    "date_rng = pd.date_range(start='2022-01-01', end='2024-12-31', freq='W')\n",
    "\n",
    "df = pd.DataFrame({\n",
    "    'Employee': np.random.choice(['A', 'B', 'C', 'D', 'E'], size=len(date_rng)),\n",
    "    'Department': np.random.choice(['Sales', 'HR', 'IT'], size=len(date_rng)),\n",
    "    'Join_Date': np.random.choice(date_rng, size=len(date_rng)),\n",
    "    'Last_Promotion': np.random.choice(date_rng, size=len(date_rng)),\n",
    "    'Salary': np.random.randint(40000, 120000, size=len(date_rng))\n",
    "})\n",
    "\n",
    "# Converting date columns to datetime\n",
    "df['Join_Date'] = pd.to_datetime(df['Join_Date'])\n",
    "df['Last_Promotion'] = pd.to_datetime(df['Last_Promotion'])\n",
    "\n",
    "df.head()\n"
   ]
  },
  {
   "cell_type": "code",
   "execution_count": 85,
   "id": "058f2771",
   "metadata": {},
   "outputs": [
    {
     "data": {
      "text/plain": [
       "Employee                  object\n",
       "Department                object\n",
       "Join_Date         datetime64[ns]\n",
       "Last_Promotion    datetime64[ns]\n",
       "Salary                     int32\n",
       "dtype: object"
      ]
     },
     "execution_count": 85,
     "metadata": {},
     "output_type": "execute_result"
    }
   ],
   "source": [
    "df.dtypes"
   ]
  },
  {
   "cell_type": "code",
   "execution_count": 86,
   "id": "62de001e",
   "metadata": {},
   "outputs": [
    {
     "data": {
      "text/plain": [
       "0      2022\n",
       "1      2023\n",
       "2      2024\n",
       "3      2022\n",
       "4      2022\n",
       "       ... \n",
       "152    2023\n",
       "153    2023\n",
       "154    2023\n",
       "155    2022\n",
       "156    2022\n",
       "Name: Join_Date, Length: 157, dtype: int32"
      ]
     },
     "execution_count": 86,
     "metadata": {},
     "output_type": "execute_result"
    }
   ],
   "source": [
    "df['Join_Date'].dt.year"
   ]
  },
  {
   "cell_type": "code",
   "execution_count": 87,
   "id": "b3cbfde9",
   "metadata": {},
   "outputs": [
    {
     "data": {
      "text/plain": [
       "0       2\n",
       "1      11\n",
       "2       5\n",
       "3       9\n",
       "4       6\n",
       "       ..\n",
       "152     4\n",
       "153     3\n",
       "154     5\n",
       "155    10\n",
       "156    10\n",
       "Name: Join_Date, Length: 157, dtype: int32"
      ]
     },
     "execution_count": 87,
     "metadata": {},
     "output_type": "execute_result"
    }
   ],
   "source": [
    "df['Join_Date'].dt.month"
   ]
  },
  {
   "cell_type": "code",
   "execution_count": 88,
   "id": "a96409a4",
   "metadata": {},
   "outputs": [
    {
     "data": {
      "text/plain": [
       "0       6\n",
       "1      19\n",
       "2      12\n",
       "3      11\n",
       "4      12\n",
       "       ..\n",
       "152     9\n",
       "153    26\n",
       "154    28\n",
       "155    23\n",
       "156    30\n",
       "Name: Join_Date, Length: 157, dtype: int32"
      ]
     },
     "execution_count": 88,
     "metadata": {},
     "output_type": "execute_result"
    }
   ],
   "source": [
    "df['Join_Date'].dt.day"
   ]
  },
  {
   "cell_type": "code",
   "execution_count": 89,
   "id": "56ce274f",
   "metadata": {},
   "outputs": [
    {
     "data": {
      "text/plain": [
       "0      Sunday\n",
       "1      Sunday\n",
       "2      Sunday\n",
       "3      Sunday\n",
       "4      Sunday\n",
       "        ...  \n",
       "152    Sunday\n",
       "153    Sunday\n",
       "154    Sunday\n",
       "155    Sunday\n",
       "156    Sunday\n",
       "Name: Join_Date, Length: 157, dtype: object"
      ]
     },
     "execution_count": 89,
     "metadata": {},
     "output_type": "execute_result"
    }
   ],
   "source": [
    "# If you want Name of the day\n",
    "df['Join_Date'].dt.day_name()"
   ]
  },
  {
   "cell_type": "code",
   "execution_count": 90,
   "id": "8aa49903",
   "metadata": {},
   "outputs": [
    {
     "data": {
      "text/plain": [
       "0      161\n",
       "1      294\n",
       "2     -784\n",
       "3      406\n",
       "4      154\n",
       "      ... \n",
       "152   -273\n",
       "153    252\n",
       "154   -231\n",
       "155    784\n",
       "156    707\n",
       "Length: 157, dtype: int64"
      ]
     },
     "execution_count": 90,
     "metadata": {},
     "output_type": "execute_result"
    }
   ],
   "source": [
    "# Arithematic operations between dates\n",
    "# Difference between Last promotion date and join date\n",
    "(df['Last_Promotion'] - df['Join_Date'])\n",
    "# THe data type of above is not integer - type is time delta\n",
    "# To convert it to integer\n",
    "(df['Last_Promotion'] - df['Join_Date']).dt.days"
   ]
  },
  {
   "cell_type": "code",
   "execution_count": 91,
   "id": "14441370",
   "metadata": {},
   "outputs": [
    {
     "data": {
      "text/plain": [
       "0       5\n",
       "1      10\n",
       "2     -26\n",
       "3      13\n",
       "4       5\n",
       "       ..\n",
       "152    -9\n",
       "153     9\n",
       "154    -7\n",
       "155    26\n",
       "156    24\n",
       "Length: 157, dtype: int64"
      ]
     },
     "execution_count": 91,
     "metadata": {},
     "output_type": "execute_result"
    }
   ],
   "source": [
    "# Finding the gap in months year and days\n",
    "(df['Last_Promotion'].dt.to_period('M') - df['Join_Date'].dt.to_period('M')).apply(lambda x: x.n)"
   ]
  },
  {
   "cell_type": "code",
   "execution_count": 92,
   "id": "ea30e4de",
   "metadata": {},
   "outputs": [
    {
     "data": {
      "text/plain": [
       "0           July\n",
       "1      September\n",
       "2          March\n",
       "3        October\n",
       "4       November\n",
       "         ...    \n",
       "152         July\n",
       "153     December\n",
       "154      October\n",
       "155     December\n",
       "156      October\n",
       "Name: Last_Promotion, Length: 157, dtype: object"
      ]
     },
     "execution_count": 92,
     "metadata": {},
     "output_type": "execute_result"
    }
   ],
   "source": [
    "df['Last_Promotion'].dt.month_name()"
   ]
  },
  {
   "cell_type": "code",
   "execution_count": 93,
   "id": "ddc59c6a",
   "metadata": {},
   "outputs": [
    {
     "data": {
      "text/plain": [
       "0       Sunday,February,2022\n",
       "1       Sunday,November,2023\n",
       "2            Sunday,May,2024\n",
       "3      Sunday,September,2022\n",
       "4           Sunday,June,2022\n",
       "               ...          \n",
       "152        Sunday,April,2023\n",
       "153        Sunday,March,2023\n",
       "154          Sunday,May,2023\n",
       "155      Sunday,October,2022\n",
       "156      Sunday,October,2022\n",
       "Name: Join_Date, Length: 157, dtype: object"
      ]
     },
     "execution_count": 93,
     "metadata": {},
     "output_type": "execute_result"
    }
   ],
   "source": [
    "# Changing the format of Date\n",
    "df['Join_Date'].dt.strftime('%A,%B,%Y')"
   ]
  },
  {
   "cell_type": "code",
   "execution_count": 94,
   "id": "80900f97",
   "metadata": {},
   "outputs": [
    {
     "data": {
      "text/html": [
       "<div>\n",
       "<style scoped>\n",
       "    .dataframe tbody tr th:only-of-type {\n",
       "        vertical-align: middle;\n",
       "    }\n",
       "\n",
       "    .dataframe tbody tr th {\n",
       "        vertical-align: top;\n",
       "    }\n",
       "\n",
       "    .dataframe thead th {\n",
       "        text-align: right;\n",
       "    }\n",
       "</style>\n",
       "<table border=\"1\" class=\"dataframe\">\n",
       "  <thead>\n",
       "    <tr style=\"text-align: right;\">\n",
       "      <th></th>\n",
       "      <th>Employee</th>\n",
       "      <th>Department</th>\n",
       "      <th>Join_Date</th>\n",
       "      <th>Last_Promotion</th>\n",
       "      <th>Salary</th>\n",
       "    </tr>\n",
       "  </thead>\n",
       "  <tbody>\n",
       "    <tr>\n",
       "      <th>0</th>\n",
       "      <td>D</td>\n",
       "      <td>Sales</td>\n",
       "      <td>2022-02-06</td>\n",
       "      <td>2022-07-17</td>\n",
       "      <td>78088</td>\n",
       "    </tr>\n",
       "    <tr>\n",
       "      <th>1</th>\n",
       "      <td>E</td>\n",
       "      <td>Sales</td>\n",
       "      <td>2023-11-19</td>\n",
       "      <td>2024-09-08</td>\n",
       "      <td>118752</td>\n",
       "    </tr>\n",
       "    <tr>\n",
       "      <th>2</th>\n",
       "      <td>C</td>\n",
       "      <td>IT</td>\n",
       "      <td>2024-05-12</td>\n",
       "      <td>2022-03-20</td>\n",
       "      <td>95284</td>\n",
       "    </tr>\n",
       "    <tr>\n",
       "      <th>3</th>\n",
       "      <td>E</td>\n",
       "      <td>IT</td>\n",
       "      <td>2022-09-11</td>\n",
       "      <td>2023-10-22</td>\n",
       "      <td>97043</td>\n",
       "    </tr>\n",
       "    <tr>\n",
       "      <th>4</th>\n",
       "      <td>E</td>\n",
       "      <td>HR</td>\n",
       "      <td>2022-06-12</td>\n",
       "      <td>2022-11-13</td>\n",
       "      <td>75547</td>\n",
       "    </tr>\n",
       "    <tr>\n",
       "      <th>...</th>\n",
       "      <td>...</td>\n",
       "      <td>...</td>\n",
       "      <td>...</td>\n",
       "      <td>...</td>\n",
       "      <td>...</td>\n",
       "    </tr>\n",
       "    <tr>\n",
       "      <th>152</th>\n",
       "      <td>A</td>\n",
       "      <td>Sales</td>\n",
       "      <td>2023-04-09</td>\n",
       "      <td>2022-07-10</td>\n",
       "      <td>104291</td>\n",
       "    </tr>\n",
       "    <tr>\n",
       "      <th>153</th>\n",
       "      <td>A</td>\n",
       "      <td>HR</td>\n",
       "      <td>2023-03-26</td>\n",
       "      <td>2023-12-03</td>\n",
       "      <td>119104</td>\n",
       "    </tr>\n",
       "    <tr>\n",
       "      <th>154</th>\n",
       "      <td>C</td>\n",
       "      <td>Sales</td>\n",
       "      <td>2023-05-28</td>\n",
       "      <td>2022-10-09</td>\n",
       "      <td>99399</td>\n",
       "    </tr>\n",
       "    <tr>\n",
       "      <th>155</th>\n",
       "      <td>A</td>\n",
       "      <td>HR</td>\n",
       "      <td>2022-10-23</td>\n",
       "      <td>2024-12-15</td>\n",
       "      <td>119714</td>\n",
       "    </tr>\n",
       "    <tr>\n",
       "      <th>156</th>\n",
       "      <td>D</td>\n",
       "      <td>Sales</td>\n",
       "      <td>2022-10-30</td>\n",
       "      <td>2024-10-06</td>\n",
       "      <td>90428</td>\n",
       "    </tr>\n",
       "  </tbody>\n",
       "</table>\n",
       "<p>157 rows × 5 columns</p>\n",
       "</div>"
      ],
      "text/plain": [
       "    Employee Department  Join_Date Last_Promotion  Salary\n",
       "0          D      Sales 2022-02-06     2022-07-17   78088\n",
       "1          E      Sales 2023-11-19     2024-09-08  118752\n",
       "2          C         IT 2024-05-12     2022-03-20   95284\n",
       "3          E         IT 2022-09-11     2023-10-22   97043\n",
       "4          E         HR 2022-06-12     2022-11-13   75547\n",
       "..       ...        ...        ...            ...     ...\n",
       "152        A      Sales 2023-04-09     2022-07-10  104291\n",
       "153        A         HR 2023-03-26     2023-12-03  119104\n",
       "154        C      Sales 2023-05-28     2022-10-09   99399\n",
       "155        A         HR 2022-10-23     2024-12-15  119714\n",
       "156        D      Sales 2022-10-30     2024-10-06   90428\n",
       "\n",
       "[157 rows x 5 columns]"
      ]
     },
     "execution_count": 94,
     "metadata": {},
     "output_type": "execute_result"
    }
   ],
   "source": [
    "# FInd the employees where last promotion date was on a weekend\n",
    "lolo = df['Last_Promotion'].dt.day_name().isin(['Sunday', 'Saturday'])\n",
    "df[lolo]"
   ]
  },
  {
   "cell_type": "code",
   "execution_count": 95,
   "id": "bf27f3e8",
   "metadata": {},
   "outputs": [
    {
     "data": {
      "text/plain": [
       "datetime.datetime(2024, 6, 23, 0, 0)"
      ]
     },
     "execution_count": 95,
     "metadata": {},
     "output_type": "execute_result"
    }
   ],
   "source": [
    "# pd.to_datetime\n",
    "# 2022-02-06 -- this is the right format for pandas\n",
    "\n",
    "x = '23-06-2024' \n",
    "# This needs to be converted\n",
    "\n",
    "current_format = '%d-%m-%Y'\n",
    "pd.to_datetime(x, format = current_format).to_pydatetime()\n"
   ]
  },
  {
   "cell_type": "code",
   "execution_count": 96,
   "id": "e704e20b",
   "metadata": {},
   "outputs": [],
   "source": [
    "df = pd.DataFrame({'Date1': ['23-03-2024', '23-04-2025', '24-05-2025']})"
   ]
  },
  {
   "cell_type": "code",
   "execution_count": 97,
   "id": "594a0d0f",
   "metadata": {},
   "outputs": [
    {
     "data": {
      "text/plain": [
       "0     Saturday\n",
       "1    Wednesday\n",
       "2     Saturday\n",
       "Name: Date1, dtype: object"
      ]
     },
     "execution_count": 97,
     "metadata": {},
     "output_type": "execute_result"
    }
   ],
   "source": [
    "pd.to_datetime(df['Date1'], format = current_format).dt.day_name()"
   ]
  },
  {
   "cell_type": "code",
   "execution_count": null,
   "id": "d6e704ab",
   "metadata": {},
   "outputs": [],
   "source": []
  }
 ],
 "metadata": {
  "kernelspec": {
   "display_name": "Python 3 (ipykernel)",
   "language": "python",
   "name": "python3"
  },
  "language_info": {
   "codemirror_mode": {
    "name": "ipython",
    "version": 3
   },
   "file_extension": ".py",
   "mimetype": "text/x-python",
   "name": "python",
   "nbconvert_exporter": "python",
   "pygments_lexer": "ipython3",
   "version": "3.10.7"
  }
 },
 "nbformat": 4,
 "nbformat_minor": 5
}
