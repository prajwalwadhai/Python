{
 "cells": [
  {
   "cell_type": "code",
   "execution_count": 13,
   "id": "6e36c30a-7eb1-4fce-afbb-719d91641717",
   "metadata": {},
   "outputs": [
    {
     "data": {
      "text/plain": [
       "2292450714480"
      ]
     },
     "execution_count": 13,
     "metadata": {},
     "output_type": "execute_result"
    }
   ],
   "source": [
    "str = \"HelloWorld\"\n",
    "id(str)"
   ]
  },
  {
   "cell_type": "code",
   "execution_count": 2,
   "id": "a0712558-4f43-4d8a-84eb-e34228ef0d97",
   "metadata": {},
   "outputs": [
    {
     "data": {
      "text/plain": [
       "'lroW'"
      ]
     },
     "execution_count": 2,
     "metadata": {},
     "output_type": "execute_result"
    }
   ],
   "source": [
    "str[-2:-6:-1]"
   ]
  },
  {
   "cell_type": "code",
   "execution_count": 3,
   "id": "a1c614d8-a896-42a9-95d5-fee18f2cf016",
   "metadata": {},
   "outputs": [
    {
     "ename": "TypeError",
     "evalue": "'str' object does not support item assignment",
     "output_type": "error",
     "traceback": [
      "\u001b[1;31m---------------------------------------------------------------------------\u001b[0m",
      "\u001b[1;31mTypeError\u001b[0m                                 Traceback (most recent call last)",
      "Cell \u001b[1;32mIn[3], line 1\u001b[0m\n\u001b[1;32m----> 1\u001b[0m \u001b[38;5;28;43mstr\u001b[39;49m\u001b[43m[\u001b[49m\u001b[38;5;241;43m1\u001b[39;49m\u001b[43m]\u001b[49m \u001b[38;5;241m=\u001b[39m\u001b[38;5;124m'\u001b[39m\u001b[38;5;124mf\u001b[39m\u001b[38;5;124m'\u001b[39m\n",
      "\u001b[1;31mTypeError\u001b[0m: 'str' object does not support item assignment"
     ]
    }
   ],
   "source": [
    "str[1] ='f'"
   ]
  },
  {
   "cell_type": "code",
   "execution_count": 10,
   "id": "6c95e147-487d-4a68-81e5-ecb3693d7026",
   "metadata": {},
   "outputs": [],
   "source": [
    "str = \"HelloWorld\" + 'g'"
   ]
  },
  {
   "cell_type": "code",
   "execution_count": 12,
   "id": "f2e58825-299c-4b77-addf-f64e8d562dc4",
   "metadata": {},
   "outputs": [
    {
     "name": "stdout",
     "output_type": "stream",
     "text": [
      "HelloWorldg\n"
     ]
    },
    {
     "data": {
      "text/plain": [
       "2292429709040"
      ]
     },
     "execution_count": 12,
     "metadata": {},
     "output_type": "execute_result"
    }
   ],
   "source": [
    "print(str)\n",
    "id(str)"
   ]
  },
  {
   "cell_type": "code",
   "execution_count": 6,
   "id": "4ac0e940-504d-4277-96b7-b5e302c6bcf3",
   "metadata": {},
   "outputs": [
    {
     "data": {
      "text/plain": [
       "2292429709040"
      ]
     },
     "execution_count": 6,
     "metadata": {},
     "output_type": "execute_result"
    }
   ],
   "source": [
    "id(str)"
   ]
  },
  {
   "cell_type": "code",
   "execution_count": 14,
   "id": "748fce2f-21e2-4427-a0fa-7af1c0f472a9",
   "metadata": {},
   "outputs": [],
   "source": [
    "st = str + \"Gameofthrones\""
   ]
  },
  {
   "cell_type": "code",
   "execution_count": 15,
   "id": "29e4e352-a4b9-4bb1-b820-e5fd4cb167f8",
   "metadata": {},
   "outputs": [
    {
     "name": "stdout",
     "output_type": "stream",
     "text": [
      "HelloWorldGameofthrones\n"
     ]
    }
   ],
   "source": [
    "print(st)"
   ]
  },
  {
   "cell_type": "code",
   "execution_count": 16,
   "id": "d12c8ee3-c3e7-419f-88ed-6927d59565bc",
   "metadata": {},
   "outputs": [
    {
     "name": "stdout",
     "output_type": "stream",
     "text": [
      "HelloWorld\n"
     ]
    }
   ],
   "source": [
    "print(str)"
   ]
  },
  {
   "cell_type": "code",
   "execution_count": 17,
   "id": "1b393cc9-10b2-42d5-aeaa-5c7bf1833984",
   "metadata": {},
   "outputs": [
    {
     "data": {
      "text/plain": [
       "'HelloWorld'"
      ]
     },
     "execution_count": 17,
     "metadata": {},
     "output_type": "execute_result"
    }
   ],
   "source": [
    "str"
   ]
  },
  {
   "cell_type": "code",
   "execution_count": 18,
   "id": "0c5640c7-678f-4652-9af0-d05b072ae475",
   "metadata": {},
   "outputs": [],
   "source": [
    "st = \"Hello World\""
   ]
  },
  {
   "cell_type": "code",
   "execution_count": 19,
   "id": "ae07c4b6-493c-44b8-b4a2-bb2731a7e123",
   "metadata": {},
   "outputs": [
    {
     "name": "stdout",
     "output_type": "stream",
     "text": [
      "Hello World\n"
     ]
    }
   ],
   "source": [
    "print(st)"
   ]
  },
  {
   "cell_type": "code",
   "execution_count": 20,
   "id": "e43898f0-2315-4e25-b4d4-6d9a250c5ef7",
   "metadata": {},
   "outputs": [
    {
     "data": {
      "text/plain": [
       "11"
      ]
     },
     "execution_count": 20,
     "metadata": {},
     "output_type": "execute_result"
    }
   ],
   "source": [
    "len(st)"
   ]
  },
  {
   "cell_type": "code",
   "execution_count": 23,
   "id": "0616636d-b39a-4064-982a-570709473147",
   "metadata": {},
   "outputs": [
    {
     "data": {
      "text/plain": [
       "5"
      ]
     },
     "execution_count": 23,
     "metadata": {},
     "output_type": "execute_result"
    }
   ],
   "source": [
    "len(st[4:9])"
   ]
  },
  {
   "cell_type": "code",
   "execution_count": 24,
   "id": "39d54774-f346-48a8-9ba0-e565169ec800",
   "metadata": {},
   "outputs": [
    {
     "data": {
      "text/plain": [
       "'o Wor'"
      ]
     },
     "execution_count": 24,
     "metadata": {},
     "output_type": "execute_result"
    }
   ],
   "source": [
    "st[4:len(st)-2]"
   ]
  },
  {
   "cell_type": "code",
   "execution_count": 25,
   "id": "22bf0725-cb64-4bcc-83f3-4ed34812a49d",
   "metadata": {},
   "outputs": [],
   "source": [
    "name = \"Python\""
   ]
  },
  {
   "cell_type": "code",
   "execution_count": 26,
   "id": "1c941d64-d36d-4989-ae2b-cfa146ee48a3",
   "metadata": {},
   "outputs": [],
   "source": [
    "name = name + \"dfd\""
   ]
  },
  {
   "cell_type": "code",
   "execution_count": 27,
   "id": "57b7e564-35f0-4543-ac1e-548e7fa7e96b",
   "metadata": {},
   "outputs": [
    {
     "name": "stdout",
     "output_type": "stream",
     "text": [
      "Pythondfd\n"
     ]
    }
   ],
   "source": [
    "print(name)"
   ]
  },
  {
   "cell_type": "code",
   "execution_count": 28,
   "id": "30ff161a-5981-42f7-a960-29e564dc24fd",
   "metadata": {},
   "outputs": [
    {
     "data": {
      "text/plain": [
       "'Pythonlove'"
      ]
     },
     "execution_count": 28,
     "metadata": {},
     "output_type": "execute_result"
    }
   ],
   "source": [
    "name.replace(\"dfd\",\"love\")"
   ]
  },
  {
   "cell_type": "code",
   "execution_count": 36,
   "id": "584df692-e865-4553-820a-71cdc2511adb",
   "metadata": {},
   "outputs": [],
   "source": [
    "first = st.find('o')"
   ]
  },
  {
   "cell_type": "code",
   "execution_count": 37,
   "id": "886848ed-1871-445c-aa38-77889ce33141",
   "metadata": {},
   "outputs": [
    {
     "data": {
      "text/plain": [
       "4"
      ]
     },
     "execution_count": 37,
     "metadata": {},
     "output_type": "execute_result"
    }
   ],
   "source": [
    "first"
   ]
  },
  {
   "cell_type": "code",
   "execution_count": 38,
   "id": "f32eaeda-d247-4401-b095-a149478dc4b1",
   "metadata": {},
   "outputs": [
    {
     "data": {
      "text/plain": [
       "7"
      ]
     },
     "execution_count": 38,
     "metadata": {},
     "output_type": "execute_result"
    }
   ],
   "source": [
    "st.find('o',first+1)"
   ]
  },
  {
   "cell_type": "code",
   "execution_count": 40,
   "id": "c2792d6a-7260-447b-bc1f-01e6d6d0164f",
   "metadata": {},
   "outputs": [
    {
     "name": "stdout",
     "output_type": "stream",
     "text": [
      "o W\n"
     ]
    }
   ],
   "source": [
    "print(st[first :st.find('o',first+1)])"
   ]
  },
  {
   "cell_type": "code",
   "execution_count": 43,
   "id": "8aea717c-ace1-4414-bc47-9edf699f1677",
   "metadata": {},
   "outputs": [
    {
     "name": "stdout",
     "output_type": "stream",
     "text": [
      "4\n",
      "7\n"
     ]
    }
   ],
   "source": [
    "string = \"Hello World\"\n",
    "fp= string.find('o')\n",
    "lo= string.find('o', fp+1)\n",
    "print(fp)\n",
    "print(lo)"
   ]
  },
  {
   "cell_type": "code",
   "execution_count": 44,
   "id": "9c9cc147-3394-4f1f-bd6d-23e1c735fcaf",
   "metadata": {},
   "outputs": [
    {
     "name": "stdout",
     "output_type": "stream",
     "text": [
      "o Wo\n"
     ]
    }
   ],
   "source": [
    "print(string[fp:lo+1])"
   ]
  },
  {
   "cell_type": "code",
   "execution_count": 45,
   "id": "7f354f5d-0d20-4edb-970c-104e812b568f",
   "metadata": {},
   "outputs": [
    {
     "data": {
      "text/plain": [
       "32"
      ]
     },
     "execution_count": 45,
     "metadata": {},
     "output_type": "execute_result"
    }
   ],
   "source": [
    "ab = \"adsfasdfodfasdfoasdfaosdfoasdfoaodf\"\n",
    "ab.rfind('o')"
   ]
  },
  {
   "cell_type": "code",
   "execution_count": 46,
   "id": "620e7145-b61f-4ae6-9ba9-d747d818d2df",
   "metadata": {},
   "outputs": [
    {
     "data": {
      "text/plain": [
       "'adsfasdfodfasdfoasdfaosdfoasdfoaodf'"
      ]
     },
     "execution_count": 46,
     "metadata": {},
     "output_type": "execute_result"
    }
   ],
   "source": [
    "ab.strip() #it will remove the white spaces strip function"
   ]
  },
  {
   "cell_type": "code",
   "execution_count": 47,
   "id": "0d3ae824-08c9-4926-a3ae-2335753769ea",
   "metadata": {},
   "outputs": [],
   "source": [
    "st = \"hello.world\""
   ]
  },
  {
   "cell_type": "code",
   "execution_count": 48,
   "id": "5239afd0-6d37-4026-80e9-5ecb4fdfd851",
   "metadata": {},
   "outputs": [
    {
     "data": {
      "text/plain": [
       "['hello', 'world']"
      ]
     },
     "execution_count": 48,
     "metadata": {},
     "output_type": "execute_result"
    }
   ],
   "source": [
    "st.split('.')"
   ]
  },
  {
   "cell_type": "code",
   "execution_count": null,
   "id": "b1fe2f4c-95cb-405d-9c94-28d54b761635",
   "metadata": {},
   "outputs": [],
   "source": []
  }
 ],
 "metadata": {
  "kernelspec": {
   "display_name": "Python 3 (ipykernel)",
   "language": "python",
   "name": "python3"
  },
  "language_info": {
   "codemirror_mode": {
    "name": "ipython",
    "version": 3
   },
   "file_extension": ".py",
   "mimetype": "text/x-python",
   "name": "python",
   "nbconvert_exporter": "python",
   "pygments_lexer": "ipython3",
   "version": "3.10.7"
  }
 },
 "nbformat": 4,
 "nbformat_minor": 5
}
