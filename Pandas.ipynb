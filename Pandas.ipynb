{
 "cells": [
  {
   "cell_type": "code",
   "execution_count": null,
   "id": "a344ebff-a0e4-4625-b6a5-835ed67578d6",
   "metadata": {},
   "outputs": [],
   "source": []
  },
  {
   "cell_type": "code",
   "execution_count": 1,
   "id": "39a280f8-01b5-4eef-bd0c-82e8bea97094",
   "metadata": {},
   "outputs": [],
   "source": [
    "import pandas as pd"
   ]
  },
  {
   "cell_type": "code",
   "execution_count": 2,
   "id": "5927da8f-6975-42f6-bd79-799bb0605345",
   "metadata": {},
   "outputs": [
    {
     "data": {
      "text/plain": [
       "['ArrowDtype',\n",
       " 'BooleanDtype',\n",
       " 'Categorical',\n",
       " 'CategoricalDtype',\n",
       " 'CategoricalIndex',\n",
       " 'DataFrame',\n",
       " 'DateOffset',\n",
       " 'DatetimeIndex',\n",
       " 'DatetimeTZDtype',\n",
       " 'ExcelFile',\n",
       " 'ExcelWriter',\n",
       " 'Flags',\n",
       " 'Float32Dtype',\n",
       " 'Float64Dtype',\n",
       " 'Grouper',\n",
       " 'HDFStore',\n",
       " 'Index',\n",
       " 'IndexSlice',\n",
       " 'Int16Dtype',\n",
       " 'Int32Dtype',\n",
       " 'Int64Dtype',\n",
       " 'Int8Dtype',\n",
       " 'Interval',\n",
       " 'IntervalDtype',\n",
       " 'IntervalIndex',\n",
       " 'MultiIndex',\n",
       " 'NA',\n",
       " 'NaT',\n",
       " 'NamedAgg',\n",
       " 'Period',\n",
       " 'PeriodDtype',\n",
       " 'PeriodIndex',\n",
       " 'RangeIndex',\n",
       " 'Series',\n",
       " 'SparseDtype',\n",
       " 'StringDtype',\n",
       " 'Timedelta',\n",
       " 'TimedeltaIndex',\n",
       " 'Timestamp',\n",
       " 'UInt16Dtype',\n",
       " 'UInt32Dtype',\n",
       " 'UInt64Dtype',\n",
       " 'UInt8Dtype',\n",
       " '__all__',\n",
       " '__builtins__',\n",
       " '__cached__',\n",
       " '__doc__',\n",
       " '__docformat__',\n",
       " '__file__',\n",
       " '__git_version__',\n",
       " '__loader__',\n",
       " '__name__',\n",
       " '__package__',\n",
       " '__path__',\n",
       " '__spec__',\n",
       " '__version__',\n",
       " '_built_with_meson',\n",
       " '_config',\n",
       " '_is_numpy_dev',\n",
       " '_libs',\n",
       " '_pandas_datetime_CAPI',\n",
       " '_pandas_parser_CAPI',\n",
       " '_testing',\n",
       " '_typing',\n",
       " '_version_meson',\n",
       " 'annotations',\n",
       " 'api',\n",
       " 'array',\n",
       " 'arrays',\n",
       " 'bdate_range',\n",
       " 'compat',\n",
       " 'concat',\n",
       " 'core',\n",
       " 'crosstab',\n",
       " 'cut',\n",
       " 'date_range',\n",
       " 'describe_option',\n",
       " 'errors',\n",
       " 'eval',\n",
       " 'factorize',\n",
       " 'from_dummies',\n",
       " 'get_dummies',\n",
       " 'get_option',\n",
       " 'infer_freq',\n",
       " 'interval_range',\n",
       " 'io',\n",
       " 'isna',\n",
       " 'isnull',\n",
       " 'json_normalize',\n",
       " 'lreshape',\n",
       " 'melt',\n",
       " 'merge',\n",
       " 'merge_asof',\n",
       " 'merge_ordered',\n",
       " 'notna',\n",
       " 'notnull',\n",
       " 'offsets',\n",
       " 'option_context',\n",
       " 'options',\n",
       " 'pandas',\n",
       " 'period_range',\n",
       " 'pivot',\n",
       " 'pivot_table',\n",
       " 'plotting',\n",
       " 'qcut',\n",
       " 'read_clipboard',\n",
       " 'read_csv',\n",
       " 'read_excel',\n",
       " 'read_feather',\n",
       " 'read_fwf',\n",
       " 'read_gbq',\n",
       " 'read_hdf',\n",
       " 'read_html',\n",
       " 'read_json',\n",
       " 'read_orc',\n",
       " 'read_parquet',\n",
       " 'read_pickle',\n",
       " 'read_sas',\n",
       " 'read_spss',\n",
       " 'read_sql',\n",
       " 'read_sql_query',\n",
       " 'read_sql_table',\n",
       " 'read_stata',\n",
       " 'read_table',\n",
       " 'read_xml',\n",
       " 'reset_option',\n",
       " 'set_eng_float_format',\n",
       " 'set_option',\n",
       " 'show_versions',\n",
       " 'test',\n",
       " 'testing',\n",
       " 'timedelta_range',\n",
       " 'to_datetime',\n",
       " 'to_numeric',\n",
       " 'to_pickle',\n",
       " 'to_timedelta',\n",
       " 'tseries',\n",
       " 'unique',\n",
       " 'util',\n",
       " 'value_counts',\n",
       " 'wide_to_long']"
      ]
     },
     "execution_count": 2,
     "metadata": {},
     "output_type": "execute_result"
    }
   ],
   "source": [
    "dir(pd)"
   ]
  },
  {
   "cell_type": "code",
   "execution_count": 3,
   "id": "b62d1e69-7f09-437a-a0a6-cc0543b208ef",
   "metadata": {},
   "outputs": [],
   "source": [
    "marks = [34,64,23,53,47,85]\n",
    "name = ['Prjwal' , 'Ashok' , 'Mayur' , 'Diptika']"
   ]
  },
  {
   "cell_type": "code",
   "execution_count": 4,
   "id": "69dfaf2e-0a96-4880-8b24-dfb435e841b6",
   "metadata": {},
   "outputs": [
    {
     "data": {
      "text/plain": [
       "0    34\n",
       "1    64\n",
       "2    23\n",
       "3    53\n",
       "4    47\n",
       "5    85\n",
       "dtype: int64"
      ]
     },
     "execution_count": 4,
     "metadata": {},
     "output_type": "execute_result"
    }
   ],
   "source": [
    "pd.Series(marks)"
   ]
  },
  {
   "cell_type": "code",
   "execution_count": 5,
   "id": "645cf614-82dd-4d7e-8535-5e359c4cb3be",
   "metadata": {},
   "outputs": [],
   "source": [
    "S  = pd.Series([34,64,23,53] , index = ['Prjwal' , 'Ashok' , 'Mayur' , 'Diptika'])"
   ]
  },
  {
   "cell_type": "code",
   "execution_count": 6,
   "id": "46f828e1-cbe9-4986-a4cd-79a4b8051f94",
   "metadata": {},
   "outputs": [
    {
     "data": {
      "text/plain": [
       "Prjwal     34\n",
       "Ashok      64\n",
       "Mayur      23\n",
       "Diptika    53\n",
       "dtype: int64"
      ]
     },
     "execution_count": 6,
     "metadata": {},
     "output_type": "execute_result"
    }
   ],
   "source": [
    "S"
   ]
  },
  {
   "cell_type": "code",
   "execution_count": 7,
   "id": "93c859c3-0e96-4d42-b0a9-51808e6c4773",
   "metadata": {},
   "outputs": [
    {
     "data": {
      "text/plain": [
       "34"
      ]
     },
     "execution_count": 7,
     "metadata": {},
     "output_type": "execute_result"
    }
   ],
   "source": [
    "S['Prjwal']"
   ]
  },
  {
   "cell_type": "code",
   "execution_count": 8,
   "id": "cfb00129-29c4-486f-b805-2c3071cdb159",
   "metadata": {},
   "outputs": [],
   "source": [
    "s = [400,500,600]\n",
    "p = [300,400,500]\n"
   ]
  },
  {
   "cell_type": "code",
   "execution_count": 9,
   "id": "884807ec-dacb-4fba-947f-6a94eafb041b",
   "metadata": {},
   "outputs": [],
   "source": [
    "store = ['store_a' , 'store_b' , 'store_c']"
   ]
  },
  {
   "cell_type": "code",
   "execution_count": 10,
   "id": "a3c57f92-e9a7-4110-b603-f782462ac39f",
   "metadata": {},
   "outputs": [],
   "source": [
    "series1 = pd.Series(s, index=store)"
   ]
  },
  {
   "cell_type": "code",
   "execution_count": 11,
   "id": "b3fa4b06-b9b6-4408-973b-d29ca895fcbd",
   "metadata": {},
   "outputs": [
    {
     "data": {
      "text/plain": [
       "store_a    400\n",
       "store_b    500\n",
       "store_c    600\n",
       "dtype: int64"
      ]
     },
     "execution_count": 11,
     "metadata": {},
     "output_type": "execute_result"
    }
   ],
   "source": [
    "series1"
   ]
  },
  {
   "cell_type": "code",
   "execution_count": 12,
   "id": "c9445797-cf0f-40b4-ad26-e1eda75d1a05",
   "metadata": {},
   "outputs": [],
   "source": [
    "series2 = pd.Series(p , index = store)"
   ]
  },
  {
   "cell_type": "code",
   "execution_count": 13,
   "id": "331d9c87-c438-4898-b523-52f6e4f17eb1",
   "metadata": {},
   "outputs": [
    {
     "data": {
      "text/plain": [
       "store_a    300\n",
       "store_b    400\n",
       "store_c    500\n",
       "dtype: int64"
      ]
     },
     "execution_count": 13,
     "metadata": {},
     "output_type": "execute_result"
    }
   ],
   "source": [
    "series2"
   ]
  },
  {
   "cell_type": "code",
   "execution_count": 14,
   "id": "3021d21c-e6e8-4122-a390-b45b2cc4131f",
   "metadata": {},
   "outputs": [
    {
     "data": {
      "text/plain": [
       "0.75"
      ]
     },
     "execution_count": 14,
     "metadata": {},
     "output_type": "execute_result"
    }
   ],
   "source": [
    "series2['store_a']/series1['store_a']"
   ]
  },
  {
   "cell_type": "code",
   "execution_count": 15,
   "id": "24e2f768-2487-46a6-b319-3852d218261d",
   "metadata": {},
   "outputs": [
    {
     "data": {
      "text/plain": [
       "400"
      ]
     },
     "execution_count": 15,
     "metadata": {},
     "output_type": "execute_result"
    }
   ],
   "source": [
    "series1['store_a']"
   ]
  },
  {
   "cell_type": "code",
   "execution_count": 16,
   "id": "a75cef28-9aaa-4ca8-b94c-9682ba2299b2",
   "metadata": {},
   "outputs": [
    {
     "data": {
      "text/plain": [
       "store_a    400\n",
       "store_b    500\n",
       "dtype: int64"
      ]
     },
     "execution_count": 16,
     "metadata": {},
     "output_type": "execute_result"
    }
   ],
   "source": [
    "series1[:2]"
   ]
  },
  {
   "cell_type": "code",
   "execution_count": 17,
   "id": "239c2747-6b7e-4773-8e48-58183fd3b8c8",
   "metadata": {},
   "outputs": [
    {
     "data": {
      "text/plain": [
       "store_c    600\n",
       "store_b    500\n",
       "store_a    400\n",
       "dtype: int64"
      ]
     },
     "execution_count": 17,
     "metadata": {},
     "output_type": "execute_result"
    }
   ],
   "source": [
    "series1[:-5:-1]"
   ]
  },
  {
   "cell_type": "code",
   "execution_count": 18,
   "id": "8d427dfd-b986-4b39-9fd1-df05d60564c6",
   "metadata": {},
   "outputs": [
    {
     "data": {
      "text/plain": [
       "store_a    400\n",
       "store_b    500\n",
       "store_c    600\n",
       "dtype: int64"
      ]
     },
     "execution_count": 18,
     "metadata": {},
     "output_type": "execute_result"
    }
   ],
   "source": [
    "series1['store_a' : 'store_c']"
   ]
  },
  {
   "cell_type": "code",
   "execution_count": 19,
   "id": "f064a8b6-4ff9-4923-aa6a-b9fc503e639f",
   "metadata": {},
   "outputs": [
    {
     "data": {
      "text/plain": [
       "store_a    400\n",
       "store_b    500\n",
       "store_c    600\n",
       "dtype: int64"
      ]
     },
     "execution_count": 19,
     "metadata": {},
     "output_type": "execute_result"
    }
   ],
   "source": [
    "series1"
   ]
  },
  {
   "cell_type": "code",
   "execution_count": 20,
   "id": "5a593f9a-7396-407a-9e2c-e347963c403c",
   "metadata": {},
   "outputs": [
    {
     "data": {
      "text/plain": [
       "store_a     True\n",
       "store_b     True\n",
       "store_c    False\n",
       "dtype: bool"
      ]
     },
     "execution_count": 20,
     "metadata": {},
     "output_type": "execute_result"
    }
   ],
   "source": [
    "series1<550"
   ]
  },
  {
   "cell_type": "code",
   "execution_count": 21,
   "id": "e9f86912-6618-4ed9-94be-2ffc2705485c",
   "metadata": {},
   "outputs": [],
   "source": [
    "lolo = series1<550"
   ]
  },
  {
   "cell_type": "code",
   "execution_count": 22,
   "id": "c46836dc-5d15-4df9-8443-68c6c74d8193",
   "metadata": {},
   "outputs": [
    {
     "data": {
      "text/plain": [
       "store_a    400\n",
       "store_b    500\n",
       "dtype: int64"
      ]
     },
     "execution_count": 22,
     "metadata": {},
     "output_type": "execute_result"
    }
   ],
   "source": [
    "series1[lolo]"
   ]
  },
  {
   "cell_type": "code",
   "execution_count": 23,
   "id": "43d3a4bb-616f-4dc3-a363-4d0e19888b26",
   "metadata": {},
   "outputs": [],
   "source": [
    "lolo = (series1>450) & (series1<550)"
   ]
  },
  {
   "cell_type": "code",
   "execution_count": 24,
   "id": "1715a2e9-4850-4b21-a2c9-896ae775d501",
   "metadata": {},
   "outputs": [
    {
     "data": {
      "text/plain": [
       "store_a    False\n",
       "store_b     True\n",
       "store_c    False\n",
       "dtype: bool"
      ]
     },
     "execution_count": 24,
     "metadata": {},
     "output_type": "execute_result"
    }
   ],
   "source": [
    "lolo"
   ]
  },
  {
   "cell_type": "code",
   "execution_count": 25,
   "id": "30cf067b-d087-4b71-95ad-6e89cf69d821",
   "metadata": {},
   "outputs": [
    {
     "data": {
      "text/plain": [
       "store_b    500\n",
       "dtype: int64"
      ]
     },
     "execution_count": 25,
     "metadata": {},
     "output_type": "execute_result"
    }
   ],
   "source": [
    "series1[lolo]"
   ]
  },
  {
   "cell_type": "markdown",
   "id": "3086f63c-3408-43ca-a334-4a88cfa148d7",
   "metadata": {},
   "source": [
    "import numpy as np\n"
   ]
  },
  {
   "cell_type": "code",
   "execution_count": null,
   "id": "fdd06fd5-469b-437d-90ea-da4fc789472c",
   "metadata": {},
   "outputs": [],
   "source": []
  },
  {
   "cell_type": "code",
   "execution_count": 26,
   "id": "5875e183-809a-4a27-bf8e-6c5866db7686",
   "metadata": {},
   "outputs": [
    {
     "data": {
      "text/plain": [
       "store_a    400\n",
       "store_b    500\n",
       "store_c    600\n",
       "dtype: int64"
      ]
     },
     "execution_count": 26,
     "metadata": {},
     "output_type": "execute_result"
    }
   ],
   "source": [
    "series1"
   ]
  },
  {
   "cell_type": "code",
   "execution_count": 27,
   "id": "624099e3-6666-4fee-b5b3-f723ef099df9",
   "metadata": {},
   "outputs": [],
   "source": [
    "sum =0\n",
    "for marks in series1:\n",
    "    sum = sum+marks"
   ]
  },
  {
   "cell_type": "code",
   "execution_count": 28,
   "id": "d32866d5-0ef7-4be9-8a00-586cbe7614eb",
   "metadata": {},
   "outputs": [
    {
     "data": {
      "text/plain": [
       "1500"
      ]
     },
     "execution_count": 28,
     "metadata": {},
     "output_type": "execute_result"
    }
   ],
   "source": [
    "sum"
   ]
  },
  {
   "cell_type": "code",
   "execution_count": 29,
   "id": "cb063e89-7724-4448-8ec4-56f0d7b0ee1c",
   "metadata": {},
   "outputs": [
    {
     "data": {
      "text/plain": [
       "500.0"
      ]
     },
     "execution_count": 29,
     "metadata": {},
     "output_type": "execute_result"
    }
   ],
   "source": [
    "avg =0\n",
    "for average in series1:\n",
    "    avg = avg + average\n",
    "avg/len(series1)"
   ]
  },
  {
   "cell_type": "code",
   "execution_count": 30,
   "id": "79522e70-7e14-4674-905f-31c57540c543",
   "metadata": {},
   "outputs": [],
   "source": [
    "# series1.apply(series1>400)"
   ]
  },
  {
   "cell_type": "code",
   "execution_count": 31,
   "id": "5f13cd99-1eca-440c-843f-8053cc71c12a",
   "metadata": {},
   "outputs": [
    {
     "data": {
      "text/plain": [
       "store_a    400\n",
       "store_b    500\n",
       "store_c    600\n",
       "dtype: int64"
      ]
     },
     "execution_count": 31,
     "metadata": {},
     "output_type": "execute_result"
    }
   ],
   "source": [
    "series1"
   ]
  },
  {
   "cell_type": "code",
   "execution_count": 32,
   "id": "80988d25-db8f-4617-ba1f-de222dae7507",
   "metadata": {},
   "outputs": [],
   "source": [
    "rating = pd.Series([1,3,2,4,5,3,5,2,5,2,1])"
   ]
  },
  {
   "cell_type": "code",
   "execution_count": 33,
   "id": "d53d1d80-1b0f-4cb8-9540-2c211f9cd520",
   "metadata": {},
   "outputs": [],
   "source": [
    "def normalize(x):\n",
    "    if(x == 1):\n",
    "        return x*1.3\n",
    "    elif(x==5):\n",
    "        return x*0.8\n",
    "    else:\n",
    "        return x"
   ]
  },
  {
   "cell_type": "code",
   "execution_count": 34,
   "id": "9a449d27-e0b4-42b4-972f-06128609bc5a",
   "metadata": {},
   "outputs": [
    {
     "data": {
      "text/plain": [
       "0     1.3\n",
       "1     3.0\n",
       "2     2.0\n",
       "3     4.0\n",
       "4     4.0\n",
       "5     3.0\n",
       "6     4.0\n",
       "7     2.0\n",
       "8     4.0\n",
       "9     2.0\n",
       "10    1.3\n",
       "dtype: float64"
      ]
     },
     "execution_count": 34,
     "metadata": {},
     "output_type": "execute_result"
    }
   ],
   "source": [
    "rating.apply(normalize)"
   ]
  },
  {
   "cell_type": "code",
   "execution_count": 35,
   "id": "9d99972f-ee31-4694-8f2c-cfc662386ec5",
   "metadata": {},
   "outputs": [],
   "source": [
    "emails = pd.Series(['prajwalwadhai55@gmail.com' , 'ashokwadhai55@gmail.com' , 'gge73783@gmail.com'])"
   ]
  },
  {
   "cell_type": "code",
   "execution_count": 36,
   "id": "fc1190fc-0912-4fa2-92a5-3f9ccf9fb912",
   "metadata": {},
   "outputs": [],
   "source": [
    "def mask(st):\n",
    "    lst = st.split('@')\n",
    "    return lst[0][0] + (len(lst[0])-1)*'*' + lst[1]"
   ]
  },
  {
   "cell_type": "code",
   "execution_count": 37,
   "id": "10bc5ee5-a085-4515-988e-68c0583c5d9a",
   "metadata": {},
   "outputs": [
    {
     "data": {
      "text/plain": [
       "'p**************gmail.com'"
      ]
     },
     "execution_count": 37,
     "metadata": {},
     "output_type": "execute_result"
    }
   ],
   "source": [
    "mask('prajwalwadhai55@gmail.com')"
   ]
  },
  {
   "cell_type": "code",
   "execution_count": 38,
   "id": "8c45ec2b-3a83-415c-b7d5-34d402c8f96c",
   "metadata": {},
   "outputs": [
    {
     "data": {
      "text/plain": [
       "0    p**************gmail.com\n",
       "1      a************gmail.com\n",
       "2           g*******gmail.com\n",
       "dtype: object"
      ]
     },
     "execution_count": 38,
     "metadata": {},
     "output_type": "execute_result"
    }
   ],
   "source": [
    "emails.apply(mask)"
   ]
  },
  {
   "cell_type": "code",
   "execution_count": 39,
   "id": "e4b98b2f-a5e7-46cd-b700-a2a2eeab1cde",
   "metadata": {},
   "outputs": [],
   "source": [
    "decimal_numbers = pd.Series([12.27,23.5,23.6,12.65,45.13,13.9,12.0,14.2])"
   ]
  },
  {
   "cell_type": "code",
   "execution_count": 40,
   "id": "2bb7484a-c6c8-4241-8a33-0435acfbf263",
   "metadata": {},
   "outputs": [],
   "source": [
    "def modify(st):\n",
    "    lst = st.split('.')\n",
    "    if(st[1]>0 and st[1]<3 ):\n",
    "        st[1] = 0\n",
    "        return st[0]+'.'+st[1]"
   ]
  },
  {
   "cell_type": "code",
   "execution_count": 42,
   "id": "8350bb51-1079-416d-a10b-e8e3a9174fe5",
   "metadata": {},
   "outputs": [],
   "source": [
    "# modify(12.2)  need to solve "
   ]
  },
  {
   "cell_type": "code",
   "execution_count": 44,
   "id": "ef6b63f9-8e03-487c-b46c-ee23cab18b62",
   "metadata": {},
   "outputs": [],
   "source": [
    "discounts = pd.Series([200 , 300 ,500,600] , index = ['apple' , 'banana' , 'cherry', 'orange'])"
   ]
  },
  {
   "cell_type": "code",
   "execution_count": 45,
   "id": "92ad28ce-b260-4a21-bbc7-0d706b573384",
   "metadata": {},
   "outputs": [],
   "source": [
    "new_series = pd.Series([700 , 800] , index = ['apple' , 'banana'])"
   ]
  },
  {
   "cell_type": "code",
   "execution_count": 47,
   "id": "d92ceee7-5fd4-4e4d-93ca-cb87b279af59",
   "metadata": {},
   "outputs": [],
   "source": [
    "discounts = new_series"
   ]
  },
  {
   "cell_type": "code",
   "execution_count": 48,
   "id": "3ef02d65-ebe5-4cb5-9faf-295b43013842",
   "metadata": {},
   "outputs": [
    {
     "data": {
      "text/plain": [
       "apple     700\n",
       "banana    800\n",
       "dtype: int64"
      ]
     },
     "execution_count": 48,
     "metadata": {},
     "output_type": "execute_result"
    }
   ],
   "source": [
    "discounts"
   ]
  },
  {
   "cell_type": "code",
   "execution_count": 51,
   "id": "a5bca5ee-9e9f-43ab-a37b-b97ad0e2199d",
   "metadata": {},
   "outputs": [
    {
     "data": {
      "text/plain": [
       "1    150.000000\n",
       "2     66.666667\n",
       "3    100.000000\n",
       "4    100.000000\n",
       "dtype: float64"
      ]
     },
     "execution_count": 51,
     "metadata": {},
     "output_type": "execute_result"
    }
   ],
   "source": [
    "pd.Series([300 , 200,400,500] , index = [1 ,2,3 ,4]) / pd.Series([2,3,4,5] , index=[1 ,2,3,4])"
   ]
  },
  {
   "cell_type": "code",
   "execution_count": 57,
   "id": "3559e71d-3fba-4de5-b12f-e6879be2a0fb",
   "metadata": {},
   "outputs": [
    {
     "data": {
      "text/plain": [
       "a    2.000000\n",
       "b    1.750000\n",
       "c    1.333333\n",
       "d    2.250000\n",
       "dtype: float64"
      ]
     },
     "execution_count": 57,
     "metadata": {},
     "output_type": "execute_result"
    }
   ],
   "source": [
    "s = pd.Series([6,7,8,9] , index= ['a' ,'b' , 'c' ,'d'])\n",
    "lst = [3,4,6,4]\n",
    "s/lst"
   ]
  },
  {
   "cell_type": "code",
   "execution_count": null,
   "id": "f6572a7e-27de-43b5-bf4c-15a2e2111e44",
   "metadata": {},
   "outputs": [],
   "source": []
  }
 ],
 "metadata": {
  "kernelspec": {
   "display_name": "Python 3 (ipykernel)",
   "language": "python",
   "name": "python3"
  },
  "language_info": {
   "codemirror_mode": {
    "name": "ipython",
    "version": 3
   },
   "file_extension": ".py",
   "mimetype": "text/x-python",
   "name": "python",
   "nbconvert_exporter": "python",
   "pygments_lexer": "ipython3",
   "version": "3.10.7"
  }
 },
 "nbformat": 4,
 "nbformat_minor": 5
}
