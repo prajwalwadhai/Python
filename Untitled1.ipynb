{
 "cells": [
  {
   "cell_type": "markdown",
   "id": "4ac2c0ba-ca51-4fe2-ba64-2bee9224db84",
   "metadata": {},
   "source": [
    "# 1. Print Statements"
   ]
  },
  {
   "cell_type": "code",
   "execution_count": 2,
   "id": "74d016b3-d331-4850-94f6-a6cd3851e298",
   "metadata": {},
   "outputs": [],
   "source": [
    "# print(\"Game of thrones\")"
   ]
  },
  {
   "cell_type": "code",
   "execution_count": 6,
   "id": "78082745-7631-49d4-9cdf-713502ec0c56",
   "metadata": {},
   "outputs": [
    {
     "name": "stdin",
     "output_type": "stream",
     "text": [
      " 88\n",
      " 2\n"
     ]
    }
   ],
   "source": [
    "a = input()\n",
    "b = input()\n"
   ]
  },
  {
   "cell_type": "code",
   "execution_count": 7,
   "id": "af505a73-c47b-4be0-9dd3-8c125ef66d17",
   "metadata": {},
   "outputs": [
    {
     "name": "stdout",
     "output_type": "stream",
     "text": [
      "882\n"
     ]
    }
   ],
   "source": [
    "print(a+b)"
   ]
  },
  {
   "cell_type": "code",
   "execution_count": null,
   "id": "a99036c6-548c-41ca-a855-cbf2dc1d87e6",
   "metadata": {},
   "outputs": [],
   "source": []
  },
  {
   "cell_type": "code",
   "execution_count": null,
   "id": "327501c8-dfb2-4f65-83f2-f218e775a540",
   "metadata": {},
   "outputs": [],
   "source": []
  },
  {
   "cell_type": "code",
   "execution_count": null,
   "id": "d831c675-608f-4266-8653-66cb4dd5f3fb",
   "metadata": {},
   "outputs": [],
   "source": []
  },
  {
   "cell_type": "code",
   "execution_count": null,
   "id": "17ff7198-6ea8-4ba3-b381-044107cdbf7f",
   "metadata": {},
   "outputs": [],
   "source": []
  }
 ],
 "metadata": {
  "kernelspec": {
   "display_name": "Python 3 (ipykernel)",
   "language": "python",
   "name": "python3"
  },
  "language_info": {
   "codemirror_mode": {
    "name": "ipython",
    "version": 3
   },
   "file_extension": ".py",
   "mimetype": "text/x-python",
   "name": "python",
   "nbconvert_exporter": "python",
   "pygments_lexer": "ipython3",
   "version": "3.10.7"
  }
 },
 "nbformat": 4,
 "nbformat_minor": 5
}
