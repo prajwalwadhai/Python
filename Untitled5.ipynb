{
 "cells": [
  {
   "cell_type": "code",
   "execution_count": 1,
   "id": "76be6e7e-f41b-408e-8ba7-b67209d443d1",
   "metadata": {},
   "outputs": [],
   "source": [
    "a = [4,35,3,6,44, 6,7,8]"
   ]
  },
  {
   "cell_type": "code",
   "execution_count": 2,
   "id": "14852ed7-da61-48e4-81cd-ef71eb43c208",
   "metadata": {},
   "outputs": [
    {
     "name": "stdout",
     "output_type": "stream",
     "text": [
      "[3, 6, 44, 6, 7, 8]\n"
     ]
    }
   ],
   "source": [
    "print(a[2:])"
   ]
  },
  {
   "cell_type": "code",
   "execution_count": 3,
   "id": "afa3c9e1-76af-4f39-908c-caf740c0442b",
   "metadata": {},
   "outputs": [
    {
     "name": "stdout",
     "output_type": "stream",
     "text": [
      "[8]\n"
     ]
    }
   ],
   "source": [
    "print(a[-1:])"
   ]
  },
  {
   "cell_type": "code",
   "execution_count": 4,
   "id": "b4419ae3-9e63-4d66-a328-972e7dbc6476",
   "metadata": {},
   "outputs": [
    {
     "name": "stdout",
     "output_type": "stream",
     "text": [
      "[4, 3, 44, 7]\n"
     ]
    }
   ],
   "source": [
    "print(a[::2])"
   ]
  },
  {
   "cell_type": "code",
   "execution_count": 5,
   "id": "68bf3382-2815-41a1-b18c-ebe681bfa2af",
   "metadata": {},
   "outputs": [
    {
     "name": "stdout",
     "output_type": "stream",
     "text": [
      "[4, 35, 3, 6, 44]\n"
     ]
    }
   ],
   "source": [
    "print(a[:5])"
   ]
  },
  {
   "cell_type": "code",
   "execution_count": 6,
   "id": "77d48eab-9110-4966-8fbb-9abc666b46b6",
   "metadata": {},
   "outputs": [
    {
     "name": "stdout",
     "output_type": "stream",
     "text": [
      "[6, 44, 6, 7, 8]\n"
     ]
    }
   ],
   "source": [
    "print(a[-5:])"
   ]
  },
  {
   "cell_type": "code",
   "execution_count": 7,
   "id": "84f1aa85-b597-4583-84d5-09f8532edb6a",
   "metadata": {},
   "outputs": [
    {
     "name": "stdout",
     "output_type": "stream",
     "text": [
      "[35, 6, 6, 8]\n"
     ]
    }
   ],
   "source": [
    "print(a[-7::2])"
   ]
  },
  {
   "cell_type": "code",
   "execution_count": 8,
   "id": "3b940321-6a29-4897-8aa2-3b6850e223ab",
   "metadata": {},
   "outputs": [
    {
     "data": {
      "text/plain": [
       "[3, 46, 7, 44, 46, 4, 53, 35, 3, 35, 3, 5]"
      ]
     },
     "execution_count": 8,
     "metadata": {},
     "output_type": "execute_result"
    }
   ],
   "source": [
    "lst1 = [3,46,7,44,46,4]\n",
    "lst2 = [53,35,3,35,3,5]\n",
    "lst = lst1+lst2\n",
    "lst"
   ]
  },
  {
   "cell_type": "code",
   "execution_count": 9,
   "id": "0e4b50e6-6534-4354-8c0f-e12faf7fe4f6",
   "metadata": {},
   "outputs": [
    {
     "data": {
      "text/plain": [
       "[3, 46, 7, 44, 46, 4, 53, 35, 3, 35, 3, 5, 66]"
      ]
     },
     "execution_count": 9,
     "metadata": {},
     "output_type": "execute_result"
    }
   ],
   "source": [
    "lst + [66]"
   ]
  },
  {
   "cell_type": "code",
   "execution_count": 10,
   "id": "84082bcc-cd37-49b3-a01a-bcc07fd28900",
   "metadata": {},
   "outputs": [
    {
     "name": "stdout",
     "output_type": "stream",
     "text": [
      "[46, 7, 44, 46, 4, 53, 35, 3, 35, 3]\n"
     ]
    }
   ],
   "source": [
    "print(lst[1:-1])"
   ]
  },
  {
   "cell_type": "code",
   "execution_count": 11,
   "id": "dd37f61c-df0e-49e7-8061-e80fa2888827",
   "metadata": {},
   "outputs": [
    {
     "data": {
      "text/plain": [
       "[3, 46, 7, 44, 46, 4, 53, 35, 3, 35, 3, 5]"
      ]
     },
     "execution_count": 11,
     "metadata": {},
     "output_type": "execute_result"
    }
   ],
   "source": [
    "lst"
   ]
  },
  {
   "cell_type": "code",
   "execution_count": 12,
   "id": "2830a801-f96c-486b-b334-897e8c5e4a64",
   "metadata": {},
   "outputs": [
    {
     "name": "stdout",
     "output_type": "stream",
     "text": [
      "[3, 35, 3, 35, 53, 4, 46, 44, 7, 46]\n"
     ]
    }
   ],
   "source": [
    "print(lst[-2:0:-1])"
   ]
  },
  {
   "cell_type": "code",
   "execution_count": 13,
   "id": "be8f84ca-6203-465d-a412-1dad49f45d1e",
   "metadata": {},
   "outputs": [
    {
     "name": "stdout",
     "output_type": "stream",
     "text": [
      "[3, 3, 35, 3, 35, 53, 4, 46, 44, 7, 46, 5]\n"
     ]
    }
   ],
   "source": [
    "print([lst[0]]+lst[-2:0:-1]+[lst[-1]])"
   ]
  },
  {
   "cell_type": "code",
   "execution_count": 14,
   "id": "57f1c560-7ed3-4450-8b1b-e117e8d0096f",
   "metadata": {},
   "outputs": [
    {
     "name": "stdout",
     "output_type": "stream",
     "text": [
      "6\n"
     ]
    },
    {
     "data": {
      "text/plain": [
       "[3, 46, 7, 44, 46, 4, 53, 35, 3, 35, 3, 5]"
      ]
     },
     "execution_count": 14,
     "metadata": {},
     "output_type": "execute_result"
    }
   ],
   "source": [
    "print(lst.index(53))\n",
    "lst"
   ]
  },
  {
   "cell_type": "code",
   "execution_count": 15,
   "id": "9a595f2c-2a19-4296-8638-f72e0da4a8b4",
   "metadata": {},
   "outputs": [
    {
     "data": {
      "text/plain": [
       "9"
      ]
     },
     "execution_count": 15,
     "metadata": {},
     "output_type": "execute_result"
    }
   ],
   "source": [
    "lst.index(35,lst.index(35)+1)"
   ]
  },
  {
   "cell_type": "code",
   "execution_count": 16,
   "id": "ac826555-2799-4532-ade7-91700c776258",
   "metadata": {},
   "outputs": [],
   "source": [
    "lst.append(999)"
   ]
  },
  {
   "cell_type": "code",
   "execution_count": 17,
   "id": "727e92bd-f55b-4b9e-8164-0c554801c4c1",
   "metadata": {},
   "outputs": [
    {
     "data": {
      "text/plain": [
       "[3, 46, 7, 44, 46, 4, 53, 35, 3, 35, 3, 5, 999]"
      ]
     },
     "execution_count": 17,
     "metadata": {},
     "output_type": "execute_result"
    }
   ],
   "source": [
    "lst"
   ]
  },
  {
   "cell_type": "code",
   "execution_count": 18,
   "id": "884d3d8d-f087-49d7-bbe5-e58c59037f34",
   "metadata": {},
   "outputs": [
    {
     "data": {
      "text/plain": [
       "7"
      ]
     },
     "execution_count": 18,
     "metadata": {},
     "output_type": "execute_result"
    }
   ],
   "source": [
    "lst.pop(2)"
   ]
  },
  {
   "cell_type": "code",
   "execution_count": 24,
   "id": "feed5436-1d27-4dc3-bbcc-31b3b0c3e2ac",
   "metadata": {},
   "outputs": [
    {
     "data": {
      "text/plain": [
       "[3, 46, 44, 46, 4, 53, 35, 3, 35, 3, 5, 999]"
      ]
     },
     "execution_count": 24,
     "metadata": {},
     "output_type": "execute_result"
    }
   ],
   "source": [
    "lst"
   ]
  },
  {
   "cell_type": "code",
   "execution_count": 25,
   "id": "df512d6f-cd2d-411a-b2f5-dc4a5231acca",
   "metadata": {},
   "outputs": [
    {
     "ename": "AttributeError",
     "evalue": "'list' object has no attribute 'find'",
     "output_type": "error",
     "traceback": [
      "\u001b[1;31m---------------------------------------------------------------------------\u001b[0m",
      "\u001b[1;31mAttributeError\u001b[0m                            Traceback (most recent call last)",
      "Cell \u001b[1;32mIn[25], line 1\u001b[0m\n\u001b[1;32m----> 1\u001b[0m \u001b[43mlst\u001b[49m\u001b[38;5;241;43m.\u001b[39;49m\u001b[43mfind\u001b[49m(\u001b[38;5;241m44\u001b[39m)\n",
      "\u001b[1;31mAttributeError\u001b[0m: 'list' object has no attribute 'find'"
     ]
    }
   ],
   "source": [
    "lst.find(44)"
   ]
  },
  {
   "cell_type": "code",
   "execution_count": 26,
   "id": "ccb8e29b-5dbd-4554-93c6-02a35cc211f6",
   "metadata": {},
   "outputs": [
    {
     "data": {
      "text/plain": [
       "2"
      ]
     },
     "execution_count": 26,
     "metadata": {},
     "output_type": "execute_result"
    }
   ],
   "source": [
    "lst[::-1].index(3)"
   ]
  },
  {
   "cell_type": "code",
   "execution_count": 27,
   "id": "304f72df-dc6b-44c8-9319-7e3008f388aa",
   "metadata": {},
   "outputs": [
    {
     "name": "stdout",
     "output_type": "stream",
     "text": [
      "[53, 35, 3]\n"
     ]
    }
   ],
   "source": [
    "mid = len(lst)//2\n",
    "print(lst[mid-1:mid+2])"
   ]
  },
  {
   "cell_type": "code",
   "execution_count": 28,
   "id": "40468f84-7153-49d4-a461-eb509b9e503a",
   "metadata": {},
   "outputs": [],
   "source": [
    "lst.sort()"
   ]
  },
  {
   "cell_type": "code",
   "execution_count": 29,
   "id": "be846063-0a0f-43e2-9b33-2820a197729a",
   "metadata": {},
   "outputs": [
    {
     "data": {
      "text/plain": [
       "[3, 3, 3, 4, 5, 35, 35, 44, 46, 46, 53, 999]"
      ]
     },
     "execution_count": 29,
     "metadata": {},
     "output_type": "execute_result"
    }
   ],
   "source": [
    "lst"
   ]
  },
  {
   "cell_type": "code",
   "execution_count": 30,
   "id": "0d398711-a575-4315-a1a3-0899724f4052",
   "metadata": {},
   "outputs": [],
   "source": [
    "lst.sort(reverse=True)"
   ]
  },
  {
   "cell_type": "code",
   "execution_count": 31,
   "id": "2648722e-a404-40f8-bdc3-097437bc90d4",
   "metadata": {},
   "outputs": [
    {
     "data": {
      "text/plain": [
       "[999, 53, 46, 46, 44, 35, 35, 5, 4, 3, 3, 3]"
      ]
     },
     "execution_count": 31,
     "metadata": {},
     "output_type": "execute_result"
    }
   ],
   "source": [
    "lst"
   ]
  },
  {
   "cell_type": "code",
   "execution_count": 32,
   "id": "b8fba349-8a37-4c78-a443-ffa4545df29b",
   "metadata": {},
   "outputs": [],
   "source": [
    "scorse = [33,23,46,7,43,36,77,34]"
   ]
  },
  {
   "cell_type": "code",
   "execution_count": 33,
   "id": "8beb310c-7a71-4049-9949-d0a5b6680ea4",
   "metadata": {},
   "outputs": [
    {
     "data": {
      "text/plain": [
       "[33, 23, 46, 7, 43, 36, 77, 34]"
      ]
     },
     "execution_count": 33,
     "metadata": {},
     "output_type": "execute_result"
    }
   ],
   "source": [
    "scorse"
   ]
  },
  {
   "cell_type": "code",
   "execution_count": 34,
   "id": "1955af3a-5612-4c8a-8f20-7e6b9f66ae96",
   "metadata": {},
   "outputs": [],
   "source": [
    "scorse.sort()"
   ]
  },
  {
   "cell_type": "code",
   "execution_count": 35,
   "id": "9737d178-cbbd-4613-987a-9dcf61194b49",
   "metadata": {},
   "outputs": [
    {
     "data": {
      "text/plain": [
       "[43, 46, 77]"
      ]
     },
     "execution_count": 35,
     "metadata": {},
     "output_type": "execute_result"
    }
   ],
   "source": [
    "scorse[-3:]"
   ]
  },
  {
   "cell_type": "code",
   "execution_count": 36,
   "id": "2154928f-a112-4e92-8636-d4fece6faa10",
   "metadata": {},
   "outputs": [
    {
     "data": {
      "text/plain": [
       "[7, 23, 33, 34, 36, 43, 46, 77]"
      ]
     },
     "execution_count": 36,
     "metadata": {},
     "output_type": "execute_result"
    }
   ],
   "source": [
    "scorse"
   ]
  },
  {
   "cell_type": "code",
   "execution_count": 38,
   "id": "ce88ff39-6add-48f5-8eab-1dba714fe671",
   "metadata": {},
   "outputs": [
    {
     "data": {
      "text/plain": [
       "[7, 23, 33, 34, 36, 43, 46, 77]"
      ]
     },
     "execution_count": 38,
     "metadata": {},
     "output_type": "execute_result"
    }
   ],
   "source": [
    "scorse"
   ]
  },
  {
   "cell_type": "code",
   "execution_count": 39,
   "id": "39d58c63-433d-4906-bb21-69a6ca334623",
   "metadata": {},
   "outputs": [
    {
     "data": {
      "text/plain": [
       "{7, 23, 33, 34, 36, 43, 46, 77}"
      ]
     },
     "execution_count": 39,
     "metadata": {},
     "output_type": "execute_result"
    }
   ],
   "source": [
    "set(scorse)"
   ]
  },
  {
   "cell_type": "code",
   "execution_count": 40,
   "id": "8ffee5a4-8327-48ad-b968-726e7270695b",
   "metadata": {},
   "outputs": [
    {
     "data": {
      "text/plain": [
       "[7, 23, 33, 34, 36, 43, 46, 77]"
      ]
     },
     "execution_count": 40,
     "metadata": {},
     "output_type": "execute_result"
    }
   ],
   "source": [
    "scorse"
   ]
  },
  {
   "cell_type": "code",
   "execution_count": 46,
   "id": "bb5748c6-729c-4a4a-9827-92d2764242ad",
   "metadata": {},
   "outputs": [],
   "source": [
    "students = [\"Prajwal\", \"Ashok\" , \"Wadhai\", \"Mayur\"]\n",
    "marks = [66,36,77,34]"
   ]
  },
  {
   "cell_type": "code",
   "execution_count": 49,
   "id": "276a0c14-237f-46fa-aeab-445b51ec4e93",
   "metadata": {},
   "outputs": [
    {
     "data": {
      "text/plain": [
       "77"
      ]
     },
     "execution_count": 49,
     "metadata": {},
     "output_type": "execute_result"
    }
   ],
   "source": [
    "max(marks)\n"
   ]
  },
  {
   "cell_type": "code",
   "execution_count": 51,
   "id": "361b41e0-e655-4928-86ce-90cd3f0f169e",
   "metadata": {},
   "outputs": [
    {
     "data": {
      "text/plain": [
       "2"
      ]
     },
     "execution_count": 51,
     "metadata": {},
     "output_type": "execute_result"
    }
   ],
   "source": [
    "marks.index(77)"
   ]
  },
  {
   "cell_type": "code",
   "execution_count": 52,
   "id": "bea57f76-bb74-4f7e-8946-0e57ce467595",
   "metadata": {},
   "outputs": [
    {
     "data": {
      "text/plain": [
       "'Wadhai'"
      ]
     },
     "execution_count": 52,
     "metadata": {},
     "output_type": "execute_result"
    }
   ],
   "source": [
    "students[2]"
   ]
  },
  {
   "cell_type": "code",
   "execution_count": 63,
   "id": "c3395cdb-3d67-41f4-a72c-aa3f46d1cb65",
   "metadata": {},
   "outputs": [
    {
     "data": {
      "text/plain": [
       "[('Prajwal', 66), ('Ashok', 55), ('mayyr', 77)]"
      ]
     },
     "execution_count": 63,
     "metadata": {},
     "output_type": "execute_result"
    }
   ],
   "source": [
    "t = [(\"Prajwal\",66) , (\"Ashok\" , 55) , (\"mayyr\", 77) ]\n",
    "t"
   ]
  },
  {
   "cell_type": "code",
   "execution_count": 66,
   "id": "d0f51c0f-5b2f-41a0-882a-382a1c4c56f1",
   "metadata": {},
   "outputs": [],
   "source": [
    "temp = dict(t)"
   ]
  },
  {
   "cell_type": "code",
   "execution_count": 69,
   "id": "1e32e55b-e2e6-42b6-935d-e04c1dfc6a7e",
   "metadata": {},
   "outputs": [
    {
     "data": {
      "text/plain": [
       "55"
      ]
     },
     "execution_count": 69,
     "metadata": {},
     "output_type": "execute_result"
    }
   ],
   "source": [
    "temp[\"Ashok\"]"
   ]
  },
  {
   "cell_type": "code",
   "execution_count": 71,
   "id": "1e3d344b-1631-4d11-a2dd-46ccc25b9784",
   "metadata": {},
   "outputs": [
    {
     "data": {
      "text/plain": [
       "dict_keys(['Prajwal', 'Ashok', 'mayyr'])"
      ]
     },
     "execution_count": 71,
     "metadata": {},
     "output_type": "execute_result"
    }
   ],
   "source": [
    "temp.keys()"
   ]
  },
  {
   "cell_type": "code",
   "execution_count": 72,
   "id": "8ea971f7-6c3f-4689-8e11-ff56df6c24ca",
   "metadata": {},
   "outputs": [
    {
     "data": {
      "text/plain": [
       "dict_values([66, 55, 77])"
      ]
     },
     "execution_count": 72,
     "metadata": {},
     "output_type": "execute_result"
    }
   ],
   "source": [
    "temp.values()"
   ]
  },
  {
   "cell_type": "code",
   "execution_count": 73,
   "id": "ad6db41d-8f5c-456a-9b9a-4e0f65dea7ac",
   "metadata": {},
   "outputs": [
    {
     "data": {
      "text/plain": [
       "dict_values"
      ]
     },
     "execution_count": 73,
     "metadata": {},
     "output_type": "execute_result"
    }
   ],
   "source": [
    "type(temp.values())"
   ]
  },
  {
   "cell_type": "code",
   "execution_count": 74,
   "id": "a4d90f26-8e19-401e-a389-690e0825f484",
   "metadata": {},
   "outputs": [],
   "source": [
    "temp2 = {\"game \": 66 , \"fame\":43}"
   ]
  },
  {
   "cell_type": "code",
   "execution_count": 75,
   "id": "0a9cf338-ee67-4e8b-bcf1-d75eacbda184",
   "metadata": {},
   "outputs": [],
   "source": [
    "temp.update(temp2)"
   ]
  },
  {
   "cell_type": "code",
   "execution_count": 76,
   "id": "72f9301b-4134-45ce-afbe-4a7b9b33a476",
   "metadata": {},
   "outputs": [
    {
     "data": {
      "text/plain": [
       "{'Prajwal': 66, 'Ashok': 55, 'mayyr': 77, 'game ': 66, 'fame': 43}"
      ]
     },
     "execution_count": 76,
     "metadata": {},
     "output_type": "execute_result"
    }
   ],
   "source": [
    "temp"
   ]
  },
  {
   "cell_type": "code",
   "execution_count": null,
   "id": "11173087-fce5-4ece-9aa5-f51a6da36a84",
   "metadata": {},
   "outputs": [],
   "source": []
  }
 ],
 "metadata": {
  "kernelspec": {
   "display_name": "Python 3 (ipykernel)",
   "language": "python",
   "name": "python3"
  },
  "language_info": {
   "codemirror_mode": {
    "name": "ipython",
    "version": 3
   },
   "file_extension": ".py",
   "mimetype": "text/x-python",
   "name": "python",
   "nbconvert_exporter": "python",
   "pygments_lexer": "ipython3",
   "version": "3.10.7"
  }
 },
 "nbformat": 4,
 "nbformat_minor": 5
}
