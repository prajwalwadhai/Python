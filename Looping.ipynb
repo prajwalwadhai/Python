{
 "cells": [
  {
   "cell_type": "code",
   "execution_count": 19,
   "id": "126c8ba8-159c-4d1e-a31c-6f7651188c92",
   "metadata": {},
   "outputs": [],
   "source": [
    "salaries = [300,3000,4000,4500]\n",
    "name = [\"Prajwal\" , \"Ashok\" , \"Prabhat\" , \"Mayur\"]"
   ]
  },
  {
   "cell_type": "code",
   "execution_count": 20,
   "id": "91a6a48c-dd1c-4f23-b32b-e0bf08e8dd58",
   "metadata": {},
   "outputs": [],
   "source": [
    "emp_name = \"Ashok\""
   ]
  },
  {
   "cell_type": "code",
   "execution_count": 21,
   "id": "7c67185d-974b-4646-a38e-bcc64dcd520e",
   "metadata": {},
   "outputs": [
    {
     "data": {
      "text/plain": [
       "1"
      ]
     },
     "execution_count": 21,
     "metadata": {},
     "output_type": "execute_result"
    }
   ],
   "source": [
    "name.index(emp_name)"
   ]
  },
  {
   "cell_type": "code",
   "execution_count": 22,
   "id": "4a308210-e9f6-45c6-95e1-991dffc2c987",
   "metadata": {},
   "outputs": [
    {
     "data": {
      "text/plain": [
       "3000"
      ]
     },
     "execution_count": 22,
     "metadata": {},
     "output_type": "execute_result"
    }
   ],
   "source": [
    "salaries[name.index(emp_name)]"
   ]
  },
  {
   "cell_type": "code",
   "execution_count": 25,
   "id": "cf495f9e-337a-428e-ba58-32798ab39eaa",
   "metadata": {},
   "outputs": [
    {
     "name": "stdout",
     "output_type": "stream",
     "text": [
      "300\n",
      "3000\n",
      "4000\n",
      "4500\n"
     ]
    }
   ],
   "source": [
    "idx =0\n",
    "for i in salaries:\n",
    "    print(salaries[idx])\n",
    "    idx =idx+1"
   ]
  },
  {
   "cell_type": "code",
   "execution_count": 29,
   "id": "1bdfe779-2046-424c-b05b-badd577e3066",
   "metadata": {},
   "outputs": [
    {
     "name": "stdout",
     "output_type": "stream",
     "text": [
      "* \n",
      "* \n",
      "* \n",
      "* \n"
     ]
    }
   ],
   "source": [
    "count =5\n",
    "num =0\n",
    "for i in salaries:\n",
    "    print(\"* \")"
   ]
  },
  {
   "cell_type": "code",
   "execution_count": 1,
   "id": "2d618e54-ed32-40dc-84dc-ce0293ccf080",
   "metadata": {},
   "outputs": [],
   "source": [
    "distance = [44 ,120,230,30,555,39,99]"
   ]
  },
  {
   "cell_type": "code",
   "execution_count": 28,
   "id": "cf23b958-b1c2-412f-9185-301cd156e734",
   "metadata": {},
   "outputs": [],
   "source": [
    "new_distance= []\n",
    "for i in distance:\n",
    "    if(i>=100):\n",
    "        new_distance.append(i)\n"
   ]
  },
  {
   "cell_type": "code",
   "execution_count": 29,
   "id": "557a2bf4-5355-4567-af5c-d309a09c2f0c",
   "metadata": {},
   "outputs": [
    {
     "data": {
      "text/plain": [
       "[120, 230, 555]"
      ]
     },
     "execution_count": 29,
     "metadata": {},
     "output_type": "execute_result"
    }
   ],
   "source": [
    "new_distance"
   ]
  },
  {
   "cell_type": "code",
   "execution_count": 30,
   "id": "6cd458ed-4ec9-4adf-9901-411bb1faea3d",
   "metadata": {},
   "outputs": [
    {
     "name": "stdout",
     "output_type": "stream",
     "text": [
      "44\n"
     ]
    }
   ],
   "source": [
    "print(\"44\")"
   ]
  },
  {
   "cell_type": "code",
   "execution_count": 33,
   "id": "f79c4ab8-3c2a-4707-95db-430996904084",
   "metadata": {},
   "outputs": [],
   "source": [
    "\n",
    "numbers = [1, 2, 3, -4, 5]\n",
    "\n",
    "# GIven a list find the sum of numbers until a negative number comes.\n",
    "num=0\n",
    "for i in numbers:\n",
    "    if(i >0):\n",
    "        num = i+num\n",
    "    else:\n",
    "        break;"
   ]
  },
  {
   "cell_type": "code",
   "execution_count": 34,
   "id": "b62926a6-1ddc-4d7c-9226-2bc1d30115f1",
   "metadata": {},
   "outputs": [
    {
     "data": {
      "text/plain": [
       "6"
      ]
     },
     "execution_count": 34,
     "metadata": {},
     "output_type": "execute_result"
    }
   ],
   "source": [
    "num"
   ]
  },
  {
   "cell_type": "code",
   "execution_count": 37,
   "id": "bba7aac8-d818-42e6-9b92-e225916d5a0e",
   "metadata": {},
   "outputs": [],
   "source": [
    "names =['Gafp' , 'Ydfa','tdaf', 'Odfa','udfa','Pdfasdf']\n",
    "cap_names= []"
   ]
  },
  {
   "cell_type": "code",
   "execution_count": 42,
   "id": "04e213d5-ccfe-4ce3-8790-cd07226c4334",
   "metadata": {},
   "outputs": [],
   "source": [
    "idx = 0\n",
    "for i in names:\n",
    "    if(i[0].isupper()):\n",
    "        cap_names.append(i)\n",
    "    "
   ]
  },
  {
   "cell_type": "code",
   "execution_count": 43,
   "id": "492353ec-82f0-4789-8735-f9831f34d500",
   "metadata": {},
   "outputs": [
    {
     "data": {
      "text/plain": [
       "['Gafp', 'Ydfa', 'Odfa', 'Pdfasdf']"
      ]
     },
     "execution_count": 43,
     "metadata": {},
     "output_type": "execute_result"
    }
   ],
   "source": [
    "cap_names\n"
   ]
  },
  {
   "cell_type": "code",
   "execution_count": 48,
   "id": "7929ebcc-c82a-4454-b054-9c5955fb9a22",
   "metadata": {},
   "outputs": [
    {
     "name": "stdout",
     "output_type": "stream",
     "text": [
      "0\n",
      "1\n",
      "3\n",
      "5\n"
     ]
    }
   ],
   "source": [
    "for idx , i in enumerate(names):\n",
    "    if(i[0].isupper()):\n",
    "        print(idx)"
   ]
  },
  {
   "cell_type": "code",
   "execution_count": null,
   "id": "6e6477aa-43f8-4ebb-93e5-e0b4f9a7dcf5",
   "metadata": {},
   "outputs": [],
   "source": []
  }
 ],
 "metadata": {
  "kernelspec": {
   "display_name": "Python 3 (ipykernel)",
   "language": "python",
   "name": "python3"
  },
  "language_info": {
   "codemirror_mode": {
    "name": "ipython",
    "version": 3
   },
   "file_extension": ".py",
   "mimetype": "text/x-python",
   "name": "python",
   "nbconvert_exporter": "python",
   "pygments_lexer": "ipython3",
   "version": "3.10.7"
  }
 },
 "nbformat": 4,
 "nbformat_minor": 5
}
