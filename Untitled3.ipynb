{
 "cells": [
  {
   "cell_type": "code",
   "execution_count": 5,
   "id": "b9f2eb1f-3bad-4781-b7fa-d44768b8b1ef",
   "metadata": {},
   "outputs": [
    {
     "name": "stdout",
     "output_type": "stream",
     "text": [
      "el\n"
     ]
    }
   ],
   "source": [
    "a = 'Hello'\n",
    "print(a[1]+a[2])\n"
   ]
  },
  {
   "cell_type": "code",
   "execution_count": null,
   "id": "25e103ec-701d-4e02-a08c-5dd9eda89a51",
   "metadata": {},
   "outputs": [],
   "source": []
  }
 ],
 "metadata": {
  "kernelspec": {
   "display_name": "Python 3 (ipykernel)",
   "language": "python",
   "name": "python3"
  },
  "language_info": {
   "codemirror_mode": {
    "name": "ipython",
    "version": 3
   },
   "file_extension": ".py",
   "mimetype": "text/x-python",
   "name": "python",
   "nbconvert_exporter": "python",
   "pygments_lexer": "ipython3",
   "version": "3.10.7"
  }
 },
 "nbformat": 4,
 "nbformat_minor": 5
}
