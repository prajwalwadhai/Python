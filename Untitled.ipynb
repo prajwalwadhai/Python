{
 "cells": [
  {
   "cell_type": "code",
   "execution_count": 3,
   "id": "73482305-d44c-433b-8268-6ae23b500fba",
   "metadata": {},
   "outputs": [],
   "source": [
    "account_details = {\"001102\":{\"balance\": 1003, \"status\": \"active\"}, \"001112\": {\"balance\": 10000, \"status\": \"active\"}, \n",
    "\n",
    "\"00011100\": {\"balance\": 500, \"status\": \"not-active\"}}\n",
    "\n",
    "# Write a code where you take account number as input and check the following:\n",
    "\n",
    "# if account is active print the balance otherwise print it is not active\n",
    "\n",
    "# if account doesnot exist print account does not exist"
   ]
  },
  {
   "cell_type": "code",
   "execution_count": 9,
   "id": "3868e8f3-ac95-4d9f-ad84-c6eb420356c2",
   "metadata": {},
   "outputs": [
    {
     "name": "stdin",
     "output_type": "stream",
     "text": [
      " 001102\n"
     ]
    },
    {
     "ename": "NameError",
     "evalue": "name 'status' is not defined",
     "output_type": "error",
     "traceback": [
      "\u001b[1;31m---------------------------------------------------------------------------\u001b[0m",
      "\u001b[1;31mNameError\u001b[0m                                 Traceback (most recent call last)",
      "Cell \u001b[1;32mIn[9], line 2\u001b[0m\n\u001b[0;32m      1\u001b[0m num \u001b[38;5;241m=\u001b[39m \u001b[38;5;28minput\u001b[39m()\n\u001b[1;32m----> 2\u001b[0m \u001b[38;5;28;01mif\u001b[39;00m(account_details[num[\u001b[43mstatus\u001b[49m]] \u001b[38;5;241m==\u001b[39m \u001b[38;5;124m\"\u001b[39m\u001b[38;5;124mactive\u001b[39m\u001b[38;5;124m\"\u001b[39m):\n\u001b[0;32m      3\u001b[0m     \u001b[38;5;28mprint\u001b[39m(balance)\n\u001b[0;32m      4\u001b[0m \u001b[38;5;28;01melif\u001b[39;00m(account_details[num[status]]\u001b[38;5;241m==\u001b[39m\u001b[38;5;124m\"\u001b[39m\u001b[38;5;124mnot-active\u001b[39m\u001b[38;5;124m\"\u001b[39m):\n",
      "\u001b[1;31mNameError\u001b[0m: name 'status' is not defined"
     ]
    }
   ],
   "source": [
    "num = input()\n",
    "if(account_details[num] == \"active\"):\n",
    "    print(balance)\n",
    "elif(account_details[num]==\"not-active\"):\n",
    "    print(status)\n",
    "else:\n",
    "    print(\"Accoount not exist\")"
   ]
  },
  {
   "cell_type": "code",
   "execution_count": 1,
   "id": "fa17196f-6d9f-4807-bbb3-9bb431379200",
   "metadata": {},
   "outputs": [
    {
     "name": "stdin",
     "output_type": "stream",
     "text": [
      " 44\n"
     ]
    },
    {
     "name": "stdout",
     "output_type": "stream",
     "text": [
      "44\n"
     ]
    }
   ],
   "source": [
    "a = input()\n",
    "print(a)"
   ]
  },
  {
   "cell_type": "code",
   "execution_count": null,
   "id": "98ddabee-7716-461a-b7a0-f75ec92d790f",
   "metadata": {},
   "outputs": [],
   "source": []
  }
 ],
 "metadata": {
  "kernelspec": {
   "display_name": "Python 3 (ipykernel)",
   "language": "python",
   "name": "python3"
  },
  "language_info": {
   "codemirror_mode": {
    "name": "ipython",
    "version": 3
   },
   "file_extension": ".py",
   "mimetype": "text/x-python",
   "name": "python",
   "nbconvert_exporter": "python",
   "pygments_lexer": "ipython3",
   "version": "3.10.7"
  }
 },
 "nbformat": 4,
 "nbformat_minor": 5
}
